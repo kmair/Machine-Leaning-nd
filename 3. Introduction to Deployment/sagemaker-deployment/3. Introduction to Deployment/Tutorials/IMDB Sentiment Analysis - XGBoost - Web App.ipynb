{
 "cells": [
  {
   "cell_type": "markdown",
   "metadata": {},
   "source": [
    "# Sentiment Analysis Web App\n",
    "\n",
    "_Deep Learning Nanodegree Program | Deployment_\n",
    "\n",
    "---\n",
    "\n",
    "In this notebook we will use Amazon's SageMaker service to construct a random tree model to predict the sentiment of a movie review. In addition, we will deploy this model to an endpoint and construct a very simple web app which will interact with our model's deployed endpoint.\n",
    "\n",
    "## General Outline\n",
    "\n",
    "Typically, when using a notebook instance with SageMaker, you will proceed through the following steps. Of course, not every step will need to be done with each project. Also, there is quite a lot of room for variation in many of the steps, as you will see throughout these lessons.\n",
    "\n",
    "1. Download or otherwise retrieve the data.\n",
    "2. Process / Prepare the data.\n",
    "3. Upload the processed data to S3.\n",
    "4. Train a chosen model.\n",
    "5. Test the trained model (typically using a batch transform job).\n",
    "6. Deploy the trained model.\n",
    "7. Use the deployed model.\n",
    "\n",
    "In this notebook we will progress through each of the steps above. We will also see that the final step, using the deployed model, can be quite challenging."
   ]
  },
  {
   "cell_type": "markdown",
   "metadata": {},
   "source": [
    "## Step 1: Downloading the data\n",
    "\n",
    "The dataset we are going to use is very popular among researchers in Natural Language Processing, usually referred to as the [IMDb dataset](http://ai.stanford.edu/~amaas/data/sentiment/). It consists of movie reviews from the website [imdb.com](http://www.imdb.com/), each labeled as either '**pos**itive', if the reviewer enjoyed the film, or '**neg**ative' otherwise.\n",
    "\n",
    "> Maas, Andrew L., et al. [Learning Word Vectors for Sentiment Analysis](http://ai.stanford.edu/~amaas/data/sentiment/). In _Proceedings of the 49th Annual Meeting of the Association for Computational Linguistics: Human Language Technologies_. Association for Computational Linguistics, 2011.\n",
    "\n",
    "We begin by using some Jupyter Notebook magic to download and extract the dataset."
   ]
  },
  {
   "cell_type": "code",
   "execution_count": 1,
   "metadata": {},
   "outputs": [
    {
     "name": "stdout",
     "output_type": "stream",
     "text": [
      "mkdir: cannot create directory ‘../data’: File exists\n",
      "--2020-07-19 16:42:07--  http://ai.stanford.edu/~amaas/data/sentiment/aclImdb_v1.tar.gz\n",
      "Resolving ai.stanford.edu (ai.stanford.edu)... 171.64.68.10\n",
      "Connecting to ai.stanford.edu (ai.stanford.edu)|171.64.68.10|:80... connected.\n",
      "HTTP request sent, awaiting response... 200 OK\n",
      "Length: 84125825 (80M) [application/x-gzip]\n",
      "Saving to: ‘../data/aclImdb_v1.tar.gz’\n",
      "\n",
      "../data/aclImdb_v1. 100%[===================>]  80.23M  23.2MB/s    in 4.7s    \n",
      "\n",
      "2020-07-19 16:42:11 (16.9 MB/s) - ‘../data/aclImdb_v1.tar.gz’ saved [84125825/84125825]\n",
      "\n"
     ]
    }
   ],
   "source": [
    "%mkdir ../data\n",
    "!wget -O ../data/aclImdb_v1.tar.gz http://ai.stanford.edu/~amaas/data/sentiment/aclImdb_v1.tar.gz\n",
    "!tar -zxf ../data/aclImdb_v1.tar.gz -C ../data"
   ]
  },
  {
   "cell_type": "markdown",
   "metadata": {},
   "source": [
    "## Step 2: Preparing and Processing the data\n",
    "\n",
    "The data we have downloaded is split into various files, each of which contains a single review. It will be much easier going forward if we combine these individual files into two large files, one for training and one for testing."
   ]
  },
  {
   "cell_type": "code",
   "execution_count": 2,
   "metadata": {},
   "outputs": [],
   "source": [
    "import os\n",
    "import glob\n",
    "\n",
    "def read_imdb_data(data_dir='../data/aclImdb'):\n",
    "    data = {}\n",
    "    labels = {}\n",
    "    \n",
    "    for data_type in ['train', 'test']:\n",
    "        data[data_type] = {}\n",
    "        labels[data_type] = {}\n",
    "        \n",
    "        for sentiment in ['pos', 'neg']:\n",
    "            data[data_type][sentiment] = []\n",
    "            labels[data_type][sentiment] = []\n",
    "            \n",
    "            path = os.path.join(data_dir, data_type, sentiment, '*.txt')\n",
    "            files = glob.glob(path)\n",
    "            \n",
    "            for f in files:\n",
    "                with open(f) as review:\n",
    "                    data[data_type][sentiment].append(review.read())\n",
    "                    # Here we represent a positive review by '1' and a negative review by '0'\n",
    "                    labels[data_type][sentiment].append(1 if sentiment == 'pos' else 0)\n",
    "                    \n",
    "            assert len(data[data_type][sentiment]) == len(labels[data_type][sentiment]), \\\n",
    "                    \"{}/{} data size does not match labels size\".format(data_type, sentiment)\n",
    "                \n",
    "    return data, labels"
   ]
  },
  {
   "cell_type": "code",
   "execution_count": 3,
   "metadata": {},
   "outputs": [
    {
     "name": "stdout",
     "output_type": "stream",
     "text": [
      "IMDB reviews: train = 12500 pos / 12500 neg, test = 12500 pos / 12500 neg\n"
     ]
    }
   ],
   "source": [
    "data, labels = read_imdb_data()\n",
    "print(\"IMDB reviews: train = {} pos / {} neg, test = {} pos / {} neg\".format(\n",
    "            len(data['train']['pos']), len(data['train']['neg']),\n",
    "            len(data['test']['pos']), len(data['test']['neg'])))"
   ]
  },
  {
   "cell_type": "code",
   "execution_count": 4,
   "metadata": {},
   "outputs": [],
   "source": [
    "from sklearn.utils import shuffle\n",
    "\n",
    "def prepare_imdb_data(data, labels):\n",
    "    \"\"\"Prepare training and test sets from IMDb movie reviews.\"\"\"\n",
    "    \n",
    "    #Combine positive and negative reviews and labels\n",
    "    data_train = data['train']['pos'] + data['train']['neg']\n",
    "    data_test = data['test']['pos'] + data['test']['neg']\n",
    "    labels_train = labels['train']['pos'] + labels['train']['neg']\n",
    "    labels_test = labels['test']['pos'] + labels['test']['neg']\n",
    "    \n",
    "    #Shuffle reviews and corresponding labels within training and test sets\n",
    "    data_train, labels_train = shuffle(data_train, labels_train)\n",
    "    data_test, labels_test = shuffle(data_test, labels_test)\n",
    "    \n",
    "    # Return a unified training data, test data, training labels, test labets\n",
    "    return data_train, data_test, labels_train, labels_test"
   ]
  },
  {
   "cell_type": "code",
   "execution_count": 5,
   "metadata": {},
   "outputs": [
    {
     "name": "stdout",
     "output_type": "stream",
     "text": [
      "IMDb reviews (combined): train = 25000, test = 25000\n"
     ]
    }
   ],
   "source": [
    "train_X, test_X, train_y, test_y = prepare_imdb_data(data, labels)\n",
    "print(\"IMDb reviews (combined): train = {}, test = {}\".format(len(train_X), len(test_X)))"
   ]
  },
  {
   "cell_type": "code",
   "execution_count": 6,
   "metadata": {},
   "outputs": [
    {
     "data": {
      "text/plain": [
       "\"I first saw the trailer for Frailty on Yahoo Movies way back in the day, after hearing Stephen King praise it to high heaven. Not really a fan of either star, I still wanted to see it because I'm a huge thriller fan.<br /><br />I was not disappointed. The acting was superb, especially from the two young boys. Usually I loathe child actors, but Young Adam and Young Fenton were excellent. Bill Paxton really did a good job of directing it too. It was beautifully shot.<br /><br />One must also note the plot twists. The three twists at the end hit hard and fast, and I didn't see them coming. The final twist of the film, coupled with the gravity of what had just been revealed, gives me chills to this day, even though I've re-watched the film so many times.<br /><br />A true gem.\""
      ]
     },
     "execution_count": 6,
     "metadata": {},
     "output_type": "execute_result"
    }
   ],
   "source": [
    "train_X[100]"
   ]
  },
  {
   "cell_type": "markdown",
   "metadata": {},
   "source": [
    "## Processing the data\n",
    "\n",
    "Now that we have our training and testing datasets merged and ready to use, we need to start processing the raw data into something that will be useable by our machine learning algorithm. To begin with, we remove any html formatting and any non-alpha numeric characters that may appear in the reviews. We will do this in a very simplistic way using Python's regular expression module. We will discuss the reason for this rather simplistic pre-processing later on."
   ]
  },
  {
   "cell_type": "code",
   "execution_count": 7,
   "metadata": {},
   "outputs": [],
   "source": [
    "import re\n",
    "\n",
    "REPLACE_NO_SPACE = re.compile(\"(\\.)|(\\;)|(\\:)|(\\!)|(\\')|(\\?)|(\\,)|(\\\")|(\\()|(\\))|(\\[)|(\\])\")\n",
    "REPLACE_WITH_SPACE = re.compile(\"(<br\\s*/><br\\s*/>)|(\\-)|(\\/)\")\n",
    "\n",
    "def review_to_words(review):\n",
    "    words = REPLACE_NO_SPACE.sub(\"\", review.lower())\n",
    "    words = REPLACE_WITH_SPACE.sub(\" \", words)\n",
    "    return words"
   ]
  },
  {
   "cell_type": "code",
   "execution_count": 8,
   "metadata": {},
   "outputs": [
    {
     "data": {
      "text/plain": [
       "'i first saw the trailer for frailty on yahoo movies way back in the day after hearing stephen king praise it to high heaven not really a fan of either star i still wanted to see it because im a huge thriller fan i was not disappointed the acting was superb especially from the two young boys usually i loathe child actors but young adam and young fenton were excellent bill paxton really did a good job of directing it too it was beautifully shot one must also note the plot twists the three twists at the end hit hard and fast and i didnt see them coming the final twist of the film coupled with the gravity of what had just been revealed gives me chills to this day even though ive re watched the film so many times a true gem'"
      ]
     },
     "execution_count": 8,
     "metadata": {},
     "output_type": "execute_result"
    }
   ],
   "source": [
    "review_to_words(train_X[100])"
   ]
  },
  {
   "cell_type": "code",
   "execution_count": 9,
   "metadata": {},
   "outputs": [],
   "source": [
    "import pickle\n",
    "\n",
    "cache_dir = os.path.join(\"../cache\", \"sentiment_web_app\")  # where to store cache files\n",
    "os.makedirs(cache_dir, exist_ok=True)  # ensure cache directory exists\n",
    "\n",
    "def preprocess_data(data_train, data_test, labels_train, labels_test,\n",
    "                    cache_dir=cache_dir, cache_file=\"preprocessed_data.pkl\"):\n",
    "    \"\"\"Convert each review to words; read from cache if available.\"\"\"\n",
    "\n",
    "    # If cache_file is not None, try to read from it first\n",
    "    cache_data = None\n",
    "    if cache_file is not None:\n",
    "        try:\n",
    "            with open(os.path.join(cache_dir, cache_file), \"rb\") as f:\n",
    "                cache_data = pickle.load(f)\n",
    "            print(\"Read preprocessed data from cache file:\", cache_file)\n",
    "        except:\n",
    "            pass  # unable to read from cache, but that's okay\n",
    "    \n",
    "    # If cache is missing, then do the heavy lifting\n",
    "    if cache_data is None:\n",
    "        # Preprocess training and test data to obtain words for each review\n",
    "        #words_train = list(map(review_to_words, data_train))\n",
    "        #words_test = list(map(review_to_words, data_test))\n",
    "        words_train = [review_to_words(review) for review in data_train]\n",
    "        words_test = [review_to_words(review) for review in data_test]\n",
    "        \n",
    "        # Write to cache file for future runs\n",
    "        if cache_file is not None:\n",
    "            cache_data = dict(words_train=words_train, words_test=words_test,\n",
    "                              labels_train=labels_train, labels_test=labels_test)\n",
    "            with open(os.path.join(cache_dir, cache_file), \"wb\") as f:\n",
    "                pickle.dump(cache_data, f)\n",
    "            print(\"Wrote preprocessed data to cache file:\", cache_file)\n",
    "    else:\n",
    "        # Unpack data loaded from cache file\n",
    "        words_train, words_test, labels_train, labels_test = (cache_data['words_train'],\n",
    "                cache_data['words_test'], cache_data['labels_train'], cache_data['labels_test'])\n",
    "    \n",
    "    return words_train, words_test, labels_train, labels_test"
   ]
  },
  {
   "cell_type": "code",
   "execution_count": 10,
   "metadata": {},
   "outputs": [
    {
     "name": "stdout",
     "output_type": "stream",
     "text": [
      "Wrote preprocessed data to cache file: preprocessed_data.pkl\n"
     ]
    }
   ],
   "source": [
    "# Preprocess data\n",
    "train_X, test_X, train_y, test_y = preprocess_data(train_X, test_X, train_y, test_y)"
   ]
  },
  {
   "cell_type": "markdown",
   "metadata": {},
   "source": [
    "### Extract Bag-of-Words features\n",
    "\n",
    "For the model we will be implementing, rather than using the reviews directly, we are going to transform each review into a Bag-of-Words feature representation. Keep in mind that 'in the wild' we will only have access to the training set so our transformer can only use the training set to construct a representation."
   ]
  },
  {
   "cell_type": "code",
   "execution_count": 11,
   "metadata": {},
   "outputs": [
    {
     "name": "stderr",
     "output_type": "stream",
     "text": [
      "/home/ec2-user/anaconda3/envs/python3/lib/python3.6/site-packages/sklearn/externals/joblib/__init__.py:15: FutureWarning: sklearn.externals.joblib is deprecated in 0.21 and will be removed in 0.23. Please import this functionality directly from joblib, which can be installed with: pip install joblib. If this warning is raised when loading pickled models, you may need to re-serialize those models with scikit-learn 0.21+.\n",
      "  warnings.warn(msg, category=FutureWarning)\n"
     ]
    }
   ],
   "source": [
    "import numpy as np\n",
    "from sklearn.feature_extraction.text import CountVectorizer\n",
    "from sklearn.externals import joblib\n",
    "# joblib is an enhanced version of pickle that is more efficient for storing NumPy arrays\n",
    "\n",
    "def extract_BoW_features(words_train, words_test, vocabulary_size=5000,\n",
    "                         cache_dir=cache_dir, cache_file=\"bow_features.pkl\"):\n",
    "    \"\"\"Extract Bag-of-Words for a given set of documents, already preprocessed into words.\"\"\"\n",
    "    \n",
    "    # If cache_file is not None, try to read from it first\n",
    "    cache_data = None\n",
    "    if cache_file is not None:\n",
    "        try:\n",
    "            with open(os.path.join(cache_dir, cache_file), \"rb\") as f:\n",
    "                cache_data = joblib.load(f)\n",
    "            print(\"Read features from cache file:\", cache_file)\n",
    "        except:\n",
    "            pass  # unable to read from cache, but that's okay\n",
    "    \n",
    "    # If cache is missing, then do the heavy lifting\n",
    "    if cache_data is None:\n",
    "        # Fit a vectorizer to training documents and use it to transform them\n",
    "        # NOTE: Training documents have already been preprocessed and tokenized into words;\n",
    "        #       pass in dummy functions to skip those steps, e.g. preprocessor=lambda x: x\n",
    "        vectorizer = CountVectorizer(max_features=vocabulary_size)\n",
    "        features_train = vectorizer.fit_transform(words_train).toarray()\n",
    "\n",
    "        # Apply the same vectorizer to transform the test documents (ignore unknown words)\n",
    "        features_test = vectorizer.transform(words_test).toarray()\n",
    "        \n",
    "        # NOTE: Remember to convert the features using .toarray() for a compact representation\n",
    "        \n",
    "        # Write to cache file for future runs (store vocabulary as well)\n",
    "        if cache_file is not None:\n",
    "            vocabulary = vectorizer.vocabulary_\n",
    "            cache_data = dict(features_train=features_train, features_test=features_test,\n",
    "                             vocabulary=vocabulary)\n",
    "            with open(os.path.join(cache_dir, cache_file), \"wb\") as f:\n",
    "                joblib.dump(cache_data, f)\n",
    "            print(\"Wrote features to cache file:\", cache_file)\n",
    "    else:\n",
    "        # Unpack data loaded from cache file\n",
    "        features_train, features_test, vocabulary = (cache_data['features_train'],\n",
    "                cache_data['features_test'], cache_data['vocabulary'])\n",
    "    \n",
    "    # Return both the extracted features as well as the vocabulary\n",
    "    return features_train, features_test, vocabulary"
   ]
  },
  {
   "cell_type": "code",
   "execution_count": 12,
   "metadata": {},
   "outputs": [
    {
     "name": "stdout",
     "output_type": "stream",
     "text": [
      "Wrote features to cache file: bow_features.pkl\n"
     ]
    }
   ],
   "source": [
    "# Extract Bag of Words features for both training and test datasets\n",
    "train_X, test_X, vocabulary = extract_BoW_features(train_X, test_X)"
   ]
  },
  {
   "cell_type": "code",
   "execution_count": 13,
   "metadata": {},
   "outputs": [
    {
     "data": {
      "text/plain": [
       "5000"
      ]
     },
     "execution_count": 13,
     "metadata": {},
     "output_type": "execute_result"
    }
   ],
   "source": [
    "len(train_X[100])"
   ]
  },
  {
   "cell_type": "markdown",
   "metadata": {},
   "source": [
    "## Step 3: Upload data to S3\n",
    "\n",
    "Now that we have created the feature representation of our training (and testing) data, it is time to start setting up and using the XGBoost classifier provided by SageMaker.\n",
    "\n",
    "### Writing the datasets\n",
    "\n",
    "The XGBoost classifier that we will be using requires the dataset to be written to a file and stored using Amazon S3. To do this, we will start by splitting the training dataset into two parts, the data we will train the model with and a validation set. Then, we will write those datasets to a file locally and then upload the files to S3. In addition, we will write the test set to a file and upload that file to S3. This is so that we can use SageMakers Batch Transform functionality to test our model once we've fit it."
   ]
  },
  {
   "cell_type": "code",
   "execution_count": 14,
   "metadata": {},
   "outputs": [],
   "source": [
    "import pandas as pd\n",
    "\n",
    "# Earlier we shuffled the training dataset so to make things simple we can just assign\n",
    "# the first 10 000 reviews to the validation set and use the remaining reviews for training.\n",
    "val_X = pd.DataFrame(train_X[:10000])\n",
    "train_X = pd.DataFrame(train_X[10000:])\n",
    "\n",
    "val_y = pd.DataFrame(train_y[:10000])\n",
    "train_y = pd.DataFrame(train_y[10000:])"
   ]
  },
  {
   "cell_type": "markdown",
   "metadata": {},
   "source": [
    "The documentation for the XGBoost algorithm in SageMaker requires that the training and validation datasets should contain no headers or index and that the label should occur first for each sample.\n",
    "\n",
    "For more information about this and other algorithms, the SageMaker developer documentation can be found on __[Amazon's website.](https://docs.aws.amazon.com/sagemaker/latest/dg/)__"
   ]
  },
  {
   "cell_type": "code",
   "execution_count": 15,
   "metadata": {},
   "outputs": [],
   "source": [
    "# First we make sure that the local directory in which we'd like to store the training and validation csv files exists.\n",
    "data_dir = '../data/sentiment_web_app'\n",
    "if not os.path.exists(data_dir):\n",
    "    os.makedirs(data_dir)"
   ]
  },
  {
   "cell_type": "code",
   "execution_count": 16,
   "metadata": {},
   "outputs": [],
   "source": [
    "pd.DataFrame(test_X).to_csv(os.path.join(data_dir, 'test.csv'), header=False, index=False)\n",
    "\n",
    "pd.concat([val_y, val_X], axis=1).to_csv(os.path.join(data_dir, 'validation.csv'), header=False, index=False)\n",
    "pd.concat([train_y, train_X], axis=1).to_csv(os.path.join(data_dir, 'train.csv'), header=False, index=False)"
   ]
  },
  {
   "cell_type": "code",
   "execution_count": 17,
   "metadata": {},
   "outputs": [],
   "source": [
    "# To save a bit of memory we can set text_X, train_X, val_X, train_y and val_y to None.\n",
    "\n",
    "test_X = train_X = val_X = train_y = val_y = None"
   ]
  },
  {
   "cell_type": "markdown",
   "metadata": {},
   "source": [
    "### Uploading Training / Validation files to S3\n",
    "\n",
    "Amazon's S3 service allows us to store files that can be accessed by both the built-in training models such as the XGBoost model we will be using as well as custom models such as the one we will see a little later.\n",
    "\n",
    "For this and most other tasks we will be doing using SageMaker, there are two methods we could use. The first is to use the low level functionality of SageMaker which requires knowing each of the objects involved in the SageMaker environment. The second is to use the high level functionality in which certain choices have been made on the user's behalf. The low level approach benefits from allowing the user a great deal of flexibility while the high level approach makes development much quicker. For our purposes we will opt to use the high level approach although using the low-level approach is certainly an option.\n",
    "\n",
    "Recall the method `upload_data()` which is a member of the object representing our current SageMaker session. What this method does is upload the data to the default bucket (which is created if it does not exist) into the path described by the key_prefix variable. To see this for yourself, once you have uploaded the data files, go to the S3 console and look to see where the files have been uploaded.\n",
    "\n",
    "For additional resources, see the __[SageMaker API documentation](http://sagemaker.readthedocs.io/en/latest/)__ and in addition the __[SageMaker Developer Guide.](https://docs.aws.amazon.com/sagemaker/latest/dg/)__"
   ]
  },
  {
   "cell_type": "code",
   "execution_count": 18,
   "metadata": {},
   "outputs": [],
   "source": [
    "import sagemaker\n",
    "\n",
    "session = sagemaker.Session() # Store the current SageMaker session\n",
    "\n",
    "# S3 prefix (which folder will we use)\n",
    "prefix = 'sentiment-web-app'\n",
    "\n",
    "test_location = session.upload_data(os.path.join(data_dir, 'test.csv'), key_prefix=prefix)\n",
    "val_location = session.upload_data(os.path.join(data_dir, 'validation.csv'), key_prefix=prefix)\n",
    "train_location = session.upload_data(os.path.join(data_dir, 'train.csv'), key_prefix=prefix)"
   ]
  },
  {
   "cell_type": "markdown",
   "metadata": {},
   "source": [
    "## Step 4: Creating the XGBoost model\n",
    "\n",
    "Now that the data has been uploaded it is time to create the XGBoost model. To begin with, we need to do some setup. At this point it is worth discussing what a model is in SageMaker. It is easiest to think of a model of comprising three different objects in the SageMaker ecosystem, which interact with one another.\n",
    "\n",
    "- Model Artifacts\n",
    "- Training Code (Container)\n",
    "- Inference Code (Container)\n",
    "\n",
    "The Model Artifacts are what you might think of as the actual model itself. For example, if you were building a neural network, the model artifacts would be the weights of the various layers. In our case, for an XGBoost model, the artifacts are the actual trees that are created during training.\n",
    "\n",
    "The other two objects, the training code and the inference code are then used to manipulate the training artifacts. More precisely, the training code uses the training data that is provided and creates the model artifacts, while the inference code uses the model artifacts to make predictions on new data.\n",
    "\n",
    "The way that SageMaker runs the training and inference code is by making use of Docker containers. For now, think of a container as being a way of packaging code up so that dependencies aren't an issue."
   ]
  },
  {
   "cell_type": "code",
   "execution_count": 19,
   "metadata": {},
   "outputs": [],
   "source": [
    "from sagemaker import get_execution_role\n",
    "\n",
    "# Our current execution role is required when creating the model as the training\n",
    "# and inference code will need to access the model artifacts.\n",
    "role = get_execution_role()"
   ]
  },
  {
   "cell_type": "code",
   "execution_count": 20,
   "metadata": {},
   "outputs": [
    {
     "name": "stderr",
     "output_type": "stream",
     "text": [
      "'get_image_uri' method will be deprecated in favor of 'ImageURIProvider' class in SageMaker Python SDK v2.\n",
      "WARNING:root:There is a more up to date SageMaker XGBoost image. To use the newer image, please set 'repo_version'='1.0-1'. For example:\n",
      "\tget_image_uri(region, 'xgboost', '1.0-1').\n"
     ]
    }
   ],
   "source": [
    "# We need to retrieve the location of the container which is provided by Amazon for using XGBoost.\n",
    "# As a matter of convenience, the training and inference code both use the same container.\n",
    "from sagemaker.amazon.amazon_estimator import get_image_uri\n",
    "\n",
    "container = get_image_uri(session.boto_region_name, 'xgboost')"
   ]
  },
  {
   "cell_type": "code",
   "execution_count": 21,
   "metadata": {},
   "outputs": [
    {
     "name": "stderr",
     "output_type": "stream",
     "text": [
      "WARNING:root:Parameter image_name will be renamed to image_uri in SageMaker Python SDK v2.\n"
     ]
    }
   ],
   "source": [
    "# First we create a SageMaker estimator object for our model.\n",
    "xgb = sagemaker.estimator.Estimator(container, # The location of the container we wish to use\n",
    "                                    role,                                    # What is our current IAM Role\n",
    "                                    train_instance_count=1,                  # How many compute instances\n",
    "                                    train_instance_type='ml.m4.xlarge',      # What kind of compute instances\n",
    "                                    output_path='s3://{}/{}/output'.format(session.default_bucket(), prefix),\n",
    "                                    sagemaker_session=session)\n",
    "\n",
    "# And then set the algorithm specific parameters.\n",
    "xgb.set_hyperparameters(max_depth=5,\n",
    "                        eta=0.2,\n",
    "                        gamma=4,\n",
    "                        min_child_weight=6,\n",
    "                        subsample=0.8,\n",
    "                        silent=0,\n",
    "                        objective='binary:logistic',\n",
    "                        early_stopping_rounds=10,\n",
    "                        num_round=500)"
   ]
  },
  {
   "cell_type": "markdown",
   "metadata": {},
   "source": [
    "### Fit the XGBoost model\n",
    "\n",
    "Now that our model has been set up we simply need to attach the training and validation datasets and then ask SageMaker to set up the computation."
   ]
  },
  {
   "cell_type": "code",
   "execution_count": 22,
   "metadata": {},
   "outputs": [
    {
     "name": "stderr",
     "output_type": "stream",
     "text": [
      "WARNING:sagemaker:'s3_input' class will be renamed to 'TrainingInput' in SageMaker Python SDK v2.\n",
      "WARNING:sagemaker:'s3_input' class will be renamed to 'TrainingInput' in SageMaker Python SDK v2.\n"
     ]
    }
   ],
   "source": [
    "s3_input_train = sagemaker.s3_input(s3_data=train_location, content_type='csv')\n",
    "s3_input_validation = sagemaker.s3_input(s3_data=val_location, content_type='csv')"
   ]
  },
  {
   "cell_type": "code",
   "execution_count": 23,
   "metadata": {},
   "outputs": [
    {
     "name": "stdout",
     "output_type": "stream",
     "text": [
      "2020-07-19 16:44:25 Starting - Starting the training job...\n",
      "2020-07-19 16:44:27 Starting - Launching requested ML instances.........\n",
      "2020-07-19 16:46:11 Starting - Preparing the instances for training......\n",
      "2020-07-19 16:47:23 Downloading - Downloading input data\n",
      "2020-07-19 16:47:23 Training - Downloading the training image...\n",
      "2020-07-19 16:47:43 Training - Training image download completed. Training in progress.\u001b[34mArguments: train\u001b[0m\n",
      "\u001b[34m[2020-07-19:16:47:44:INFO] Running standalone xgboost training.\u001b[0m\n",
      "\u001b[34m[2020-07-19:16:47:44:INFO] File size need to be processed in the node: 238.5mb. Available memory size in the node: 8484.5mb\u001b[0m\n",
      "\u001b[34m[2020-07-19:16:47:44:INFO] Determined delimiter of CSV input is ','\u001b[0m\n",
      "\u001b[34m[16:47:44] S3DistributionType set as FullyReplicated\u001b[0m\n",
      "\u001b[34m[16:47:46] 15000x5000 matrix with 75000000 entries loaded from /opt/ml/input/data/train?format=csv&label_column=0&delimiter=,\u001b[0m\n",
      "\u001b[34m[2020-07-19:16:47:46:INFO] Determined delimiter of CSV input is ','\u001b[0m\n",
      "\u001b[34m[16:47:46] S3DistributionType set as FullyReplicated\u001b[0m\n",
      "\u001b[34m[16:47:47] 10000x5000 matrix with 50000000 entries loaded from /opt/ml/input/data/validation?format=csv&label_column=0&delimiter=,\u001b[0m\n",
      "\u001b[34m[16:47:50] src/tree/updater_prune.cc:74: tree pruning end, 1 roots, 40 extra nodes, 10 pruned nodes, max_depth=5\u001b[0m\n",
      "\u001b[34m[0]#011train-error:0.3038#011validation-error:0.3136\u001b[0m\n",
      "\u001b[34mMultiple eval metrics have been passed: 'validation-error' will be used for early stopping.\n",
      "\u001b[0m\n",
      "\u001b[34mWill train until validation-error hasn't improved in 10 rounds.\u001b[0m\n",
      "\u001b[34m[16:47:52] src/tree/updater_prune.cc:74: tree pruning end, 1 roots, 42 extra nodes, 0 pruned nodes, max_depth=5\u001b[0m\n",
      "\u001b[34m[1]#011train-error:0.298067#011validation-error:0.3095\u001b[0m\n",
      "\u001b[34m[16:47:53] src/tree/updater_prune.cc:74: tree pruning end, 1 roots, 44 extra nodes, 2 pruned nodes, max_depth=5\u001b[0m\n",
      "\u001b[34m[2]#011train-error:0.2898#011validation-error:0.2994\u001b[0m\n",
      "\u001b[34m[16:47:55] src/tree/updater_prune.cc:74: tree pruning end, 1 roots, 44 extra nodes, 8 pruned nodes, max_depth=5\u001b[0m\n",
      "\u001b[34m[3]#011train-error:0.2662#011validation-error:0.2789\u001b[0m\n",
      "\u001b[34m[16:47:56] src/tree/updater_prune.cc:74: tree pruning end, 1 roots, 34 extra nodes, 2 pruned nodes, max_depth=5\u001b[0m\n",
      "\u001b[34m[4]#011train-error:0.255533#011validation-error:0.2683\u001b[0m\n",
      "\u001b[34m[16:47:57] src/tree/updater_prune.cc:74: tree pruning end, 1 roots, 34 extra nodes, 10 pruned nodes, max_depth=5\u001b[0m\n",
      "\u001b[34m[5]#011train-error:0.256333#011validation-error:0.2704\u001b[0m\n",
      "\u001b[34m[16:47:58] src/tree/updater_prune.cc:74: tree pruning end, 1 roots, 34 extra nodes, 4 pruned nodes, max_depth=5\u001b[0m\n",
      "\u001b[34m[6]#011train-error:0.254133#011validation-error:0.2715\u001b[0m\n",
      "\u001b[34m[16:48:00] src/tree/updater_prune.cc:74: tree pruning end, 1 roots, 36 extra nodes, 12 pruned nodes, max_depth=5\u001b[0m\n",
      "\u001b[34m[7]#011train-error:0.241933#011validation-error:0.2553\u001b[0m\n",
      "\u001b[34m[16:48:01] src/tree/updater_prune.cc:74: tree pruning end, 1 roots, 36 extra nodes, 14 pruned nodes, max_depth=5\u001b[0m\n",
      "\u001b[34m[8]#011train-error:0.234067#011validation-error:0.2497\u001b[0m\n",
      "\u001b[34m[16:48:02] src/tree/updater_prune.cc:74: tree pruning end, 1 roots, 38 extra nodes, 6 pruned nodes, max_depth=5\u001b[0m\n",
      "\u001b[34m[9]#011train-error:0.2256#011validation-error:0.2449\u001b[0m\n",
      "\u001b[34m[16:48:04] src/tree/updater_prune.cc:74: tree pruning end, 1 roots, 36 extra nodes, 2 pruned nodes, max_depth=5\u001b[0m\n",
      "\u001b[34m[10]#011train-error:0.222733#011validation-error:0.2406\u001b[0m\n",
      "\u001b[34m[16:48:05] src/tree/updater_prune.cc:74: tree pruning end, 1 roots, 32 extra nodes, 8 pruned nodes, max_depth=5\u001b[0m\n",
      "\u001b[34m[11]#011train-error:0.2158#011validation-error:0.2374\u001b[0m\n",
      "\u001b[34m[16:48:06] src/tree/updater_prune.cc:74: tree pruning end, 1 roots, 22 extra nodes, 14 pruned nodes, max_depth=5\u001b[0m\n",
      "\u001b[34m[12]#011train-error:0.211#011validation-error:0.2327\u001b[0m\n",
      "\u001b[34m[16:48:07] src/tree/updater_prune.cc:74: tree pruning end, 1 roots, 30 extra nodes, 6 pruned nodes, max_depth=5\u001b[0m\n",
      "\u001b[34m[13]#011train-error:0.208#011validation-error:0.231\u001b[0m\n",
      "\u001b[34m[16:48:09] src/tree/updater_prune.cc:74: tree pruning end, 1 roots, 26 extra nodes, 6 pruned nodes, max_depth=5\u001b[0m\n",
      "\u001b[34m[14]#011train-error:0.204133#011validation-error:0.2257\u001b[0m\n",
      "\u001b[34m[16:48:10] src/tree/updater_prune.cc:74: tree pruning end, 1 roots, 30 extra nodes, 8 pruned nodes, max_depth=5\u001b[0m\n",
      "\u001b[34m[15]#011train-error:0.202667#011validation-error:0.2242\u001b[0m\n",
      "\u001b[34m[16:48:11] src/tree/updater_prune.cc:74: tree pruning end, 1 roots, 32 extra nodes, 4 pruned nodes, max_depth=5\u001b[0m\n",
      "\u001b[34m[16]#011train-error:0.1984#011validation-error:0.2216\u001b[0m\n",
      "\u001b[34m[16:48:13] src/tree/updater_prune.cc:74: tree pruning end, 1 roots, 34 extra nodes, 12 pruned nodes, max_depth=5\u001b[0m\n",
      "\u001b[34m[17]#011train-error:0.1944#011validation-error:0.2204\u001b[0m\n",
      "\u001b[34m[16:48:14] src/tree/updater_prune.cc:74: tree pruning end, 1 roots, 30 extra nodes, 4 pruned nodes, max_depth=5\u001b[0m\n",
      "\u001b[34m[18]#011train-error:0.190333#011validation-error:0.2147\u001b[0m\n",
      "\u001b[34m[16:48:15] src/tree/updater_prune.cc:74: tree pruning end, 1 roots, 30 extra nodes, 8 pruned nodes, max_depth=5\u001b[0m\n",
      "\u001b[34m[19]#011train-error:0.188533#011validation-error:0.2121\u001b[0m\n",
      "\u001b[34m[16:48:16] src/tree/updater_prune.cc:74: tree pruning end, 1 roots, 18 extra nodes, 8 pruned nodes, max_depth=5\u001b[0m\n",
      "\u001b[34m[20]#011train-error:0.185467#011validation-error:0.2085\u001b[0m\n",
      "\u001b[34m[16:48:18] src/tree/updater_prune.cc:74: tree pruning end, 1 roots, 22 extra nodes, 10 pruned nodes, max_depth=5\u001b[0m\n",
      "\u001b[34m[21]#011train-error:0.185067#011validation-error:0.2087\u001b[0m\n",
      "\u001b[34m[16:48:19] src/tree/updater_prune.cc:74: tree pruning end, 1 roots, 32 extra nodes, 14 pruned nodes, max_depth=5\u001b[0m\n",
      "\u001b[34m[22]#011train-error:0.1826#011validation-error:0.2056\u001b[0m\n",
      "\u001b[34m[16:48:20] src/tree/updater_prune.cc:74: tree pruning end, 1 roots, 38 extra nodes, 4 pruned nodes, max_depth=5\u001b[0m\n",
      "\u001b[34m[23]#011train-error:0.178733#011validation-error:0.2023\u001b[0m\n",
      "\u001b[34m[16:48:21] src/tree/updater_prune.cc:74: tree pruning end, 1 roots, 18 extra nodes, 14 pruned nodes, max_depth=5\u001b[0m\n",
      "\u001b[34m[24]#011train-error:0.176867#011validation-error:0.2009\u001b[0m\n",
      "\u001b[34m[16:48:23] src/tree/updater_prune.cc:74: tree pruning end, 1 roots, 28 extra nodes, 4 pruned nodes, max_depth=5\u001b[0m\n",
      "\u001b[34m[25]#011train-error:0.1742#011validation-error:0.2007\u001b[0m\n",
      "\u001b[34m[16:48:24] src/tree/updater_prune.cc:74: tree pruning end, 1 roots, 28 extra nodes, 4 pruned nodes, max_depth=5\u001b[0m\n",
      "\u001b[34m[26]#011train-error:0.1726#011validation-error:0.1985\u001b[0m\n",
      "\u001b[34m[16:48:25] src/tree/updater_prune.cc:74: tree pruning end, 1 roots, 24 extra nodes, 12 pruned nodes, max_depth=5\u001b[0m\n",
      "\u001b[34m[27]#011train-error:0.1706#011validation-error:0.1981\u001b[0m\n",
      "\u001b[34m[16:48:27] src/tree/updater_prune.cc:74: tree pruning end, 1 roots, 22 extra nodes, 6 pruned nodes, max_depth=5\u001b[0m\n",
      "\u001b[34m[28]#011train-error:0.169533#011validation-error:0.1978\u001b[0m\n",
      "\u001b[34m[16:48:28] src/tree/updater_prune.cc:74: tree pruning end, 1 roots, 18 extra nodes, 18 pruned nodes, max_depth=5\u001b[0m\n",
      "\u001b[34m[29]#011train-error:0.168733#011validation-error:0.1963\u001b[0m\n",
      "\u001b[34m[16:48:29] src/tree/updater_prune.cc:74: tree pruning end, 1 roots, 28 extra nodes, 10 pruned nodes, max_depth=5\u001b[0m\n",
      "\u001b[34m[30]#011train-error:0.169#011validation-error:0.1957\u001b[0m\n",
      "\u001b[34m[16:48:30] src/tree/updater_prune.cc:74: tree pruning end, 1 roots, 22 extra nodes, 6 pruned nodes, max_depth=5\u001b[0m\n",
      "\u001b[34m[31]#011train-error:0.167267#011validation-error:0.1962\u001b[0m\n",
      "\u001b[34m[16:48:32] src/tree/updater_prune.cc:74: tree pruning end, 1 roots, 18 extra nodes, 10 pruned nodes, max_depth=5\u001b[0m\n",
      "\u001b[34m[32]#011train-error:0.165267#011validation-error:0.1965\u001b[0m\n",
      "\u001b[34m[16:48:33] src/tree/updater_prune.cc:74: tree pruning end, 1 roots, 32 extra nodes, 8 pruned nodes, max_depth=5\u001b[0m\n",
      "\u001b[34m[33]#011train-error:0.163267#011validation-error:0.196\u001b[0m\n",
      "\u001b[34m[16:48:34] src/tree/updater_prune.cc:74: tree pruning end, 1 roots, 22 extra nodes, 4 pruned nodes, max_depth=5\u001b[0m\n",
      "\u001b[34m[34]#011train-error:0.1616#011validation-error:0.1964\u001b[0m\n",
      "\u001b[34m[16:48:36] src/tree/updater_prune.cc:74: tree pruning end, 1 roots, 20 extra nodes, 4 pruned nodes, max_depth=5\u001b[0m\n",
      "\u001b[34m[35]#011train-error:0.1602#011validation-error:0.1954\u001b[0m\n",
      "\u001b[34m[16:48:37] src/tree/updater_prune.cc:74: tree pruning end, 1 roots, 22 extra nodes, 16 pruned nodes, max_depth=5\u001b[0m\n",
      "\u001b[34m[36]#011train-error:0.158733#011validation-error:0.1941\u001b[0m\n",
      "\u001b[34m[16:48:38] src/tree/updater_prune.cc:74: tree pruning end, 1 roots, 24 extra nodes, 14 pruned nodes, max_depth=5\u001b[0m\n",
      "\u001b[34m[37]#011train-error:0.156533#011validation-error:0.1935\u001b[0m\n",
      "\u001b[34m[16:48:39] src/tree/updater_prune.cc:74: tree pruning end, 1 roots, 28 extra nodes, 12 pruned nodes, max_depth=5\u001b[0m\n",
      "\u001b[34m[38]#011train-error:0.155467#011validation-error:0.1916\u001b[0m\n"
     ]
    },
    {
     "name": "stdout",
     "output_type": "stream",
     "text": [
      "\u001b[34m[16:48:41] src/tree/updater_prune.cc:74: tree pruning end, 1 roots, 36 extra nodes, 4 pruned nodes, max_depth=5\u001b[0m\n",
      "\u001b[34m[39]#011train-error:0.154467#011validation-error:0.1901\u001b[0m\n",
      "\u001b[34m[16:48:42] src/tree/updater_prune.cc:74: tree pruning end, 1 roots, 20 extra nodes, 12 pruned nodes, max_depth=5\u001b[0m\n",
      "\u001b[34m[40]#011train-error:0.152867#011validation-error:0.1896\u001b[0m\n",
      "\u001b[34m[16:48:43] src/tree/updater_prune.cc:74: tree pruning end, 1 roots, 26 extra nodes, 10 pruned nodes, max_depth=5\u001b[0m\n",
      "\u001b[34m[41]#011train-error:0.152067#011validation-error:0.1883\u001b[0m\n",
      "\u001b[34m[16:48:44] src/tree/updater_prune.cc:74: tree pruning end, 1 roots, 38 extra nodes, 6 pruned nodes, max_depth=5\u001b[0m\n",
      "\u001b[34m[42]#011train-error:0.149333#011validation-error:0.1849\u001b[0m\n",
      "\u001b[34m[16:48:46] src/tree/updater_prune.cc:74: tree pruning end, 1 roots, 24 extra nodes, 4 pruned nodes, max_depth=5\u001b[0m\n",
      "\u001b[34m[43]#011train-error:0.148133#011validation-error:0.184\u001b[0m\n",
      "\u001b[34m[16:48:47] src/tree/updater_prune.cc:74: tree pruning end, 1 roots, 30 extra nodes, 4 pruned nodes, max_depth=5\u001b[0m\n",
      "\u001b[34m[44]#011train-error:0.146267#011validation-error:0.1823\u001b[0m\n",
      "\u001b[34m[16:48:48] src/tree/updater_prune.cc:74: tree pruning end, 1 roots, 28 extra nodes, 6 pruned nodes, max_depth=5\u001b[0m\n",
      "\u001b[34m[45]#011train-error:0.144933#011validation-error:0.1812\u001b[0m\n",
      "\u001b[34m[16:48:50] src/tree/updater_prune.cc:74: tree pruning end, 1 roots, 20 extra nodes, 6 pruned nodes, max_depth=5\u001b[0m\n",
      "\u001b[34m[46]#011train-error:0.144467#011validation-error:0.1805\u001b[0m\n",
      "\u001b[34m[16:48:51] src/tree/updater_prune.cc:74: tree pruning end, 1 roots, 30 extra nodes, 4 pruned nodes, max_depth=5\u001b[0m\n",
      "\u001b[34m[47]#011train-error:0.143067#011validation-error:0.1806\u001b[0m\n",
      "\u001b[34m[16:48:52] src/tree/updater_prune.cc:74: tree pruning end, 1 roots, 30 extra nodes, 4 pruned nodes, max_depth=5\u001b[0m\n",
      "\u001b[34m[48]#011train-error:0.140933#011validation-error:0.1797\u001b[0m\n",
      "\u001b[34m[16:48:53] src/tree/updater_prune.cc:74: tree pruning end, 1 roots, 28 extra nodes, 10 pruned nodes, max_depth=5\u001b[0m\n",
      "\u001b[34m[49]#011train-error:0.138733#011validation-error:0.1785\u001b[0m\n",
      "\u001b[34m[16:48:55] src/tree/updater_prune.cc:74: tree pruning end, 1 roots, 16 extra nodes, 6 pruned nodes, max_depth=5\u001b[0m\n",
      "\u001b[34m[50]#011train-error:0.137333#011validation-error:0.1783\u001b[0m\n",
      "\u001b[34m[16:48:56] src/tree/updater_prune.cc:74: tree pruning end, 1 roots, 18 extra nodes, 4 pruned nodes, max_depth=5\u001b[0m\n",
      "\u001b[34m[51]#011train-error:0.136467#011validation-error:0.1782\u001b[0m\n",
      "\u001b[34m[16:48:57] src/tree/updater_prune.cc:74: tree pruning end, 1 roots, 12 extra nodes, 8 pruned nodes, max_depth=5\u001b[0m\n",
      "\u001b[34m[52]#011train-error:0.135667#011validation-error:0.1774\u001b[0m\n",
      "\u001b[34m[16:48:58] src/tree/updater_prune.cc:74: tree pruning end, 1 roots, 26 extra nodes, 14 pruned nodes, max_depth=5\u001b[0m\n",
      "\u001b[34m[53]#011train-error:0.134867#011validation-error:0.1775\u001b[0m\n",
      "\u001b[34m[16:49:00] src/tree/updater_prune.cc:74: tree pruning end, 1 roots, 24 extra nodes, 2 pruned nodes, max_depth=5\u001b[0m\n",
      "\u001b[34m[54]#011train-error:0.133867#011validation-error:0.1767\u001b[0m\n",
      "\u001b[34m[16:49:01] src/tree/updater_prune.cc:74: tree pruning end, 1 roots, 18 extra nodes, 12 pruned nodes, max_depth=5\u001b[0m\n",
      "\u001b[34m[55]#011train-error:0.132933#011validation-error:0.175\u001b[0m\n",
      "\u001b[34m[16:49:02] src/tree/updater_prune.cc:74: tree pruning end, 1 roots, 14 extra nodes, 12 pruned nodes, max_depth=5\u001b[0m\n",
      "\u001b[34m[56]#011train-error:0.132733#011validation-error:0.1748\u001b[0m\n",
      "\u001b[34m[16:49:04] src/tree/updater_prune.cc:74: tree pruning end, 1 roots, 12 extra nodes, 6 pruned nodes, max_depth=5\u001b[0m\n",
      "\u001b[34m[57]#011train-error:0.132333#011validation-error:0.1736\u001b[0m\n",
      "\u001b[34m[16:49:05] src/tree/updater_prune.cc:74: tree pruning end, 1 roots, 18 extra nodes, 12 pruned nodes, max_depth=5\u001b[0m\n",
      "\u001b[34m[58]#011train-error:0.131267#011validation-error:0.1742\u001b[0m\n",
      "\u001b[34m[16:49:06] src/tree/updater_prune.cc:74: tree pruning end, 1 roots, 18 extra nodes, 10 pruned nodes, max_depth=5\u001b[0m\n",
      "\u001b[34m[59]#011train-error:0.131333#011validation-error:0.1735\u001b[0m\n",
      "\u001b[34m[16:49:07] src/tree/updater_prune.cc:74: tree pruning end, 1 roots, 28 extra nodes, 4 pruned nodes, max_depth=5\u001b[0m\n",
      "\u001b[34m[60]#011train-error:0.129467#011validation-error:0.1732\u001b[0m\n",
      "\u001b[34m[16:49:09] src/tree/updater_prune.cc:74: tree pruning end, 1 roots, 12 extra nodes, 8 pruned nodes, max_depth=5\u001b[0m\n",
      "\u001b[34m[61]#011train-error:0.129133#011validation-error:0.1728\u001b[0m\n",
      "\u001b[34m[16:49:10] src/tree/updater_prune.cc:74: tree pruning end, 1 roots, 24 extra nodes, 10 pruned nodes, max_depth=5\u001b[0m\n",
      "\u001b[34m[62]#011train-error:0.128333#011validation-error:0.1721\u001b[0m\n",
      "\u001b[34m[16:49:11] src/tree/updater_prune.cc:74: tree pruning end, 1 roots, 24 extra nodes, 6 pruned nodes, max_depth=5\u001b[0m\n",
      "\u001b[34m[63]#011train-error:0.127533#011validation-error:0.1712\u001b[0m\n",
      "\u001b[34m[16:49:12] src/tree/updater_prune.cc:74: tree pruning end, 1 roots, 32 extra nodes, 10 pruned nodes, max_depth=5\u001b[0m\n",
      "\u001b[34m[64]#011train-error:0.126467#011validation-error:0.1702\u001b[0m\n",
      "\u001b[34m[16:49:14] src/tree/updater_prune.cc:74: tree pruning end, 1 roots, 34 extra nodes, 4 pruned nodes, max_depth=5\u001b[0m\n",
      "\u001b[34m[65]#011train-error:0.123867#011validation-error:0.1677\u001b[0m\n",
      "\u001b[34m[16:49:15] src/tree/updater_prune.cc:74: tree pruning end, 1 roots, 16 extra nodes, 12 pruned nodes, max_depth=5\u001b[0m\n",
      "\u001b[34m[66]#011train-error:0.1242#011validation-error:0.1674\u001b[0m\n",
      "\u001b[34m[16:49:16] src/tree/updater_prune.cc:74: tree pruning end, 1 roots, 32 extra nodes, 8 pruned nodes, max_depth=5\u001b[0m\n",
      "\u001b[34m[67]#011train-error:0.1224#011validation-error:0.1674\u001b[0m\n",
      "\u001b[34m[16:49:18] src/tree/updater_prune.cc:74: tree pruning end, 1 roots, 26 extra nodes, 8 pruned nodes, max_depth=5\u001b[0m\n",
      "\u001b[34m[68]#011train-error:0.1224#011validation-error:0.1664\u001b[0m\n",
      "\u001b[34m[16:49:19] src/tree/updater_prune.cc:74: tree pruning end, 1 roots, 16 extra nodes, 4 pruned nodes, max_depth=5\u001b[0m\n",
      "\u001b[34m[69]#011train-error:0.121333#011validation-error:0.1661\u001b[0m\n",
      "\u001b[34m[16:49:20] src/tree/updater_prune.cc:74: tree pruning end, 1 roots, 20 extra nodes, 8 pruned nodes, max_depth=5\u001b[0m\n",
      "\u001b[34m[70]#011train-error:0.1206#011validation-error:0.1653\u001b[0m\n",
      "\u001b[34m[16:49:21] src/tree/updater_prune.cc:74: tree pruning end, 1 roots, 18 extra nodes, 8 pruned nodes, max_depth=5\u001b[0m\n",
      "\u001b[34m[71]#011train-error:0.119667#011validation-error:0.1651\u001b[0m\n",
      "\u001b[34m[16:49:23] src/tree/updater_prune.cc:74: tree pruning end, 1 roots, 30 extra nodes, 10 pruned nodes, max_depth=5\u001b[0m\n",
      "\u001b[34m[72]#011train-error:0.117067#011validation-error:0.1658\u001b[0m\n",
      "\u001b[34m[16:49:24] src/tree/updater_prune.cc:74: tree pruning end, 1 roots, 26 extra nodes, 2 pruned nodes, max_depth=5\u001b[0m\n",
      "\u001b[34m[73]#011train-error:0.1154#011validation-error:0.1643\u001b[0m\n",
      "\u001b[34m[16:49:25] src/tree/updater_prune.cc:74: tree pruning end, 1 roots, 18 extra nodes, 12 pruned nodes, max_depth=5\u001b[0m\n",
      "\u001b[34m[74]#011train-error:0.115133#011validation-error:0.1644\u001b[0m\n",
      "\u001b[34m[16:49:27] src/tree/updater_prune.cc:74: tree pruning end, 1 roots, 16 extra nodes, 10 pruned nodes, max_depth=5\u001b[0m\n",
      "\u001b[34m[75]#011train-error:0.1148#011validation-error:0.164\u001b[0m\n",
      "\u001b[34m[16:49:28] src/tree/updater_prune.cc:74: tree pruning end, 1 roots, 16 extra nodes, 8 pruned nodes, max_depth=5\u001b[0m\n",
      "\u001b[34m[76]#011train-error:0.114333#011validation-error:0.1634\u001b[0m\n",
      "\u001b[34m[16:49:29] src/tree/updater_prune.cc:74: tree pruning end, 1 roots, 28 extra nodes, 10 pruned nodes, max_depth=5\u001b[0m\n",
      "\u001b[34m[77]#011train-error:0.1136#011validation-error:0.1623\u001b[0m\n",
      "\u001b[34m[16:49:30] src/tree/updater_prune.cc:74: tree pruning end, 1 roots, 18 extra nodes, 8 pruned nodes, max_depth=5\u001b[0m\n",
      "\u001b[34m[78]#011train-error:0.112867#011validation-error:0.1619\u001b[0m\n",
      "\u001b[34m[16:49:32] src/tree/updater_prune.cc:74: tree pruning end, 1 roots, 28 extra nodes, 10 pruned nodes, max_depth=5\u001b[0m\n",
      "\u001b[34m[79]#011train-error:0.1106#011validation-error:0.1608\u001b[0m\n",
      "\u001b[34m[16:49:33] src/tree/updater_prune.cc:74: tree pruning end, 1 roots, 10 extra nodes, 6 pruned nodes, max_depth=5\u001b[0m\n",
      "\u001b[34m[80]#011train-error:0.110533#011validation-error:0.1609\u001b[0m\n",
      "\u001b[34m[16:49:34] src/tree/updater_prune.cc:74: tree pruning end, 1 roots, 10 extra nodes, 8 pruned nodes, max_depth=5\u001b[0m\n",
      "\u001b[34m[81]#011train-error:0.109933#011validation-error:0.1605\u001b[0m\n",
      "\u001b[34m[16:49:36] src/tree/updater_prune.cc:74: tree pruning end, 1 roots, 16 extra nodes, 4 pruned nodes, max_depth=5\u001b[0m\n",
      "\u001b[34m[82]#011train-error:0.1108#011validation-error:0.1589\u001b[0m\n",
      "\u001b[34m[16:49:37] src/tree/updater_prune.cc:74: tree pruning end, 1 roots, 16 extra nodes, 6 pruned nodes, max_depth=5\u001b[0m\n",
      "\u001b[34m[83]#011train-error:0.110467#011validation-error:0.159\u001b[0m\n",
      "\u001b[34m[16:49:38] src/tree/updater_prune.cc:74: tree pruning end, 1 roots, 18 extra nodes, 2 pruned nodes, max_depth=5\u001b[0m\n",
      "\u001b[34m[84]#011train-error:0.109667#011validation-error:0.1587\u001b[0m\n",
      "\u001b[34m[16:49:39] src/tree/updater_prune.cc:74: tree pruning end, 1 roots, 26 extra nodes, 6 pruned nodes, max_depth=5\u001b[0m\n",
      "\u001b[34m[85]#011train-error:0.1096#011validation-error:0.1595\u001b[0m\n",
      "\u001b[34m[16:49:41] src/tree/updater_prune.cc:74: tree pruning end, 1 roots, 18 extra nodes, 16 pruned nodes, max_depth=5\u001b[0m\n",
      "\u001b[34m[86]#011train-error:0.1106#011validation-error:0.1587\u001b[0m\n",
      "\u001b[34m[16:49:42] src/tree/updater_prune.cc:74: tree pruning end, 1 roots, 14 extra nodes, 4 pruned nodes, max_depth=5\u001b[0m\n",
      "\u001b[34m[87]#011train-error:0.1106#011validation-error:0.1589\u001b[0m\n",
      "\u001b[34m[16:49:43] src/tree/updater_prune.cc:74: tree pruning end, 1 roots, 16 extra nodes, 6 pruned nodes, max_depth=5\u001b[0m\n",
      "\u001b[34m[88]#011train-error:0.110267#011validation-error:0.1585\u001b[0m\n",
      "\u001b[34m[16:49:44] src/tree/updater_prune.cc:74: tree pruning end, 1 roots, 18 extra nodes, 10 pruned nodes, max_depth=5\u001b[0m\n",
      "\u001b[34m[89]#011train-error:0.109467#011validation-error:0.1579\u001b[0m\n",
      "\u001b[34m[16:49:46] src/tree/updater_prune.cc:74: tree pruning end, 1 roots, 12 extra nodes, 8 pruned nodes, max_depth=5\u001b[0m\n",
      "\u001b[34m[90]#011train-error:0.1092#011validation-error:0.1582\u001b[0m\n"
     ]
    },
    {
     "name": "stdout",
     "output_type": "stream",
     "text": [
      "\u001b[34m[16:49:47] src/tree/updater_prune.cc:74: tree pruning end, 1 roots, 22 extra nodes, 8 pruned nodes, max_depth=5\u001b[0m\n",
      "\u001b[34m[91]#011train-error:0.108267#011validation-error:0.1581\u001b[0m\n",
      "\u001b[34m[16:49:48] src/tree/updater_prune.cc:74: tree pruning end, 1 roots, 14 extra nodes, 4 pruned nodes, max_depth=5\u001b[0m\n",
      "\u001b[34m[92]#011train-error:0.1078#011validation-error:0.1576\u001b[0m\n",
      "\u001b[34m[16:49:50] src/tree/updater_prune.cc:74: tree pruning end, 1 roots, 18 extra nodes, 18 pruned nodes, max_depth=5\u001b[0m\n",
      "\u001b[34m[93]#011train-error:0.107#011validation-error:0.1574\u001b[0m\n",
      "\u001b[34m[16:49:51] src/tree/updater_prune.cc:74: tree pruning end, 1 roots, 16 extra nodes, 4 pruned nodes, max_depth=5\u001b[0m\n",
      "\u001b[34m[94]#011train-error:0.105867#011validation-error:0.1569\u001b[0m\n",
      "\u001b[34m[16:49:52] src/tree/updater_prune.cc:74: tree pruning end, 1 roots, 28 extra nodes, 12 pruned nodes, max_depth=5\u001b[0m\n",
      "\u001b[34m[95]#011train-error:0.104533#011validation-error:0.1554\u001b[0m\n",
      "\u001b[34m[16:49:53] src/tree/updater_prune.cc:74: tree pruning end, 1 roots, 20 extra nodes, 4 pruned nodes, max_depth=5\u001b[0m\n",
      "\u001b[34m[96]#011train-error:0.104#011validation-error:0.1546\u001b[0m\n",
      "\u001b[34m[16:49:55] src/tree/updater_prune.cc:74: tree pruning end, 1 roots, 10 extra nodes, 8 pruned nodes, max_depth=5\u001b[0m\n",
      "\u001b[34m[97]#011train-error:0.103667#011validation-error:0.1538\u001b[0m\n",
      "\u001b[34m[16:49:56] src/tree/updater_prune.cc:74: tree pruning end, 1 roots, 20 extra nodes, 14 pruned nodes, max_depth=5\u001b[0m\n",
      "\u001b[34m[98]#011train-error:0.1028#011validation-error:0.1543\u001b[0m\n",
      "\u001b[34m[16:49:57] src/tree/updater_prune.cc:74: tree pruning end, 1 roots, 18 extra nodes, 12 pruned nodes, max_depth=5\u001b[0m\n",
      "\u001b[34m[99]#011train-error:0.101867#011validation-error:0.1529\u001b[0m\n",
      "\u001b[34m[16:49:58] src/tree/updater_prune.cc:74: tree pruning end, 1 roots, 26 extra nodes, 14 pruned nodes, max_depth=5\u001b[0m\n",
      "\u001b[34m[100]#011train-error:0.101333#011validation-error:0.153\u001b[0m\n",
      "\u001b[34m[16:50:00] src/tree/updater_prune.cc:74: tree pruning end, 1 roots, 24 extra nodes, 6 pruned nodes, max_depth=5\u001b[0m\n",
      "\u001b[34m[101]#011train-error:0.100667#011validation-error:0.1527\u001b[0m\n",
      "\u001b[34m[16:50:01] src/tree/updater_prune.cc:74: tree pruning end, 1 roots, 10 extra nodes, 8 pruned nodes, max_depth=5\u001b[0m\n",
      "\u001b[34m[102]#011train-error:0.099867#011validation-error:0.1519\u001b[0m\n",
      "\u001b[34m[16:50:02] src/tree/updater_prune.cc:74: tree pruning end, 1 roots, 24 extra nodes, 10 pruned nodes, max_depth=5\u001b[0m\n",
      "\u001b[34m[103]#011train-error:0.100067#011validation-error:0.1528\u001b[0m\n",
      "\u001b[34m[16:50:04] src/tree/updater_prune.cc:74: tree pruning end, 1 roots, 16 extra nodes, 10 pruned nodes, max_depth=5\u001b[0m\n",
      "\u001b[34m[104]#011train-error:0.099267#011validation-error:0.1527\u001b[0m\n",
      "\u001b[34m[16:50:05] src/tree/updater_prune.cc:74: tree pruning end, 1 roots, 18 extra nodes, 4 pruned nodes, max_depth=5\u001b[0m\n",
      "\u001b[34m[105]#011train-error:0.0986#011validation-error:0.1525\u001b[0m\n",
      "\u001b[34m[16:50:06] src/tree/updater_prune.cc:74: tree pruning end, 1 roots, 16 extra nodes, 12 pruned nodes, max_depth=5\u001b[0m\n",
      "\u001b[34m[106]#011train-error:0.097333#011validation-error:0.1526\u001b[0m\n",
      "\u001b[34m[16:50:08] src/tree/updater_prune.cc:74: tree pruning end, 1 roots, 16 extra nodes, 4 pruned nodes, max_depth=5\u001b[0m\n",
      "\u001b[34m[107]#011train-error:0.097333#011validation-error:0.1518\u001b[0m\n",
      "\u001b[34m[16:50:09] src/tree/updater_prune.cc:74: tree pruning end, 1 roots, 12 extra nodes, 4 pruned nodes, max_depth=5\u001b[0m\n",
      "\u001b[34m[108]#011train-error:0.0972#011validation-error:0.1522\u001b[0m\n",
      "\u001b[34m[16:50:10] src/tree/updater_prune.cc:74: tree pruning end, 1 roots, 20 extra nodes, 10 pruned nodes, max_depth=5\u001b[0m\n",
      "\u001b[34m[109]#011train-error:0.097#011validation-error:0.1519\u001b[0m\n",
      "\u001b[34m[16:50:11] src/tree/updater_prune.cc:74: tree pruning end, 1 roots, 12 extra nodes, 10 pruned nodes, max_depth=5\u001b[0m\n",
      "\u001b[34m[110]#011train-error:0.096467#011validation-error:0.1531\u001b[0m\n",
      "\u001b[34m[16:50:13] src/tree/updater_prune.cc:74: tree pruning end, 1 roots, 18 extra nodes, 6 pruned nodes, max_depth=5\u001b[0m\n",
      "\u001b[34m[111]#011train-error:0.096667#011validation-error:0.1519\u001b[0m\n",
      "\u001b[34m[16:50:14] src/tree/updater_prune.cc:74: tree pruning end, 1 roots, 18 extra nodes, 4 pruned nodes, max_depth=5\u001b[0m\n",
      "\u001b[34m[112]#011train-error:0.095933#011validation-error:0.152\u001b[0m\n",
      "\u001b[34m[16:50:15] src/tree/updater_prune.cc:74: tree pruning end, 1 roots, 20 extra nodes, 6 pruned nodes, max_depth=5\u001b[0m\n",
      "\u001b[34m[113]#011train-error:0.0962#011validation-error:0.1513\u001b[0m\n",
      "\u001b[34m[16:50:17] src/tree/updater_prune.cc:74: tree pruning end, 1 roots, 22 extra nodes, 16 pruned nodes, max_depth=5\u001b[0m\n",
      "\u001b[34m[114]#011train-error:0.095467#011validation-error:0.1503\u001b[0m\n",
      "\u001b[34m[16:50:18] src/tree/updater_prune.cc:74: tree pruning end, 1 roots, 12 extra nodes, 18 pruned nodes, max_depth=5\u001b[0m\n",
      "\u001b[34m[115]#011train-error:0.0954#011validation-error:0.1502\u001b[0m\n",
      "\u001b[34m[16:50:19] src/tree/updater_prune.cc:74: tree pruning end, 1 roots, 14 extra nodes, 6 pruned nodes, max_depth=5\u001b[0m\n",
      "\u001b[34m[116]#011train-error:0.094533#011validation-error:0.1502\u001b[0m\n",
      "\u001b[34m[16:50:20] src/tree/updater_prune.cc:74: tree pruning end, 1 roots, 26 extra nodes, 14 pruned nodes, max_depth=5\u001b[0m\n",
      "\u001b[34m[117]#011train-error:0.093867#011validation-error:0.1506\u001b[0m\n",
      "\u001b[34m[16:50:22] src/tree/updater_prune.cc:74: tree pruning end, 1 roots, 12 extra nodes, 10 pruned nodes, max_depth=5\u001b[0m\n",
      "\u001b[34m[118]#011train-error:0.094067#011validation-error:0.1497\u001b[0m\n",
      "\u001b[34m[16:50:23] src/tree/updater_prune.cc:74: tree pruning end, 1 roots, 10 extra nodes, 12 pruned nodes, max_depth=5\u001b[0m\n",
      "\u001b[34m[119]#011train-error:0.093133#011validation-error:0.1491\u001b[0m\n",
      "\u001b[34m[16:50:24] src/tree/updater_prune.cc:74: tree pruning end, 1 roots, 18 extra nodes, 8 pruned nodes, max_depth=5\u001b[0m\n",
      "\u001b[34m[120]#011train-error:0.092467#011validation-error:0.1494\u001b[0m\n",
      "\u001b[34m[16:50:26] src/tree/updater_prune.cc:74: tree pruning end, 1 roots, 10 extra nodes, 10 pruned nodes, max_depth=5\u001b[0m\n",
      "\u001b[34m[121]#011train-error:0.092867#011validation-error:0.1491\u001b[0m\n",
      "\u001b[34m[16:50:27] src/tree/updater_prune.cc:74: tree pruning end, 1 roots, 20 extra nodes, 8 pruned nodes, max_depth=5\u001b[0m\n",
      "\u001b[34m[122]#011train-error:0.092333#011validation-error:0.1483\u001b[0m\n",
      "\u001b[34m[16:50:28] src/tree/updater_prune.cc:74: tree pruning end, 1 roots, 24 extra nodes, 14 pruned nodes, max_depth=5\u001b[0m\n",
      "\u001b[34m[123]#011train-error:0.091733#011validation-error:0.1498\u001b[0m\n",
      "\u001b[34m[16:50:29] src/tree/updater_prune.cc:74: tree pruning end, 1 roots, 10 extra nodes, 6 pruned nodes, max_depth=5\u001b[0m\n",
      "\u001b[34m[124]#011train-error:0.0918#011validation-error:0.1491\u001b[0m\n",
      "\u001b[34m[16:50:31] src/tree/updater_prune.cc:74: tree pruning end, 1 roots, 22 extra nodes, 6 pruned nodes, max_depth=5\u001b[0m\n",
      "\u001b[34m[125]#011train-error:0.0912#011validation-error:0.1484\u001b[0m\n",
      "\u001b[34m[16:50:32] src/tree/updater_prune.cc:74: tree pruning end, 1 roots, 30 extra nodes, 14 pruned nodes, max_depth=5\u001b[0m\n",
      "\u001b[34m[126]#011train-error:0.090467#011validation-error:0.147\u001b[0m\n",
      "\u001b[34m[16:50:33] src/tree/updater_prune.cc:74: tree pruning end, 1 roots, 20 extra nodes, 6 pruned nodes, max_depth=5\u001b[0m\n",
      "\u001b[34m[127]#011train-error:0.089933#011validation-error:0.1471\u001b[0m\n",
      "\u001b[34m[16:50:34] src/tree/updater_prune.cc:74: tree pruning end, 1 roots, 10 extra nodes, 6 pruned nodes, max_depth=5\u001b[0m\n",
      "\u001b[34m[128]#011train-error:0.0896#011validation-error:0.1463\u001b[0m\n",
      "\u001b[34m[16:50:36] src/tree/updater_prune.cc:74: tree pruning end, 1 roots, 20 extra nodes, 8 pruned nodes, max_depth=5\u001b[0m\n",
      "\u001b[34m[129]#011train-error:0.089133#011validation-error:0.1461\u001b[0m\n",
      "\u001b[34m[16:50:37] src/tree/updater_prune.cc:74: tree pruning end, 1 roots, 10 extra nodes, 10 pruned nodes, max_depth=5\u001b[0m\n",
      "\u001b[34m[130]#011train-error:0.088733#011validation-error:0.1455\u001b[0m\n",
      "\u001b[34m[16:50:38] src/tree/updater_prune.cc:74: tree pruning end, 1 roots, 10 extra nodes, 4 pruned nodes, max_depth=5\u001b[0m\n",
      "\u001b[34m[131]#011train-error:0.0884#011validation-error:0.1445\u001b[0m\n",
      "\u001b[34m[16:50:40] src/tree/updater_prune.cc:74: tree pruning end, 1 roots, 14 extra nodes, 6 pruned nodes, max_depth=5\u001b[0m\n",
      "\u001b[34m[132]#011train-error:0.0884#011validation-error:0.1452\u001b[0m\n",
      "\u001b[34m[16:50:41] src/tree/updater_prune.cc:74: tree pruning end, 1 roots, 14 extra nodes, 2 pruned nodes, max_depth=5\u001b[0m\n",
      "\u001b[34m[133]#011train-error:0.088333#011validation-error:0.1452\u001b[0m\n",
      "\u001b[34m[16:50:42] src/tree/updater_prune.cc:74: tree pruning end, 1 roots, 16 extra nodes, 8 pruned nodes, max_depth=5\u001b[0m\n",
      "\u001b[34m[134]#011train-error:0.088133#011validation-error:0.1451\u001b[0m\n",
      "\u001b[34m[16:50:43] src/tree/updater_prune.cc:74: tree pruning end, 1 roots, 22 extra nodes, 12 pruned nodes, max_depth=5\u001b[0m\n",
      "\u001b[34m[135]#011train-error:0.0876#011validation-error:0.145\u001b[0m\n",
      "\u001b[34m[16:50:45] src/tree/updater_prune.cc:74: tree pruning end, 1 roots, 12 extra nodes, 10 pruned nodes, max_depth=5\u001b[0m\n",
      "\u001b[34m[136]#011train-error:0.087667#011validation-error:0.1443\u001b[0m\n",
      "\u001b[34m[16:50:46] src/tree/updater_prune.cc:74: tree pruning end, 1 roots, 10 extra nodes, 2 pruned nodes, max_depth=5\u001b[0m\n",
      "\u001b[34m[137]#011train-error:0.087333#011validation-error:0.1447\u001b[0m\n",
      "\u001b[34m[16:50:47] src/tree/updater_prune.cc:74: tree pruning end, 1 roots, 16 extra nodes, 12 pruned nodes, max_depth=5\u001b[0m\n",
      "\u001b[34m[138]#011train-error:0.0872#011validation-error:0.1438\u001b[0m\n",
      "\u001b[34m[16:50:48] src/tree/updater_prune.cc:74: tree pruning end, 1 roots, 10 extra nodes, 4 pruned nodes, max_depth=5\u001b[0m\n",
      "\u001b[34m[139]#011train-error:0.087133#011validation-error:0.1433\u001b[0m\n",
      "\u001b[34m[16:50:50] src/tree/updater_prune.cc:74: tree pruning end, 1 roots, 28 extra nodes, 12 pruned nodes, max_depth=5\u001b[0m\n",
      "\u001b[34m[140]#011train-error:0.086#011validation-error:0.1434\u001b[0m\n",
      "\u001b[34m[16:50:51] src/tree/updater_prune.cc:74: tree pruning end, 1 roots, 10 extra nodes, 22 pruned nodes, max_depth=5\u001b[0m\n",
      "\u001b[34m[141]#011train-error:0.085867#011validation-error:0.143\u001b[0m\n"
     ]
    },
    {
     "name": "stdout",
     "output_type": "stream",
     "text": [
      "\u001b[34m[16:50:52] src/tree/updater_prune.cc:74: tree pruning end, 1 roots, 18 extra nodes, 4 pruned nodes, max_depth=5\u001b[0m\n",
      "\u001b[34m[142]#011train-error:0.085533#011validation-error:0.1433\u001b[0m\n",
      "\u001b[34m[16:50:54] src/tree/updater_prune.cc:74: tree pruning end, 1 roots, 12 extra nodes, 4 pruned nodes, max_depth=5\u001b[0m\n",
      "\u001b[34m[143]#011train-error:0.085667#011validation-error:0.1429\u001b[0m\n",
      "\u001b[34m[16:50:55] src/tree/updater_prune.cc:74: tree pruning end, 1 roots, 14 extra nodes, 4 pruned nodes, max_depth=5\u001b[0m\n",
      "\u001b[34m[144]#011train-error:0.085667#011validation-error:0.1427\u001b[0m\n",
      "\u001b[34m[16:50:56] src/tree/updater_prune.cc:74: tree pruning end, 1 roots, 12 extra nodes, 14 pruned nodes, max_depth=5\u001b[0m\n",
      "\u001b[34m[145]#011train-error:0.085667#011validation-error:0.1425\u001b[0m\n",
      "\u001b[34m[16:50:57] src/tree/updater_prune.cc:74: tree pruning end, 1 roots, 26 extra nodes, 8 pruned nodes, max_depth=5\u001b[0m\n",
      "\u001b[34m[146]#011train-error:0.084467#011validation-error:0.1429\u001b[0m\n",
      "\u001b[34m[16:50:59] src/tree/updater_prune.cc:74: tree pruning end, 1 roots, 22 extra nodes, 0 pruned nodes, max_depth=5\u001b[0m\n",
      "\u001b[34m[147]#011train-error:0.084267#011validation-error:0.1423\u001b[0m\n",
      "\u001b[34m[16:51:00] src/tree/updater_prune.cc:74: tree pruning end, 1 roots, 12 extra nodes, 6 pruned nodes, max_depth=5\u001b[0m\n",
      "\u001b[34m[148]#011train-error:0.083867#011validation-error:0.1424\u001b[0m\n",
      "\u001b[34m[16:51:01] src/tree/updater_prune.cc:74: tree pruning end, 1 roots, 12 extra nodes, 12 pruned nodes, max_depth=5\u001b[0m\n",
      "\u001b[34m[149]#011train-error:0.083533#011validation-error:0.1427\u001b[0m\n",
      "\u001b[34m[16:51:02] src/tree/updater_prune.cc:74: tree pruning end, 1 roots, 12 extra nodes, 4 pruned nodes, max_depth=5\u001b[0m\n",
      "\u001b[34m[150]#011train-error:0.084067#011validation-error:0.1431\u001b[0m\n",
      "\u001b[34m[16:51:04] src/tree/updater_prune.cc:74: tree pruning end, 1 roots, 16 extra nodes, 16 pruned nodes, max_depth=5\u001b[0m\n",
      "\u001b[34m[151]#011train-error:0.083733#011validation-error:0.1424\u001b[0m\n",
      "\u001b[34m[16:51:05] src/tree/updater_prune.cc:74: tree pruning end, 1 roots, 20 extra nodes, 6 pruned nodes, max_depth=5\u001b[0m\n",
      "\u001b[34m[152]#011train-error:0.083133#011validation-error:0.1423\u001b[0m\n",
      "\u001b[34m[16:51:06] src/tree/updater_prune.cc:74: tree pruning end, 1 roots, 16 extra nodes, 10 pruned nodes, max_depth=5\u001b[0m\n",
      "\u001b[34m[153]#011train-error:0.082867#011validation-error:0.1428\u001b[0m\n",
      "\u001b[34m[16:51:07] src/tree/updater_prune.cc:74: tree pruning end, 1 roots, 10 extra nodes, 6 pruned nodes, max_depth=5\u001b[0m\n",
      "\u001b[34m[154]#011train-error:0.082667#011validation-error:0.1422\u001b[0m\n",
      "\u001b[34m[16:51:09] src/tree/updater_prune.cc:74: tree pruning end, 1 roots, 28 extra nodes, 16 pruned nodes, max_depth=5\u001b[0m\n",
      "\u001b[34m[155]#011train-error:0.082067#011validation-error:0.1424\u001b[0m\n",
      "\u001b[34m[16:51:10] src/tree/updater_prune.cc:74: tree pruning end, 1 roots, 16 extra nodes, 8 pruned nodes, max_depth=5\u001b[0m\n",
      "\u001b[34m[156]#011train-error:0.0812#011validation-error:0.1422\u001b[0m\n",
      "\u001b[34m[16:51:11] src/tree/updater_prune.cc:74: tree pruning end, 1 roots, 10 extra nodes, 4 pruned nodes, max_depth=5\u001b[0m\n",
      "\u001b[34m[157]#011train-error:0.081067#011validation-error:0.1421\u001b[0m\n",
      "\u001b[34m[16:51:13] src/tree/updater_prune.cc:74: tree pruning end, 1 roots, 14 extra nodes, 12 pruned nodes, max_depth=5\u001b[0m\n",
      "\u001b[34m[158]#011train-error:0.080533#011validation-error:0.1413\u001b[0m\n",
      "\u001b[34m[16:51:14] src/tree/updater_prune.cc:74: tree pruning end, 1 roots, 22 extra nodes, 10 pruned nodes, max_depth=5\u001b[0m\n",
      "\u001b[34m[159]#011train-error:0.08#011validation-error:0.1418\u001b[0m\n",
      "\u001b[34m[16:51:15] src/tree/updater_prune.cc:74: tree pruning end, 1 roots, 16 extra nodes, 4 pruned nodes, max_depth=5\u001b[0m\n",
      "\u001b[34m[160]#011train-error:0.0798#011validation-error:0.1412\u001b[0m\n",
      "\u001b[34m[16:51:16] src/tree/updater_prune.cc:74: tree pruning end, 1 roots, 22 extra nodes, 4 pruned nodes, max_depth=5\u001b[0m\n",
      "\u001b[34m[161]#011train-error:0.079#011validation-error:0.1407\u001b[0m\n",
      "\u001b[34m[16:51:18] src/tree/updater_prune.cc:74: tree pruning end, 1 roots, 18 extra nodes, 6 pruned nodes, max_depth=5\u001b[0m\n",
      "\u001b[34m[162]#011train-error:0.078733#011validation-error:0.1402\u001b[0m\n",
      "\u001b[34m[16:51:19] src/tree/updater_prune.cc:74: tree pruning end, 1 roots, 22 extra nodes, 12 pruned nodes, max_depth=5\u001b[0m\n",
      "\u001b[34m[163]#011train-error:0.0788#011validation-error:0.14\u001b[0m\n",
      "\u001b[34m[16:51:20] src/tree/updater_prune.cc:74: tree pruning end, 1 roots, 18 extra nodes, 4 pruned nodes, max_depth=5\u001b[0m\n",
      "\u001b[34m[164]#011train-error:0.0788#011validation-error:0.1403\u001b[0m\n",
      "\u001b[34m[16:51:21] src/tree/updater_prune.cc:74: tree pruning end, 1 roots, 16 extra nodes, 12 pruned nodes, max_depth=5\u001b[0m\n",
      "\u001b[34m[165]#011train-error:0.078867#011validation-error:0.1406\u001b[0m\n",
      "\u001b[34m[16:51:23] src/tree/updater_prune.cc:74: tree pruning end, 1 roots, 14 extra nodes, 6 pruned nodes, max_depth=5\u001b[0m\n",
      "\u001b[34m[166]#011train-error:0.0784#011validation-error:0.1401\u001b[0m\n",
      "\u001b[34m[16:51:24] src/tree/updater_prune.cc:74: tree pruning end, 1 roots, 16 extra nodes, 10 pruned nodes, max_depth=5\u001b[0m\n",
      "\u001b[34m[167]#011train-error:0.0776#011validation-error:0.1397\u001b[0m\n",
      "\u001b[34m[16:51:25] src/tree/updater_prune.cc:74: tree pruning end, 1 roots, 12 extra nodes, 4 pruned nodes, max_depth=5\u001b[0m\n",
      "\u001b[34m[168]#011train-error:0.077667#011validation-error:0.1397\u001b[0m\n",
      "\u001b[34m[16:51:26] src/tree/updater_prune.cc:74: tree pruning end, 1 roots, 22 extra nodes, 4 pruned nodes, max_depth=5\u001b[0m\n",
      "\u001b[34m[169]#011train-error:0.0772#011validation-error:0.1404\u001b[0m\n",
      "\u001b[34m[16:51:28] src/tree/updater_prune.cc:74: tree pruning end, 1 roots, 10 extra nodes, 12 pruned nodes, max_depth=5\u001b[0m\n",
      "\u001b[34m[170]#011train-error:0.0774#011validation-error:0.14\u001b[0m\n",
      "\u001b[34m[16:51:29] src/tree/updater_prune.cc:74: tree pruning end, 1 roots, 12 extra nodes, 10 pruned nodes, max_depth=5\u001b[0m\n",
      "\u001b[34m[171]#011train-error:0.077333#011validation-error:0.1397\u001b[0m\n",
      "\u001b[34m[16:51:30] src/tree/updater_prune.cc:74: tree pruning end, 1 roots, 20 extra nodes, 14 pruned nodes, max_depth=5\u001b[0m\n",
      "\u001b[34m[172]#011train-error:0.077#011validation-error:0.1395\u001b[0m\n",
      "\u001b[34m[16:51:31] src/tree/updater_prune.cc:74: tree pruning end, 1 roots, 20 extra nodes, 4 pruned nodes, max_depth=5\u001b[0m\n",
      "\u001b[34m[173]#011train-error:0.076933#011validation-error:0.1392\u001b[0m\n",
      "\u001b[34m[16:51:33] src/tree/updater_prune.cc:74: tree pruning end, 1 roots, 12 extra nodes, 12 pruned nodes, max_depth=5\u001b[0m\n",
      "\u001b[34m[174]#011train-error:0.076333#011validation-error:0.1393\u001b[0m\n",
      "\u001b[34m[16:51:34] src/tree/updater_prune.cc:74: tree pruning end, 1 roots, 14 extra nodes, 2 pruned nodes, max_depth=5\u001b[0m\n",
      "\u001b[34m[175]#011train-error:0.076333#011validation-error:0.1397\u001b[0m\n",
      "\u001b[34m[16:51:35] src/tree/updater_prune.cc:74: tree pruning end, 1 roots, 18 extra nodes, 8 pruned nodes, max_depth=5\u001b[0m\n",
      "\u001b[34m[176]#011train-error:0.075867#011validation-error:0.1394\u001b[0m\n",
      "\u001b[34m[16:51:37] src/tree/updater_prune.cc:74: tree pruning end, 1 roots, 24 extra nodes, 4 pruned nodes, max_depth=5\u001b[0m\n",
      "\u001b[34m[177]#011train-error:0.075067#011validation-error:0.139\u001b[0m\n",
      "\u001b[34m[16:51:38] src/tree/updater_prune.cc:74: tree pruning end, 1 roots, 10 extra nodes, 2 pruned nodes, max_depth=5\u001b[0m\n",
      "\u001b[34m[178]#011train-error:0.0748#011validation-error:0.1399\u001b[0m\n",
      "\u001b[34m[16:51:39] src/tree/updater_prune.cc:74: tree pruning end, 1 roots, 10 extra nodes, 10 pruned nodes, max_depth=5\u001b[0m\n",
      "\u001b[34m[179]#011train-error:0.075#011validation-error:0.1396\u001b[0m\n",
      "\u001b[34m[16:51:40] src/tree/updater_prune.cc:74: tree pruning end, 1 roots, 12 extra nodes, 10 pruned nodes, max_depth=5\u001b[0m\n",
      "\u001b[34m[180]#011train-error:0.075133#011validation-error:0.1397\u001b[0m\n",
      "\u001b[34m[16:51:42] src/tree/updater_prune.cc:74: tree pruning end, 1 roots, 14 extra nodes, 4 pruned nodes, max_depth=5\u001b[0m\n",
      "\u001b[34m[181]#011train-error:0.075#011validation-error:0.1391\u001b[0m\n",
      "\u001b[34m[16:51:43] src/tree/updater_prune.cc:74: tree pruning end, 1 roots, 10 extra nodes, 6 pruned nodes, max_depth=5\u001b[0m\n",
      "\u001b[34m[182]#011train-error:0.074667#011validation-error:0.1394\u001b[0m\n",
      "\u001b[34m[16:51:44] src/tree/updater_prune.cc:74: tree pruning end, 1 roots, 10 extra nodes, 2 pruned nodes, max_depth=5\u001b[0m\n",
      "\u001b[34m[183]#011train-error:0.073933#011validation-error:0.1393\u001b[0m\n",
      "\u001b[34m[16:51:45] src/tree/updater_prune.cc:74: tree pruning end, 1 roots, 12 extra nodes, 8 pruned nodes, max_depth=5\u001b[0m\n",
      "\u001b[34m[184]#011train-error:0.074267#011validation-error:0.1402\u001b[0m\n",
      "\u001b[34m[16:51:47] src/tree/updater_prune.cc:74: tree pruning end, 1 roots, 12 extra nodes, 4 pruned nodes, max_depth=5\u001b[0m\n",
      "\u001b[34m[185]#011train-error:0.0742#011validation-error:0.1398\u001b[0m\n"
     ]
    },
    {
     "name": "stdout",
     "output_type": "stream",
     "text": [
      "\u001b[34m[16:51:48] src/tree/updater_prune.cc:74: tree pruning end, 1 roots, 16 extra nodes, 14 pruned nodes, max_depth=5\u001b[0m\n",
      "\u001b[34m[186]#011train-error:0.073333#011validation-error:0.1398\u001b[0m\n",
      "\u001b[34m[16:51:49] src/tree/updater_prune.cc:74: tree pruning end, 1 roots, 10 extra nodes, 10 pruned nodes, max_depth=5\u001b[0m\n",
      "\u001b[34m[187]#011train-error:0.0738#011validation-error:0.1393\u001b[0m\n",
      "\u001b[34mStopping. Best iteration:\u001b[0m\n",
      "\u001b[34m[177]#011train-error:0.075067#011validation-error:0.139\n",
      "\u001b[0m\n",
      "\n",
      "2020-07-19 16:52:54 Uploading - Uploading generated training model\n",
      "2020-07-19 16:52:54 Completed - Training job completed\n",
      "Training seconds: 351\n",
      "Billable seconds: 351\n"
     ]
    }
   ],
   "source": [
    "xgb.fit({'train': s3_input_train, 'validation': s3_input_validation})"
   ]
  },
  {
   "cell_type": "markdown",
   "metadata": {},
   "source": [
    "## Step 5: Testing the model\n",
    "\n",
    "Now that we've fit our XGBoost model, it's time to see how well it performs. To do this we will use SageMakers Batch Transform functionality. Batch Transform is a convenient way to perform inference on a large dataset in a way that is not realtime. That is, we don't necessarily need to use our model's results immediately and instead we can perform inference on a large number of samples. An example of this in industry might be performing an end of month report. This method of inference can also be useful to us as it means that we can perform inference on our entire test set. \n",
    "\n",
    "To perform a Batch Transformation we need to first create a transformer objects from our trained estimator object."
   ]
  },
  {
   "cell_type": "code",
   "execution_count": 24,
   "metadata": {},
   "outputs": [
    {
     "name": "stderr",
     "output_type": "stream",
     "text": [
      "WARNING:sagemaker:Parameter image will be renamed to image_uri in SageMaker Python SDK v2.\n"
     ]
    }
   ],
   "source": [
    "xgb_transformer = xgb.transformer(instance_count = 1, instance_type = 'ml.m4.xlarge')"
   ]
  },
  {
   "cell_type": "markdown",
   "metadata": {},
   "source": [
    "Next we actually perform the transform job. When doing so we need to make sure to specify the type of data we are sending so that it is serialized correctly in the background. In our case we are providing our model with csv data so we specify `text/csv`. Also, if the test data that we have provided is too large to process all at once then we need to specify how the data file should be split up. Since each line is a single entry in our data set we tell SageMaker that it can split the input on each line."
   ]
  },
  {
   "cell_type": "code",
   "execution_count": 25,
   "metadata": {},
   "outputs": [],
   "source": [
    "xgb_transformer.transform(test_location, content_type='text/csv', split_type='Line')"
   ]
  },
  {
   "cell_type": "markdown",
   "metadata": {},
   "source": [
    "Currently the transform job is running but it is doing so in the background. Since we wish to wait until the transform job is done and we would like a bit of feedback we can run the `wait()` method."
   ]
  },
  {
   "cell_type": "code",
   "execution_count": 26,
   "metadata": {},
   "outputs": [
    {
     "name": "stdout",
     "output_type": "stream",
     "text": [
      "........................\u001b[34mArguments: serve\u001b[0m\n",
      "\u001b[34m[2020-07-19 16:57:00 +0000] [1] [INFO] Starting gunicorn 19.7.1\u001b[0m\n",
      "\u001b[34m[2020-07-19 16:57:00 +0000] [1] [INFO] Listening at: http://0.0.0.0:8080 (1)\u001b[0m\n",
      "\u001b[34m[2020-07-19 16:57:00 +0000] [1] [INFO] Using worker: gevent\u001b[0m\n",
      "\u001b[34m[2020-07-19 16:57:00 +0000] [37] [INFO] Booting worker with pid: 37\u001b[0m\n",
      "\u001b[34m[2020-07-19 16:57:01 +0000] [38] [INFO] Booting worker with pid: 38\u001b[0m\n",
      "\u001b[34m[2020-07-19 16:57:01 +0000] [39] [INFO] Booting worker with pid: 39\u001b[0m\n",
      "\u001b[34m[2020-07-19 16:57:01 +0000] [40] [INFO] Booting worker with pid: 40\u001b[0m\n",
      "\u001b[34m[2020-07-19:16:57:01:INFO] Model loaded successfully for worker : 37\u001b[0m\n",
      "\u001b[34m[2020-07-19:16:57:01:INFO] Model loaded successfully for worker : 38\u001b[0m\n",
      "\u001b[34m[2020-07-19:16:57:01:INFO] Model loaded successfully for worker : 39\u001b[0m\n",
      "\u001b[34m[2020-07-19:16:57:01:INFO] Model loaded successfully for worker : 40\u001b[0m\n",
      "\u001b[32m2020-07-19T16:57:33.731:[sagemaker logs]: MaxConcurrentTransforms=4, MaxPayloadInMB=6, BatchStrategy=MULTI_RECORD\u001b[0m\n",
      "\u001b[34m[2020-07-19:16:57:37:INFO] Sniff delimiter as ','\u001b[0m\n",
      "\u001b[34m[2020-07-19:16:57:37:INFO] Determined delimiter of CSV input is ','\u001b[0m\n",
      "\u001b[34m[2020-07-19:16:57:37:INFO] Sniff delimiter as ','\u001b[0m\n",
      "\u001b[35m[2020-07-19:16:57:37:INFO] Sniff delimiter as ','\u001b[0m\n",
      "\u001b[35m[2020-07-19:16:57:37:INFO] Determined delimiter of CSV input is ','\u001b[0m\n",
      "\u001b[35m[2020-07-19:16:57:37:INFO] Sniff delimiter as ','\u001b[0m\n",
      "\u001b[34m[2020-07-19:16:57:37:INFO] Determined delimiter of CSV input is ','\u001b[0m\n",
      "\u001b[34m[2020-07-19:16:57:37:INFO] Sniff delimiter as ','\u001b[0m\n",
      "\u001b[34m[2020-07-19:16:57:37:INFO] Determined delimiter of CSV input is ','\u001b[0m\n",
      "\u001b[34m[2020-07-19:16:57:37:INFO] Sniff delimiter as ','\u001b[0m\n",
      "\u001b[34m[2020-07-19:16:57:37:INFO] Determined delimiter of CSV input is ','\u001b[0m\n",
      "\u001b[35m[2020-07-19:16:57:37:INFO] Determined delimiter of CSV input is ','\u001b[0m\n",
      "\u001b[35m[2020-07-19:16:57:37:INFO] Sniff delimiter as ','\u001b[0m\n",
      "\u001b[35m[2020-07-19:16:57:37:INFO] Determined delimiter of CSV input is ','\u001b[0m\n",
      "\u001b[35m[2020-07-19:16:57:37:INFO] Sniff delimiter as ','\u001b[0m\n",
      "\u001b[35m[2020-07-19:16:57:37:INFO] Determined delimiter of CSV input is ','\u001b[0m\n",
      "\u001b[34m[2020-07-19:16:57:39:INFO] Sniff delimiter as ','\u001b[0m\n",
      "\u001b[34m[2020-07-19:16:57:39:INFO] Determined delimiter of CSV input is ','\u001b[0m\n",
      "\u001b[34m[2020-07-19:16:57:39:INFO] Sniff delimiter as ','\u001b[0m\n",
      "\u001b[34m[2020-07-19:16:57:39:INFO] Determined delimiter of CSV input is ','\u001b[0m\n",
      "\u001b[34m[2020-07-19:16:57:39:INFO] Sniff delimiter as ','\u001b[0m\n",
      "\u001b[34m[2020-07-19:16:57:39:INFO] Determined delimiter of CSV input is ','\u001b[0m\n",
      "\u001b[34m[2020-07-19:16:57:39:INFO] Sniff delimiter as ','\u001b[0m\n",
      "\u001b[34m[2020-07-19:16:57:39:INFO] Determined delimiter of CSV input is ','\u001b[0m\n",
      "\u001b[35m[2020-07-19:16:57:39:INFO] Sniff delimiter as ','\u001b[0m\n",
      "\u001b[35m[2020-07-19:16:57:39:INFO] Determined delimiter of CSV input is ','\u001b[0m\n",
      "\u001b[35m[2020-07-19:16:57:39:INFO] Sniff delimiter as ','\u001b[0m\n",
      "\u001b[35m[2020-07-19:16:57:39:INFO] Determined delimiter of CSV input is ','\u001b[0m\n",
      "\u001b[35m[2020-07-19:16:57:39:INFO] Sniff delimiter as ','\u001b[0m\n",
      "\u001b[35m[2020-07-19:16:57:39:INFO] Determined delimiter of CSV input is ','\u001b[0m\n",
      "\u001b[35m[2020-07-19:16:57:39:INFO] Sniff delimiter as ','\u001b[0m\n",
      "\u001b[35m[2020-07-19:16:57:39:INFO] Determined delimiter of CSV input is ','\u001b[0m\n",
      "\u001b[34m[2020-07-19:16:57:44:INFO] Sniff delimiter as ','\u001b[0m\n",
      "\u001b[34m[2020-07-19:16:57:44:INFO] Determined delimiter of CSV input is ','\u001b[0m\n",
      "\u001b[35m[2020-07-19:16:57:44:INFO] Sniff delimiter as ','\u001b[0m\n",
      "\u001b[35m[2020-07-19:16:57:44:INFO] Determined delimiter of CSV input is ','\u001b[0m\n",
      "\u001b[34m[2020-07-19:16:57:44:INFO] Sniff delimiter as ','\u001b[0m\n",
      "\u001b[34m[2020-07-19:16:57:44:INFO] Determined delimiter of CSV input is ','\u001b[0m\n",
      "\u001b[34m[2020-07-19:16:57:44:INFO] Sniff delimiter as ','\u001b[0m\n",
      "\u001b[34m[2020-07-19:16:57:44:INFO] Determined delimiter of CSV input is ','\u001b[0m\n",
      "\u001b[34m[2020-07-19:16:57:44:INFO] Sniff delimiter as ','\u001b[0m\n",
      "\u001b[34m[2020-07-19:16:57:44:INFO] Determined delimiter of CSV input is ','\u001b[0m\n",
      "\u001b[35m[2020-07-19:16:57:44:INFO] Sniff delimiter as ','\u001b[0m\n",
      "\u001b[35m[2020-07-19:16:57:44:INFO] Determined delimiter of CSV input is ','\u001b[0m\n",
      "\u001b[35m[2020-07-19:16:57:44:INFO] Sniff delimiter as ','\u001b[0m\n",
      "\u001b[35m[2020-07-19:16:57:44:INFO] Determined delimiter of CSV input is ','\u001b[0m\n",
      "\u001b[35m[2020-07-19:16:57:44:INFO] Sniff delimiter as ','\u001b[0m\n",
      "\u001b[35m[2020-07-19:16:57:44:INFO] Determined delimiter of CSV input is ','\u001b[0m\n",
      "\u001b[34m[2020-07-19:16:57:46:INFO] Sniff delimiter as ','\u001b[0m\n",
      "\u001b[34m[2020-07-19:16:57:46:INFO] Determined delimiter of CSV input is ','\u001b[0m\n",
      "\u001b[35m[2020-07-19:16:57:46:INFO] Sniff delimiter as ','\u001b[0m\n",
      "\u001b[35m[2020-07-19:16:57:46:INFO] Determined delimiter of CSV input is ','\u001b[0m\n",
      "\u001b[34m[2020-07-19:16:57:47:INFO] Sniff delimiter as ','\u001b[0m\n",
      "\u001b[34m[2020-07-19:16:57:47:INFO] Determined delimiter of CSV input is ','\u001b[0m\n",
      "\u001b[34m[2020-07-19:16:57:47:INFO] Sniff delimiter as ','\u001b[0m\n",
      "\u001b[34m[2020-07-19:16:57:47:INFO] Determined delimiter of CSV input is ','\u001b[0m\n",
      "\u001b[34m[2020-07-19:16:57:47:INFO] Sniff delimiter as ','\u001b[0m\n",
      "\u001b[34m[2020-07-19:16:57:47:INFO] Determined delimiter of CSV input is ','\u001b[0m\n",
      "\u001b[35m[2020-07-19:16:57:47:INFO] Sniff delimiter as ','\u001b[0m\n",
      "\u001b[35m[2020-07-19:16:57:47:INFO] Determined delimiter of CSV input is ','\u001b[0m\n",
      "\u001b[35m[2020-07-19:16:57:47:INFO] Sniff delimiter as ','\u001b[0m\n",
      "\u001b[35m[2020-07-19:16:57:47:INFO] Determined delimiter of CSV input is ','\u001b[0m\n",
      "\u001b[35m[2020-07-19:16:57:47:INFO] Sniff delimiter as ','\u001b[0m\n",
      "\u001b[35m[2020-07-19:16:57:47:INFO] Determined delimiter of CSV input is ','\u001b[0m\n",
      "\u001b[34m[2020-07-19:16:57:49:INFO] Sniff delimiter as ','\u001b[0m\n",
      "\u001b[35m[2020-07-19:16:57:49:INFO] Sniff delimiter as ','\u001b[0m\n",
      "\u001b[34m[2020-07-19:16:57:49:INFO] Determined delimiter of CSV input is ','\u001b[0m\n",
      "\u001b[34m[2020-07-19:16:57:49:INFO] Sniff delimiter as ','\u001b[0m\n",
      "\u001b[34m[2020-07-19:16:57:49:INFO] Determined delimiter of CSV input is ','\u001b[0m\n",
      "\u001b[34m[2020-07-19:16:57:49:INFO] Sniff delimiter as ','\u001b[0m\n",
      "\u001b[34m[2020-07-19:16:57:49:INFO] Determined delimiter of CSV input is ','\u001b[0m\n",
      "\u001b[35m[2020-07-19:16:57:49:INFO] Determined delimiter of CSV input is ','\u001b[0m\n",
      "\u001b[35m[2020-07-19:16:57:49:INFO] Sniff delimiter as ','\u001b[0m\n",
      "\u001b[35m[2020-07-19:16:57:49:INFO] Determined delimiter of CSV input is ','\u001b[0m\n",
      "\u001b[35m[2020-07-19:16:57:49:INFO] Sniff delimiter as ','\u001b[0m\n",
      "\u001b[35m[2020-07-19:16:57:49:INFO] Determined delimiter of CSV input is ','\u001b[0m\n",
      "\u001b[34m[2020-07-19:16:57:49:INFO] Sniff delimiter as ','\u001b[0m\n",
      "\u001b[34m[2020-07-19:16:57:49:INFO] Determined delimiter of CSV input is ','\u001b[0m\n",
      "\u001b[35m[2020-07-19:16:57:49:INFO] Sniff delimiter as ','\u001b[0m\n",
      "\u001b[35m[2020-07-19:16:57:49:INFO] Determined delimiter of CSV input is ','\u001b[0m\n",
      "\u001b[34m[2020-07-19:16:57:51:INFO] Sniff delimiter as ','\u001b[0m\n",
      "\u001b[34m[2020-07-19:16:57:51:INFO] Determined delimiter of CSV input is ','\u001b[0m\n",
      "\u001b[34m[2020-07-19:16:57:51:INFO] Sniff delimiter as ','\u001b[0m\n",
      "\u001b[34m[2020-07-19:16:57:51:INFO] Determined delimiter of CSV input is ','\u001b[0m\n",
      "\u001b[34m[2020-07-19:16:57:52:INFO] Sniff delimiter as ','\u001b[0m\n",
      "\u001b[34m[2020-07-19:16:57:52:INFO] Determined delimiter of CSV input is ','\u001b[0m\n",
      "\u001b[35m[2020-07-19:16:57:51:INFO] Sniff delimiter as ','\u001b[0m\n",
      "\u001b[35m[2020-07-19:16:57:51:INFO] Determined delimiter of CSV input is ','\u001b[0m\n",
      "\u001b[35m[2020-07-19:16:57:51:INFO] Sniff delimiter as ','\u001b[0m\n",
      "\u001b[35m[2020-07-19:16:57:51:INFO] Determined delimiter of CSV input is ','\u001b[0m\n",
      "\u001b[35m[2020-07-19:16:57:52:INFO] Sniff delimiter as ','\u001b[0m\n",
      "\u001b[35m[2020-07-19:16:57:52:INFO] Determined delimiter of CSV input is ','\u001b[0m\n",
      "\u001b[34m[2020-07-19:16:57:54:INFO] Sniff delimiter as ','\u001b[0m\n",
      "\u001b[34m[2020-07-19:16:57:54:INFO] Determined delimiter of CSV input is ','\u001b[0m\n",
      "\u001b[34m[2020-07-19:16:57:54:INFO] Sniff delimiter as ','\u001b[0m\n",
      "\u001b[34m[2020-07-19:16:57:54:INFO] Determined delimiter of CSV input is ','\u001b[0m\n",
      "\u001b[34m[2020-07-19:16:57:54:INFO] Sniff delimiter as ','\u001b[0m\n",
      "\u001b[34m[2020-07-19:16:57:54:INFO] Determined delimiter of CSV input is ','\u001b[0m\n",
      "\u001b[34m[2020-07-19:16:57:54:INFO] Sniff delimiter as ','\u001b[0m\n",
      "\u001b[34m[2020-07-19:16:57:54:INFO] Determined delimiter of CSV input is ','\u001b[0m\n",
      "\u001b[35m[2020-07-19:16:57:54:INFO] Sniff delimiter as ','\u001b[0m\n",
      "\u001b[35m[2020-07-19:16:57:54:INFO] Determined delimiter of CSV input is ','\u001b[0m\n",
      "\u001b[35m[2020-07-19:16:57:54:INFO] Sniff delimiter as ','\u001b[0m\n",
      "\u001b[35m[2020-07-19:16:57:54:INFO] Determined delimiter of CSV input is ','\u001b[0m\n",
      "\u001b[35m[2020-07-19:16:57:54:INFO] Sniff delimiter as ','\u001b[0m\n",
      "\u001b[35m[2020-07-19:16:57:54:INFO] Determined delimiter of CSV input is ','\u001b[0m\n",
      "\u001b[35m[2020-07-19:16:57:54:INFO] Sniff delimiter as ','\u001b[0m\n",
      "\u001b[35m[2020-07-19:16:57:54:INFO] Determined delimiter of CSV input is ','\u001b[0m\n",
      "\u001b[34m[2020-07-19:16:57:56:INFO] Sniff delimiter as ','\u001b[0m\n",
      "\u001b[34m[2020-07-19:16:57:56:INFO] Determined delimiter of CSV input is ','\u001b[0m\n",
      "\u001b[34m[2020-07-19:16:57:56:INFO] Sniff delimiter as ','\u001b[0m\n",
      "\u001b[34m[2020-07-19:16:57:56:INFO] Determined delimiter of CSV input is ','\u001b[0m\n",
      "\u001b[34m[2020-07-19:16:57:56:INFO] Sniff delimiter as ','\u001b[0m\n",
      "\u001b[34m[2020-07-19:16:57:56:INFO] Determined delimiter of CSV input is ','\u001b[0m\n",
      "\u001b[34m[2020-07-19:16:57:56:INFO] Sniff delimiter as ','\u001b[0m\n",
      "\u001b[34m[2020-07-19:16:57:56:INFO] Determined delimiter of CSV input is ','\u001b[0m\n",
      "\u001b[35m[2020-07-19:16:57:56:INFO] Sniff delimiter as ','\u001b[0m\n",
      "\u001b[35m[2020-07-19:16:57:56:INFO] Determined delimiter of CSV input is ','\u001b[0m\n",
      "\u001b[35m[2020-07-19:16:57:56:INFO] Sniff delimiter as ','\u001b[0m\n",
      "\u001b[35m[2020-07-19:16:57:56:INFO] Determined delimiter of CSV input is ','\u001b[0m\n",
      "\u001b[35m[2020-07-19:16:57:56:INFO] Sniff delimiter as ','\u001b[0m\n",
      "\u001b[35m[2020-07-19:16:57:56:INFO] Determined delimiter of CSV input is ','\u001b[0m\n",
      "\u001b[35m[2020-07-19:16:57:56:INFO] Sniff delimiter as ','\u001b[0m\n",
      "\u001b[35m[2020-07-19:16:57:56:INFO] Determined delimiter of CSV input is ','\u001b[0m\n",
      "\u001b[34m[2020-07-19:16:57:58:INFO] Sniff delimiter as ','\u001b[0m\n",
      "\u001b[34m[2020-07-19:16:57:58:INFO] Determined delimiter of CSV input is ','\u001b[0m\n",
      "\u001b[34m[2020-07-19:16:57:59:INFO] Sniff delimiter as ','\u001b[0m\n",
      "\u001b[34m[2020-07-19:16:57:59:INFO] Determined delimiter of CSV input is ','\u001b[0m\n",
      "\u001b[34m[2020-07-19:16:57:59:INFO] Sniff delimiter as ','\u001b[0m\n",
      "\u001b[34m[2020-07-19:16:57:59:INFO] Determined delimiter of CSV input is ','\u001b[0m\n",
      "\u001b[34m[2020-07-19:16:57:59:INFO] Sniff delimiter as ','\u001b[0m\n",
      "\u001b[34m[2020-07-19:16:57:59:INFO] Determined delimiter of CSV input is ','\u001b[0m\n",
      "\u001b[35m[2020-07-19:16:57:58:INFO] Sniff delimiter as ','\u001b[0m\n",
      "\u001b[35m[2020-07-19:16:57:58:INFO] Determined delimiter of CSV input is ','\u001b[0m\n",
      "\u001b[35m[2020-07-19:16:57:59:INFO] Sniff delimiter as ','\u001b[0m\n",
      "\u001b[35m[2020-07-19:16:57:59:INFO] Determined delimiter of CSV input is ','\u001b[0m\n",
      "\u001b[35m[2020-07-19:16:57:59:INFO] Sniff delimiter as ','\u001b[0m\n",
      "\u001b[35m[2020-07-19:16:57:59:INFO] Determined delimiter of CSV input is ','\u001b[0m\n",
      "\u001b[35m[2020-07-19:16:57:59:INFO] Sniff delimiter as ','\u001b[0m\n",
      "\u001b[35m[2020-07-19:16:57:59:INFO] Determined delimiter of CSV input is ','\u001b[0m\n"
     ]
    },
    {
     "name": "stdout",
     "output_type": "stream",
     "text": [
      "\n"
     ]
    }
   ],
   "source": [
    "xgb_transformer.wait()"
   ]
  },
  {
   "cell_type": "markdown",
   "metadata": {},
   "source": [
    "Now the transform job has executed and the result, the estimated sentiment of each review, has been saved on S3. Since we would rather work on this file locally we can perform a bit of notebook magic to copy the file to the `data_dir`."
   ]
  },
  {
   "cell_type": "code",
   "execution_count": 27,
   "metadata": {},
   "outputs": [
    {
     "name": "stdout",
     "output_type": "stream",
     "text": [
      "Completed 256.0 KiB/370.2 KiB (3.0 MiB/s) with 1 file(s) remaining\r",
      "Completed 370.2 KiB/370.2 KiB (4.3 MiB/s) with 1 file(s) remaining\r",
      "download: s3://sagemaker-us-east-1-185596030677/xgboost-2020-07-19-16-53-12-423/test.csv.out to ../data/sentiment_web_app/test.csv.out\r\n"
     ]
    }
   ],
   "source": [
    "!aws s3 cp --recursive $xgb_transformer.output_path $data_dir"
   ]
  },
  {
   "cell_type": "markdown",
   "metadata": {},
   "source": [
    "The last step is now to read in the output from our model, convert the output to something a little more usable, in this case we want the sentiment to be either `1` (positive) or `0` (negative), and then compare to the ground truth labels."
   ]
  },
  {
   "cell_type": "code",
   "execution_count": 28,
   "metadata": {},
   "outputs": [],
   "source": [
    "predictions = pd.read_csv(os.path.join(data_dir, 'test.csv.out'), header=None)\n",
    "predictions = [round(num) for num in predictions.squeeze().values]"
   ]
  },
  {
   "cell_type": "code",
   "execution_count": 29,
   "metadata": {},
   "outputs": [
    {
     "data": {
      "text/plain": [
       "0.86116"
      ]
     },
     "execution_count": 29,
     "metadata": {},
     "output_type": "execute_result"
    }
   ],
   "source": [
    "from sklearn.metrics import accuracy_score\n",
    "accuracy_score(test_y, predictions)"
   ]
  },
  {
   "cell_type": "markdown",
   "metadata": {},
   "source": [
    "## Step 6: Deploying the model\n",
    "\n",
    "Once we construct and fit our model, SageMaker stores the resulting model artifacts and we can use those to deploy an endpoint (inference code). To see this, look in the SageMaker console and you should see that a model has been created along with a link to the S3 location where the model artifacts have been stored.\n",
    "\n",
    "Deploying an endpoint is a lot like training the model with a few important differences. The first is that a deployed model doesn't change the model artifacts, so as you send it various testing instances the model won't change. Another difference is that since we aren't performing a fixed computation, as we were in the training step or while performing a batch transform, the compute instance that gets started stays running until we tell it to stop. This is important to note as if we forget and leave it running we will be charged the entire time.\n",
    "\n",
    "In other words **If you are no longer using a deployed endpoint, shut it down!**"
   ]
  },
  {
   "cell_type": "code",
   "execution_count": 30,
   "metadata": {},
   "outputs": [
    {
     "name": "stderr",
     "output_type": "stream",
     "text": [
      "WARNING:sagemaker:Parameter image will be renamed to image_uri in SageMaker Python SDK v2.\n",
      "WARNING:sagemaker:Using already existing model: xgboost-2020-07-19-16-44-24-916\n"
     ]
    },
    {
     "name": "stdout",
     "output_type": "stream",
     "text": [
      "---------------!"
     ]
    }
   ],
   "source": [
    "xgb_predictor = xgb.deploy(initial_instance_count = 1, instance_type = 'ml.m4.xlarge')"
   ]
  },
  {
   "cell_type": "markdown",
   "metadata": {},
   "source": [
    "### Testing the model (again)\n",
    "\n",
    "Now that we have deployed our endpoint, we can send the testing data to it and get back the inference results. We already did this earlier using the batch transform functionality of SageMaker, however, we will test our model again using the newly deployed endpoint so that we can make sure that it works properly and to get a bit of a feel for how the endpoint works.\n",
    "\n",
    "When using the created endpoint it is important to know that we are limited in the amount of information we can send in each call so we need to break the testing data up into chunks and then send each chunk. Also, we need to serialize our data before we send it to the endpoint to ensure that our data is transmitted properly. Fortunately, SageMaker can do the serialization part for us provided we tell it the format of our data."
   ]
  },
  {
   "cell_type": "code",
   "execution_count": 31,
   "metadata": {},
   "outputs": [],
   "source": [
    "from sagemaker.predictor import csv_serializer\n",
    "\n",
    "# We need to tell the endpoint what format the data we are sending is in so that SageMaker can perform the serialization.\n",
    "xgb_predictor.content_type = 'text/csv'\n",
    "xgb_predictor.serializer = csv_serializer"
   ]
  },
  {
   "cell_type": "code",
   "execution_count": 32,
   "metadata": {},
   "outputs": [],
   "source": [
    "# We split the data into chunks and send each chunk seperately, accumulating the results.\n",
    "\n",
    "def predict(data, rows=512):\n",
    "    split_array = np.array_split(data, int(data.shape[0] / float(rows) + 1))\n",
    "    predictions = ''\n",
    "    for array in split_array:\n",
    "        predictions = ','.join([predictions, xgb_predictor.predict(array).decode('utf-8')])\n",
    "    \n",
    "    return np.fromstring(predictions[1:], sep=',')"
   ]
  },
  {
   "cell_type": "code",
   "execution_count": 33,
   "metadata": {},
   "outputs": [],
   "source": [
    "test_X = pd.read_csv(os.path.join(data_dir, 'test.csv'), header=None).values\n",
    "\n",
    "predictions = predict(test_X)\n",
    "predictions = [round(num) for num in predictions]"
   ]
  },
  {
   "cell_type": "markdown",
   "metadata": {},
   "source": [
    "Lastly, we check to see what the accuracy of our model is."
   ]
  },
  {
   "cell_type": "code",
   "execution_count": 34,
   "metadata": {},
   "outputs": [
    {
     "data": {
      "text/plain": [
       "0.86116"
      ]
     },
     "execution_count": 34,
     "metadata": {},
     "output_type": "execute_result"
    }
   ],
   "source": [
    "from sklearn.metrics import accuracy_score\n",
    "accuracy_score(test_y, predictions)"
   ]
  },
  {
   "cell_type": "markdown",
   "metadata": {},
   "source": [
    "And the results here should agree with the model testing that we did earlier using the batch transform job.\n",
    "\n",
    "### Cleaning up\n",
    "\n",
    "Now that we've determined that deploying our model works as expected, we are going to shut it down. Remember that the longer the endpoint is left running, the greater the cost and since we have a bit more work to do before we are able to use our endpoint with our simple web app, we should shut everything down."
   ]
  },
  {
   "cell_type": "code",
   "execution_count": 35,
   "metadata": {},
   "outputs": [],
   "source": [
    "xgb_predictor.delete_endpoint()"
   ]
  },
  {
   "cell_type": "markdown",
   "metadata": {},
   "source": [
    "## Step 7: Putting our model to work\n",
    "\n",
    "As we've mentioned a few times now, our goal is to have our model deployed and then access it using a very simple web app. The intent is for this web app to take some user submitted data (a review), send it off to our endpoint (the model) and then display the result.\n",
    "\n",
    "However, there is a small catch. Currently the only way we can access the endpoint to send it data is using the SageMaker API. We can, if we wish, expose the actual URL that our model's endpoint is receiving data from, however, if we just send it data ourselves we will not get anything in return. This is because the endpoint created by SageMaker requires the entity accessing it have the correct permissions. So, we would need to somehow authenticate our web app with AWS.\n",
    "\n",
    "Having a website that authenticates to AWS seems a bit beyond the scope of this lesson so we will opt for an alternative approach. Namely, we will create a new endpoint which does not require authentication and which acts as a proxy for the SageMaker endpoint.\n",
    "\n",
    "As an additional constraint, we will try to avoid doing any data processing in the web app itself. Remember that when we constructed and tested our model we started with a movie review, then we simplified it by removing any html formatting and punctuation, then we constructed a bag of words embedding and the resulting vector is what we sent to our model. All of this needs to be done to our user input as well.\n",
    "\n",
    "Fortunately we can do all of this data processing in the backend, using Amazon's Lambda service.\n",
    "\n",
    "<img src=\"Web App Diagram.svg\">\n",
    "\n",
    "The diagram above gives an overview of how the various services will work together. On the far right is the model which we trained above and which will be deployed using SageMaker. On the far left is our web app that collects a user's movie review, sends it off and expects a positive or negative sentiment in return.\n",
    "\n",
    "In the middle is where some of the magic happens. We will construct a Lambda function, which you can think of as a straightforward Python function that can be executed whenever a specified event occurs. This Python function will do the data processing we need to perform on a user submitted review. In addition, we will give this function permission to send and recieve data from a SageMaker endpoint.\n",
    "\n",
    "Lastly, the method we will use to execute the Lambda function is a new endpoint that we will create using API Gateway. This endpoint will be a url that listens for data to be sent to it. Once it gets some data it will pass that data on to the Lambda function and then return whatever the Lambda function returns. Essentially it will act as an interface that lets our web app communicate with the Lambda function.\n",
    "\n",
    "### Processing a single review\n",
    "\n",
    "For now, suppose we are given a movie review by our user in the form of a string, like so:"
   ]
  },
  {
   "cell_type": "code",
   "execution_count": 36,
   "metadata": {},
   "outputs": [],
   "source": [
    "test_review = \"Nothing but a disgusting materialistic pageant of glistening abed remote control greed zombies, totally devoid of any heart or heat. A romantic comedy that has zero romantic chemestry and zero laughs!\""
   ]
  },
  {
   "cell_type": "markdown",
   "metadata": {},
   "source": [
    "How do we go from this string to the bag of words feature vector that is expected by our model?\n",
    "\n",
    "If we recall at the beginning of this notebook, the first step is to remove any unnecessary characters using the `review_to_words` method. Remember that we intentionally did this in a very simplistic way. This is because we are going to have to copy this method to our (eventual) Lambda function (we will go into more detail later) and this means it needs to be rather simplistic."
   ]
  },
  {
   "cell_type": "code",
   "execution_count": 37,
   "metadata": {},
   "outputs": [
    {
     "name": "stdout",
     "output_type": "stream",
     "text": [
      "nothing but a disgusting materialistic pageant of glistening abed remote control greed zombies totally devoid of any heart or heat a romantic comedy that has zero romantic chemestry and zero laughs\n"
     ]
    }
   ],
   "source": [
    "test_words = review_to_words(test_review)\n",
    "print(test_words)"
   ]
  },
  {
   "cell_type": "markdown",
   "metadata": {},
   "source": [
    "Next, we need to construct a bag of words embedding of the `test_words` string. To do this, remember that a bag of words embedding uses a `vocabulary` consisting of the most frequently appearing words in a set of documents. Then, for each word in the vocabulary we record the number of times that word appears in `test_words`. We constructed the `vocabulary` earlier using the training set for our problem so encoding `test_words` is relatively straightforward."
   ]
  },
  {
   "cell_type": "code",
   "execution_count": 38,
   "metadata": {},
   "outputs": [],
   "source": [
    "def bow_encoding(words, vocabulary):\n",
    "    bow = [0] * len(vocabulary) # Start by setting the count for each word in the vocabulary to zero.\n",
    "    for word in words.split():  # For each word in the string\n",
    "        if word in vocabulary:  # If the word is one that occurs in the vocabulary, increase its count.\n",
    "            bow[vocabulary[word]] += 1\n",
    "    return bow"
   ]
  },
  {
   "cell_type": "code",
   "execution_count": 39,
   "metadata": {
    "collapsed": true
   },
   "outputs": [
    {
     "name": "stdout",
     "output_type": "stream",
     "text": [
      "[0, 0, 0, 0, 0, 0, 0, 0, 0, 0, 0, 0, 0, 0, 0, 0, 0, 0, 0, 0, 0, 0, 0, 0, 0, 0, 0, 0, 0, 0, 0, 0, 0, 0, 0, 0, 0, 0, 0, 0, 0, 0, 0, 0, 0, 0, 0, 0, 0, 0, 0, 0, 0, 0, 0, 0, 0, 0, 0, 0, 0, 0, 0, 0, 0, 0, 0, 0, 0, 0, 0, 0, 0, 0, 0, 0, 0, 0, 0, 0, 0, 0, 0, 0, 0, 0, 0, 0, 0, 0, 0, 0, 0, 0, 0, 0, 0, 0, 0, 0, 0, 0, 0, 0, 0, 0, 0, 0, 0, 0, 0, 0, 0, 0, 0, 0, 0, 0, 0, 0, 0, 0, 0, 0, 0, 0, 0, 0, 0, 0, 0, 0, 0, 0, 0, 0, 0, 0, 0, 0, 0, 0, 0, 0, 0, 0, 0, 0, 0, 0, 0, 0, 0, 0, 0, 0, 0, 0, 0, 0, 0, 0, 0, 0, 0, 0, 0, 0, 0, 0, 0, 0, 0, 0, 0, 0, 0, 0, 0, 0, 0, 0, 0, 0, 0, 0, 0, 0, 0, 0, 0, 0, 0, 0, 0, 0, 0, 0, 0, 0, 0, 0, 0, 0, 0, 0, 0, 0, 0, 0, 0, 0, 0, 0, 0, 0, 0, 0, 0, 0, 0, 0, 0, 0, 0, 0, 1, 0, 0, 0, 0, 0, 0, 0, 0, 0, 0, 0, 0, 0, 0, 0, 0, 0, 0, 0, 0, 0, 0, 0, 0, 0, 0, 0, 0, 0, 1, 0, 0, 0, 0, 0, 0, 0, 0, 0, 0, 0, 0, 0, 0, 0, 0, 0, 0, 0, 0, 0, 0, 0, 0, 0, 0, 0, 0, 0, 0, 0, 0, 0, 0, 0, 0, 0, 0, 0, 0, 0, 0, 0, 0, 0, 0, 0, 0, 0, 0, 0, 0, 0, 0, 0, 0, 0, 0, 0, 0, 0, 0, 0, 0, 0, 0, 0, 0, 0, 0, 0, 0, 0, 0, 0, 0, 0, 0, 0, 0, 0, 0, 0, 0, 0, 0, 0, 0, 0, 0, 0, 0, 0, 0, 0, 0, 0, 0, 0, 0, 0, 0, 0, 0, 0, 0, 0, 0, 0, 0, 0, 0, 0, 0, 0, 0, 0, 0, 0, 0, 0, 0, 0, 0, 0, 0, 0, 0, 0, 0, 0, 0, 0, 0, 0, 0, 0, 0, 0, 0, 0, 0, 0, 0, 0, 0, 0, 0, 0, 0, 0, 0, 0, 0, 0, 0, 0, 0, 0, 0, 0, 0, 0, 0, 0, 0, 0, 0, 0, 0, 0, 0, 0, 0, 0, 0, 0, 0, 0, 0, 0, 0, 0, 0, 0, 0, 0, 0, 0, 0, 0, 0, 0, 0, 0, 0, 0, 0, 0, 0, 0, 0, 0, 0, 0, 0, 0, 0, 0, 0, 0, 0, 0, 0, 0, 0, 0, 0, 0, 0, 0, 0, 0, 0, 0, 0, 0, 0, 0, 0, 0, 0, 0, 0, 0, 0, 0, 0, 0, 0, 0, 0, 0, 0, 0, 0, 0, 0, 0, 0, 0, 0, 0, 0, 0, 0, 0, 0, 0, 0, 0, 0, 0, 0, 0, 0, 0, 0, 0, 0, 0, 0, 0, 0, 0, 0, 0, 0, 0, 0, 0, 0, 0, 0, 0, 0, 0, 0, 0, 0, 0, 0, 0, 0, 0, 0, 0, 0, 0, 0, 0, 0, 0, 0, 0, 0, 0, 0, 0, 0, 0, 0, 0, 0, 0, 0, 0, 0, 0, 0, 0, 0, 0, 0, 0, 0, 0, 0, 0, 0, 0, 0, 0, 0, 0, 0, 0, 0, 0, 0, 0, 0, 0, 0, 0, 0, 0, 0, 0, 0, 0, 0, 0, 0, 0, 0, 0, 0, 0, 0, 0, 0, 0, 0, 0, 0, 0, 0, 0, 0, 0, 0, 0, 0, 0, 0, 0, 0, 0, 1, 0, 0, 0, 0, 0, 0, 0, 0, 0, 0, 0, 0, 0, 0, 0, 0, 0, 0, 0, 0, 0, 0, 0, 0, 0, 0, 0, 0, 0, 0, 0, 0, 0, 0, 0, 0, 0, 0, 0, 0, 0, 0, 0, 0, 0, 0, 0, 0, 0, 0, 0, 0, 0, 0, 0, 0, 0, 0, 0, 0, 0, 0, 0, 0, 0, 0, 0, 0, 0, 0, 0, 0, 0, 0, 0, 0, 0, 0, 0, 0, 0, 0, 0, 0, 0, 0, 0, 0, 0, 0, 0, 0, 0, 0, 0, 0, 0, 0, 0, 0, 0, 0, 0, 0, 0, 0, 0, 0, 0, 0, 0, 0, 0, 0, 0, 0, 0, 0, 0, 0, 0, 0, 0, 0, 0, 0, 0, 0, 0, 0, 0, 0, 0, 0, 0, 0, 0, 0, 0, 0, 0, 0, 0, 0, 0, 0, 0, 0, 0, 0, 0, 0, 0, 0, 0, 0, 0, 0, 0, 0, 0, 0, 0, 0, 0, 0, 0, 0, 0, 0, 0, 0, 0, 0, 0, 0, 0, 0, 0, 0, 0, 0, 0, 0, 0, 0, 0, 0, 0, 0, 0, 0, 0, 0, 0, 0, 0, 0, 0, 0, 0, 0, 0, 0, 0, 0, 0, 0, 0, 0, 0, 0, 0, 0, 0, 0, 0, 0, 0, 0, 0, 0, 0, 0, 0, 0, 0, 0, 0, 0, 0, 0, 0, 0, 0, 0, 0, 0, 0, 0, 0, 0, 0, 0, 0, 0, 0, 0, 0, 0, 0, 0, 0, 1, 0, 0, 0, 0, 0, 0, 0, 0, 0, 0, 0, 0, 0, 0, 0, 0, 0, 0, 0, 0, 0, 0, 0, 0, 0, 0, 0, 0, 0, 0, 0, 0, 0, 0, 0, 0, 0, 0, 0, 0, 0, 0, 0, 0, 0, 0, 0, 0, 0, 0, 0, 0, 0, 0, 0, 0, 0, 0, 0, 0, 0, 0, 0, 0, 0, 0, 0, 0, 0, 0, 0, 0, 0, 0, 0, 0, 0, 0, 0, 0, 0, 0, 0, 0, 0, 0, 1, 0, 0, 0, 0, 0, 0, 0, 0, 0, 0, 0, 0, 0, 0, 0, 0, 0, 0, 0, 0, 0, 0, 0, 0, 0, 0, 0, 0, 0, 0, 0, 0, 0, 0, 0, 0, 0, 0, 0, 0, 0, 0, 0, 0, 0, 0, 0, 0, 0, 0, 0, 0, 0, 0, 0, 0, 0, 0, 0, 0, 0, 0, 0, 0, 0, 0, 0, 0, 0, 0, 0, 0, 0, 0, 0, 0, 0, 0, 0, 0, 0, 0, 0, 0, 0, 0, 0, 0, 0, 0, 0, 0, 0, 0, 0, 0, 0, 0, 0, 0, 0, 0, 0, 0, 0, 0, 0, 0, 0, 0, 0, 0, 0, 0, 0, 0, 0, 0, 0, 0, 0, 0, 0, 0, 0, 0, 0, 0, 0, 0, 0, 0, 0, 0, 0, 0, 0, 0, 0, 0, 0, 0, 0, 0, 0, 0, 0, 0, 0, 0, 0, 0, 0, 0, 0, 0, 0, 0, 0, 0, 0, 0, 0, 0, 0, 0, 0, 0, 0, 0, 0, 0, 0, 0, 0, 0, 0, 0, 0, 0, 0, 0, 0, 0, 0, 0, 0, 0, 0, 0, 0, 0, 0, 0, 0, 0, 0, 0, 0, 0, 0, 0, 0, 0, 0, 0, 0, 0, 0, 0, 0, 0, 0, 0, 0, 0, 0, 0, 0, 0, 0, 0, 0, 0, 0, 0, 0, 0, 0, 0, 0, 0, 0, 0, 0, 0, 0, 0, 0, 0, 0, 0, 0, 0, 0, 0, 0, 0, 0, 0, 0, 0, 1, 0, 0, 0, 0, 0, 0, 0, 0, 0, 0, 0, 0, 0, 0, 0, 0, 0, 0, 0, 0, 0, 0, 0, 0, 0, 0, 0, 0, 0, 0, 0, 0, 0, 0, 0, 0, 0, 0, 0, 0, 0, 0, 0, 0, 0, 0, 0, 0, 0, 0, 0, 0, 0, 0, 0, 1, 0, 0, 0, 0, 0, 0, 0, 0, 0, 0, 0, 0, 0, 0, 0, 0, 0, 0, 0, 0, 0, 0, 0, 0, 0, 0, 0, 0, 0, 0, 0, 0, 0, 0, 0, 0, 0, 0, 0, 0, 0, 0, 0, 0, 0, 0, 0, 0, 0, 0, 0, 0, 0, 0, 0, 0, 0, 0, 0, 0, 0, 0, 0, 0, 0, 0, 0, 0, 0, 0, 0, 0, 0, 0, 0, 0, 0, 0, 0, 0, 0, 0, 0, 0, 0, 0, 0, 0, 0, 0, 0, 0, 0, 0, 0, 0, 0, 0, 0, 0, 0, 0, 0, 0, 0, 0, 0, 0, 0, 0, 0, 0, 0, 0, 0, 0, 0, 0, 0, 0, 0, 0, 0, 0, 0, 0, 0, 0, 0, 0, 0, 0, 0, 0, 0, 0, 0, 0, 0, 0, 0, 0, 0, 0, 0, 0, 0, 0, 0, 0, 0, 0, 0, 0, 0, 0, 0, 0, 0, 0, 0, 0, 0, 0, 0, 0, 0, 0, 0, 0, 0, 0, 0, 0, 0, 0, 0, 0, 0, 0, 0, 0, 0, 0, 0, 0, 0, 0, 0, 0, 0, 0, 0, 0, 0, 0, 0, 0, 0, 0, 0, 0, 0, 0, 0, 0, 0, 0, 0, 0, 0, 0, 0, 0, 0, 0, 0, 0, 0, 0, 0, 0, 0, 0, 0, 0, 0, 0, 0, 0, 0, 0, 0, 0, 0, 0, 0, 0, 0, 0, 0, 0, 0, 0, 0, 0, 0, 0, 0, 0, 0, 0, 0, 0, 0, 0, 0, 0, 0, 0, 0, 0, 0, 0, 0, 0, 0, 0, 0, 0, 0, 0, 0, 0, 0, 0, 0, 0, 0, 0, 0, 0, 0, 0, 0, 0, 0, 0, 0, 0, 0, 0, 0, 0, 0, 0, 0, 0, 0, 0, 0, 0, 0, 0, 0, 0, 0, 0, 0, 0, 0, 0, 0, 0, 0, 0, 0, 0, 0, 0, 0, 0, 0, 0, 0, 0, 0, 0, 0, 0, 0, 0, 0, 0, 0, 0, 0, 0, 0, 0, 0, 0, 0, 0, 0, 0, 0, 0, 0, 0, 0, 0, 0, 0, 0, 0, 0, 0, 0, 0, 0, 0, 0, 0, 0, 0, 0, 0, 0, 0, 0, 0, 0, 0, 0, 0, 0, 0, 0, 0, 0, 0, 0, 0, 0, 0, 0, 0, 0, 0, 0, 0, 0, 0, 0, 0, 0, 0, 0, 0, 0, 0, 0, 0, 0, 0, 0, 0, 0, 0, 0, 0, 0, 0, 0, 0, 0, 0, 0, 0, 0, 0, 0, 0, 0, 0, 0, 0, 0, 0, 0, 0, 0, 0, 0, 0, 0, 0, 0, 0, 0, 0, 0, 0, 0, 0, 0, 0, 0, 0, 0, 0, 0, 0, 0, 0, 0, 0, 0, 0, 0, 0, 0, 0, 0, 0, 0, 0, 0, 0, 0, 0, 0, 0, 0, 0, 0, 0, 0, 0, 0, 0, 0, 0, 0, 0, 0, 0, 0, 0, 0, 0, 0, 0, 0, 0, 0, 0, 0, 0, 0, 0, 0, 0, 0, 0, 0, 0, 0, 0, 0, 0, 0, 0, 0, 0, 0, 0, 0, 0, 0, 0, 0, 0, 0, 0, 0, 0, 0, 0, 0, 0, 0, 0, 0, 0, 0, 0, 0, 0, 0, 0, 0, 0, 0, 0, 0, 0, 0, 0, 0, 0, 0, 0, 0, 0, 0, 0, 0, 0, 0, 0, 0, 0, 0, 0, 0, 0, 0, 0, 0, 0, 0, 0, 0, 0, 0, 0, 0, 0, 0, 0, 0, 0, 0, 0, 0, 0, 0, 0, 0, 0, 0, 0, 0, 0, 0, 0, 0, 0, 0, 0, 0, 0, 0, 0, 0, 0, 0, 0, 0, 0, 0, 0, 0, 0, 0, 0, 0, 0, 0, 0, 0, 0, 0, 0, 0, 0, 0, 0, 0, 0, 0, 0, 0, 0, 0, 0, 0, 0, 0, 0, 0, 0, 0, 0, 0, 0, 0, 0, 0, 0, 0, 0, 0, 0, 0, 0, 0, 0, 0, 0, 0, 0, 0, 0, 0, 0, 0, 0, 0, 0, 0, 0, 0, 0, 0, 0, 0, 0, 0, 1, 0, 0, 0, 0, 0, 0, 0, 0, 0, 0, 0, 0, 0, 0, 0, 0, 0, 0, 0, 0, 0, 0, 0, 0, 0, 0, 0, 0, 0, 0, 0, 0, 0, 0, 0, 0, 0, 0, 0, 0, 0, 0, 0, 0, 0, 0, 0, 0, 0, 0, 0, 0, 0, 0, 0, 0, 0, 0, 0, 0, 0, 0, 0, 0, 0, 0, 0, 0, 0, 0, 0, 0, 0, 0, 1, 0, 0, 0, 0, 0, 0, 0, 0, 0, 0, 0, 0, 0, 0, 0, 0, 0, 0, 0, 0, 1, 0, 0, 1, 0, 0, 0, 0, 0, 0, 0, 0, 0, 0, 0, 0, 0, 0, 0, 0, 0, 0, 0, 0, 0, 0, 0, 0, 0, 0, 0, 0, 0, 0, 0, 0, 0, 0, 0, 0, 0, 0, 0, 0, 0, 0, 0, 0, 0, 0, 0, 0, 0, 0, 0, 0, 0, 0, 0, 0, 0, 0, 0, 0, 0, 0, 0, 0, 0, 0, 0, 0, 0, 0, 0, 0, 0, 0, 0, 0, 0, 0, 0, 0, 0, 0, 0, 0, 0, 0, 0, 0, 0, 0, 0, 0, 0, 0, 0, 0, 0, 0, 0, 0, 0, 0, 0, 0, 0, 0, 0, 0, 0, 0, 0, 0, 0, 0, 0, 0, 0, 0, 0, 0, 0, 0, 0, 0, 0, 0, 0, 0, 0, 0, 0, 0, 0, 0, 0, 0, 0, 0, 0, 0, 0, 0, 0, 0, 0, 0, 0, 0, 0, 0, 0, 0, 0, 0, 0, 0, 0, 0, 0, 0, 0, 0, 0, 0, 0, 0, 0, 0, 0, 0, 0, 0, 0, 0, 0, 0, 0, 0, 0, 0, 0, 0, 0, 0, 0, 0, 0, 0, 0, 0, 0, 0, 0, 0, 0, 0, 0, 0, 0, 0, 0, 0, 0, 0, 0, 0, 0, 0, 0, 0, 0, 0, 0, 0, 0, 0, 0, 0, 0, 0, 0, 0, 0, 0, 0, 0, 0, 0, 0, 0, 0, 0, 0, 0, 0, 0, 0, 0, 0, 0, 0, 0, 0, 0, 0, 0, 0, 0, 0, 0, 0, 0, 0, 0, 0, 0, 0, 0, 0, 0, 0, 0, 0, 0, 0, 0, 0, 0, 0, 0, 0, 0, 0, 0, 0, 0, 0, 0, 0, 0, 0, 0, 0, 0, 0, 0, 0, 0, 0, 0, 0, 0, 0, 0, 0, 0, 0, 0, 0, 0, 0, 0, 0, 0, 0, 0, 0, 0, 0, 0, 0, 0, 0, 0, 0, 0, 0, 0, 0, 0, 0, 0, 0, 0, 0, 0, 0, 0, 0, 0, 0, 0, 0, 0, 0, 0, 0, 0, 0, 0, 0, 0, 0, 0, 0, 0, 0, 0, 0, 0, 0, 0, 0, 0, 0, 0, 0, 0, 0, 0, 0, 0, 0, 0, 0, 0, 0, 0, 0, 0, 0, 0, 0, 0, 0, 0, 0, 0, 0, 0, 0, 0, 0, 0, 0, 0, 0, 0, 0, 0, 0, 0, 0, 0, 0, 0, 0, 0, 0, 0, 0, 0, 0, 0, 0, 0, 0, 0, 0, 0, 0, 0, 0, 0, 0, 0, 0, 0, 0, 0, 0, 0, 0, 0, 0, 0, 0, 0, 0, 0, 0, 0, 0, 0, 0, 0, 0, 0, 0, 0, 0, 0, 0, 0, 0, 0, 0, 0, 0, 0, 0, 0, 0, 0, 0, 0, 0, 0, 0, 0, 0, 0, 0, 0, 0, 0, 1, 0, 0, 0, 0, 0, 0, 0, 0, 0, 0, 0, 0, 0, 0, 0, 0, 0, 0, 0, 0, 0, 0, 0, 0, 0, 0, 0, 0, 0, 0, 0, 0, 0, 0, 0, 0, 0, 0, 0, 0, 0, 0, 0, 0, 0, 0, 0, 0, 0, 0, 0, 0, 0, 0, 0, 0, 0, 0, 0, 0, 0, 0, 0, 0, 0, 0, 0, 0, 0, 0, 0, 0, 0, 0, 0, 0, 0, 0, 0, 0, 0, 0, 0, 0, 0, 0, 0, 0, 0, 0, 0, 0, 0, 0, 0, 0, 0, 0, 0, 0, 0, 0, 0, 0, 0, 0, 0, 0, 0, 0, 0, 0, 0, 0, 0, 0, 0, 0, 0, 0, 0, 0, 0, 0, 0, 0, 0, 0, 0, 0, 0, 0, 0, 0, 0, 0, 0, 0, 0, 0, 0, 0, 0, 0, 0, 0, 0, 0, 0, 0, 0, 0, 0, 0, 0, 0, 0, 0, 0, 0, 0, 0, 0, 0, 0, 0, 0, 0, 0, 0, 0, 0, 0, 0, 0, 0, 0, 0, 0, 0, 0, 0, 0, 0, 0, 0, 0, 0, 0, 0, 0, 0, 0, 0, 0, 0, 0, 0, 0, 0, 0, 0, 0, 0, 0, 0, 0, 0, 0, 0, 0, 0, 0, 0, 0, 0, 0, 0, 0, 0, 0, 0, 0, 0, 0, 0, 0, 0, 0, 0, 0, 0, 0, 0, 0, 0, 0, 0, 0, 0, 0, 0, 0, 0, 0, 0, 0, 0, 0, 0, 0, 0, 0, 0, 0, 0, 0, 0, 0, 0, 0, 0, 0, 0, 0, 0, 0, 0, 0, 0, 0, 0, 0, 0, 0, 0, 0, 0, 0, 0, 0, 0, 0, 0, 0, 0, 0, 0, 0, 0, 0, 0, 0, 0, 0, 0, 0, 0, 0, 0, 0, 0, 0, 0, 0, 0, 0, 0, 0, 0, 0, 0, 0, 0, 0, 0, 0, 0, 0, 0, 0, 0, 0, 0, 0, 0, 0, 0, 0, 0, 0, 0, 0, 0, 0, 0, 0, 0, 0, 0, 0, 0, 0, 0, 0, 0, 0, 0, 0, 0, 0, 0, 0, 0, 0, 0, 0, 0, 0, 0, 0, 0, 0, 0, 0, 0, 0, 0, 0, 0, 0, 0, 0, 0, 0, 0, 0, 0, 0, 0, 0, 0, 0, 0, 0, 0, 0, 0, 0, 0, 0, 0, 0, 0, 0, 0, 0, 0, 0, 0, 0, 0, 0, 0, 0, 0, 0, 0, 0, 0, 0, 0, 0, 0, 0, 0, 0, 0, 0, 0, 0, 0, 0, 0, 0, 0, 0, 0, 0, 0, 0, 0, 0, 0, 0, 0, 0, 0, 0, 0, 0, 0, 0, 0, 0, 0, 0, 0, 0, 0, 0, 0, 0, 0, 0, 0, 0, 0, 0, 0, 0, 0, 0, 0, 0, 0, 0, 0, 0, 0, 0, 0, 0, 0, 0, 0, 0, 0, 0, 0, 0, 0, 0, 0, 0, 0, 0, 0, 0, 0, 0, 0, 0, 0, 0, 0, 0, 0, 0, 0, 0, 0, 0, 0, 0, 0, 0, 0, 0, 0, 0, 0, 1, 0, 0, 0, 0, 0, 0, 0, 0, 0, 0, 0, 0, 0, 0, 0, 0, 0, 0, 0, 0, 0, 0, 0, 0, 0, 0, 0, 0, 0, 0, 0, 0, 0, 0, 0, 2, 0, 0, 0, 0, 0, 0, 0, 0, 0, 0, 0, 0, 0, 0, 0, 0, 0, 0, 0, 0, 0, 0, 0, 0, 0, 0, 0, 0, 0, 0, 0, 0, 0, 0, 0, 0, 0, 0, 0, 0, 1, 0, 0, 0, 0, 0, 0, 0, 0, 0, 0, 0, 0, 0, 0, 0, 0, 0, 0, 0, 0, 0, 0, 0, 0, 0, 0, 0, 0, 0, 0, 0, 0, 0, 0, 0, 0, 0, 0, 0, 0, 0, 0, 0, 0, 0, 0, 0, 0, 0, 0, 0, 0, 0, 0, 0, 0, 0, 0, 0, 0, 0, 0, 0, 0, 0, 0, 0, 0, 0, 0, 0, 0, 0, 0, 0, 0, 0, 0, 0, 0, 0, 0, 0, 0, 0, 0, 0, 0, 0, 0, 0, 0, 0, 0, 0, 0, 0, 0, 0, 0, 0, 0, 0, 0, 0, 0, 0, 0, 0, 0, 0, 0, 0, 0, 0, 0, 0, 0, 0, 0, 0, 0, 0, 0, 0, 0, 0, 0, 0, 0, 0, 0, 0, 0, 0, 0, 0, 0, 0, 0, 0, 0, 0, 0, 0, 0, 0, 0, 0, 0, 0, 0, 0, 0, 0, 0, 0, 0, 0, 0, 0, 0, 0, 0, 0, 0, 0, 0, 0, 0, 0, 0, 0, 0, 0, 0, 0, 0, 0, 0, 0, 0, 0, 0, 0, 0, 0, 0, 0, 0, 0, 0, 0, 0, 0, 0, 0, 0, 0, 0, 0, 0, 0, 0, 0, 0, 0, 0, 0, 0, 0, 0, 0, 0, 0, 0, 0, 0, 0, 0, 0, 0, 0, 0, 0, 0, 0, 0, 0, 0, 0, 0, 0, 0, 0, 0, 0, 0, 0, 0, 0, 0, 0, 0, 0, 0, 0, 0, 0, 0, 0, 0, 0, 0, 0, 0, 0, 0, 0, 0, 0, 0, 0, 0, 0, 0, 0, 0, 0, 0, 0, 0, 0, 0, 0, 0, 0, 0, 0, 0, 0, 0, 0, 0, 0, 0, 0, 0, 0, 0, 0, 0, 0, 0, 0, 0, 0, 0, 0, 0, 0, 0, 0, 0, 0, 0, 0, 0, 0, 0, 0, 0, 0, 0, 0, 0, 0, 0, 0, 0, 0, 0, 0, 0, 0, 0, 0, 0, 0, 0, 0, 0, 0, 0, 0, 0, 0, 0, 0, 0, 0, 0, 0, 0, 0, 0, 0, 0, 0, 0, 0, 0, 0, 0, 0, 0, 0, 0, 0, 0, 0, 0, 0, 0, 0, 0, 0, 0, 0, 0, 0, 0, 0, 0, 0, 0, 0, 0, 0, 0, 0, 0, 0, 0, 0, 0, 0, 0, 0, 0, 0, 0, 0, 0, 0, 0, 0, 0, 0, 0, 0, 0, 0, 0, 0, 0, 0, 0, 0, 0, 0, 0, 0, 0, 0, 0, 0, 0, 0, 0, 0, 0, 0, 0, 0, 0, 0, 0, 0, 0, 0, 0, 0, 0, 0, 0, 0, 0, 0, 0, 0, 0, 0, 0, 0, 0, 0, 0, 0, 0, 0, 0, 0, 0, 0, 0, 0, 0, 0, 0, 0, 0, 0, 0, 0, 0, 0, 0, 0, 0, 0, 0, 0, 0, 0, 0, 0, 0, 0, 0, 0, 0, 0, 0, 0, 0, 0, 0, 0, 0, 0, 0, 0, 0, 0, 0, 0, 1, 0, 0, 0, 0, 0, 0, 0, 0, 0, 0, 0, 0, 0, 0, 0, 0, 0, 0, 0, 0, 0, 0, 0, 0, 0, 0, 0, 0, 0, 0, 0, 0, 0, 0, 0, 0, 0, 0, 0, 0, 0, 0, 0, 0, 0, 0, 0, 0, 0, 0, 0, 0, 0, 0, 0, 0, 0, 0, 0, 0, 0, 0, 0, 0, 0, 0, 0, 0, 0, 0, 0, 0, 0, 0, 0, 0, 0, 0, 0, 0, 0, 0, 0, 0, 0, 0, 0, 0, 0, 0, 0, 0, 0, 0, 0, 0, 0, 0, 0, 0, 0, 0, 0, 0, 0, 0, 0, 0, 0, 0, 2, 0, 0, 0, 0, 0, 0, 0, 0, 0, 0, 0, 0, 0, 0, 0, 0, 0, 0, 0, 0, 0, 0, 0, 0, 0, 0, 0, 0, 0, 0, 0, 0, 0, 0, 0, 0, 0, 0, 0, 0, 0, 0, 0, 0, 0, 0, 0, 0, 0, 0, 0, 0, 0, 0, 0, 0, 0, 0, 0, 0, 0, 0, 0, 0, 0, 0, 0, 0, 0, 0, 0, 0, 0, 0, 0, 0, 0, 0, 0, 0, 0, 0, 0, 0, 0, 0, 0, 0, 0, 0, 0, 0, 0, 0, 0, 0, 0, 0, 0, 0, 0, 0, 0, 0, 0, 0, 0, 0, 0, 0, 0, 0, 0, 0, 0, 0, 0, 0, 0, 0, 0, 0, 0, 0, 0, 0, 0, 0, 0, 0, 0, 0, 0, 0, 0, 0, 0, 0, 0, 0, 0, 0, 0, 0, 0, 0, 0, 0, 0, 0, 0, 0, 0, 0, 0, 0, 0, 0, 0, 0, 0, 0, 0, 0, 0, 0, 0, 0, 0, 0, 0, 0, 0, 0, 0, 0, 0, 0, 0, 0, 0, 0, 0, 0, 0, 0, 0, 0, 0, 0, 0, 0, 0, 0, 0, 0, 0, 0, 0, 0, 0, 0, 0, 0, 0, 0, 0, 0, 0, 0, 0, 0, 0, 0, 0, 0, 0, 0, 0, 0, 0, 0, 0, 0, 0, 0, 0, 0, 0, 0, 0, 0, 0, 0, 0, 0, 0, 0, 0, 0, 0, 0, 0, 0, 0, 0, 0, 0, 0, 0, 0, 0, 0, 0, 0, 0, 0, 0, 0, 0, 0, 0, 0, 0, 0, 0, 0, 0, 0, 0, 0, 0, 0, 0, 0, 0, 0, 0, 0, 0, 0, 0, 0, 0, 0, 0, 0, 0, 0, 0, 0, 0, 0, 0, 0, 0, 0, 0, 0, 0, 0, 0, 0, 0, 0, 0, 0, 0, 0, 0, 0, 0, 0, 0, 0, 0, 0, 0, 0, 0, 0, 0, 0, 0, 0, 0, 0, 0, 0, 0, 0, 0, 0, 0, 0, 0, 0, 0, 0, 0, 0, 0, 0, 0, 0, 0, 0, 0, 0, 0, 0, 0, 0, 0, 0, 0, 0, 0, 0, 0, 0, 0, 0, 0, 0, 0, 0, 0, 0, 0, 0, 0, 0, 0, 0, 0, 0, 0, 0, 0, 0, 0, 0, 0, 0, 0, 0, 0, 0, 0, 0, 0, 0, 0, 0, 0, 0, 0, 0, 0, 0, 0, 0, 0, 0, 0, 0, 0, 0, 0, 0, 0, 0, 0, 0, 0, 0, 0, 0, 0, 0, 0, 0, 0, 0, 0, 0, 0, 0, 0, 0, 0, 0, 0, 0, 0, 0, 0, 0, 0, 0, 0, 0, 0, 0, 0, 0, 0, 0, 0, 0, 0, 0, 0, 0, 0, 0, 0, 0, 0, 0, 0, 0, 0, 0, 0, 0, 0, 0, 0, 0, 0, 0, 0, 0, 0, 0, 0, 0, 0, 0, 0, 0, 0, 0, 0, 0, 0, 0, 0, 0, 0, 0, 0, 0, 0, 0, 0, 0, 0, 0, 0, 0, 0, 0, 0, 0, 0, 0, 0, 0, 0, 0, 0, 0, 0, 0, 0, 0, 0, 0, 0, 0, 0, 0, 0, 0, 0, 0, 0, 0, 0, 0, 0, 0, 0, 0, 0, 0, 0, 0, 0, 0, 0, 0, 0, 0, 0, 0, 0, 0, 0, 0, 0, 0, 0, 0, 0, 0, 0, 0, 0, 0, 0, 0, 0, 0, 0, 0, 0, 0, 0, 0, 0, 0, 0, 0, 0, 0, 0, 0, 0, 0, 0, 0, 0, 0, 0, 0, 0, 0, 0, 0, 0, 0, 0, 0, 0, 0, 0, 0, 0, 0, 0, 0, 0, 0, 0, 0, 0, 0, 0, 0, 0, 0, 0, 0, 0, 0, 0, 0, 0, 0, 0, 0, 0, 0, 0, 0, 0, 0, 0, 0, 0, 0, 0, 0, 0, 0, 0, 0, 0, 0, 0, 0, 0, 0, 0, 0, 0, 0, 0, 0, 0, 0, 0, 0, 0, 0, 0, 0, 0, 0, 0, 0, 0, 0, 0, 0, 0, 0, 0, 0, 0, 0, 0, 0, 0, 0, 0, 0, 0, 0, 0, 0, 0, 0, 0, 0, 0, 1, 0, 0, 0, 0, 0, 0, 0, 0, 0, 0, 0, 0, 0, 0, 0, 0, 0, 0, 0, 0, 0, 0, 0, 0, 0, 0, 0, 0, 0, 0, 0, 0, 0, 0, 0, 0, 0, 0, 0, 0, 0, 0, 0, 0, 0, 0, 0, 0, 0, 0, 0, 0, 0, 0, 0, 0, 0, 0, 0, 0, 0, 0, 0, 0, 0, 0, 0, 0, 0, 0, 0, 0, 0, 0, 0, 0, 0, 0, 0, 0, 0, 0, 0, 0, 0, 0, 0, 0, 0, 0, 0, 0, 0, 0, 0, 0, 0, 0, 0, 0, 0, 0, 0, 0, 0, 0, 0, 1, 0, 0, 0, 0, 0, 0, 0, 0, 0, 0, 0, 0, 0, 0, 0, 0, 0, 0, 0, 0, 0, 0, 0, 0, 0, 0, 0, 0, 0, 0, 0, 0, 0, 0, 0, 0, 0, 0, 0, 0, 0, 0, 0, 0, 0, 0, 0, 0, 0, 0, 0, 0, 0, 0, 0, 0, 0, 0, 0, 0, 0, 0, 0, 0, 0, 0, 0, 0, 0, 0, 0, 0, 0, 0, 0, 0, 0, 0, 0, 0, 0, 0, 0, 0, 0, 0, 0, 0, 0, 0, 0, 0, 0, 0, 0, 0, 0, 0, 0, 0, 0, 0, 0, 0, 0, 0, 0, 0, 0, 0, 0, 0, 0, 0, 0, 0, 0, 0, 0, 0, 0, 0, 0, 0, 0, 0, 0, 0, 0, 0, 0, 0, 0, 0, 0, 0, 0, 0, 0, 0, 0, 0, 0, 0, 0, 0, 0, 0, 0, 0, 0, 0, 0, 0, 0, 0, 0, 0, 0, 0, 0, 0, 0, 0, 0, 0, 0, 0, 0, 0, 0, 0, 0, 0, 0, 0, 0, 0, 0, 0, 0, 0, 0, 0, 0, 0, 0, 0, 0, 0, 0, 0, 0, 0, 0, 0, 0, 0, 0, 0, 0, 0, 0, 0, 0, 0, 0, 0, 0, 0, 0, 0, 0, 0, 0, 0, 0, 0, 0, 0, 0, 0, 0, 0, 0, 0, 0, 0, 0, 0, 0, 0, 0, 0, 0, 0, 0, 0, 0, 0, 0, 0, 0, 0, 0, 0, 0, 0, 0, 0, 0, 0, 0, 0, 0, 0, 0, 0, 0, 0, 0, 0, 0, 0, 0, 0, 0, 0, 0, 0, 0, 0, 0, 0, 0, 0, 0, 0, 0, 0, 0, 0, 0, 0, 0, 0, 0, 0, 0, 0, 0, 0, 0, 0, 0, 0, 0, 0, 0, 0, 0, 0, 0, 0, 0, 0, 0, 0, 0, 0, 0, 0, 0, 0, 0, 0, 0, 0, 0, 0, 0, 0, 0, 0, 0, 0, 0, 0, 0, 0, 0, 0, 0, 0, 0, 0, 0, 0, 0, 0, 0, 0, 0, 0, 0, 0, 0, 0, 0, 0, 0, 0, 0, 0, 0, 0, 0, 0, 0, 0, 0, 0, 0, 0, 0, 0, 0, 0, 0, 0, 0, 0, 0, 0, 0, 0, 0, 0, 0, 0, 0, 0, 0, 0, 0, 0, 0, 0, 0, 0, 0, 0, 0, 0, 0, 0, 0, 0, 0, 0, 0, 0, 0, 0, 0, 0, 0, 0, 0, 0, 0, 0, 0, 0, 0, 0, 0, 0, 0, 0, 0, 0, 0, 0, 0, 0, 0, 0, 0, 0, 0, 0, 0, 0, 0, 0, 0, 0, 0, 0, 0, 0, 0, 0, 0, 0, 0, 0, 0, 0, 0, 0, 0, 0, 0, 0, 0, 0, 0, 0, 0, 0, 0, 2, 0, 1, 0]\n"
     ]
    }
   ],
   "source": [
    "test_bow = bow_encoding(test_words, vocabulary)\n",
    "print(test_bow)"
   ]
  },
  {
   "cell_type": "code",
   "execution_count": 40,
   "metadata": {},
   "outputs": [
    {
     "data": {
      "text/plain": [
       "5000"
      ]
     },
     "execution_count": 40,
     "metadata": {},
     "output_type": "execute_result"
    }
   ],
   "source": [
    "len(test_bow)"
   ]
  },
  {
   "cell_type": "markdown",
   "metadata": {},
   "source": [
    "So now we know how to construct a bag of words encoding of a user provided review, how to we send it to our endpoint? First, we need to start the endpoint back up."
   ]
  },
  {
   "cell_type": "markdown",
   "metadata": {},
   "source": [
    "**In the last run, we killed the model deployed so we have to re-run it**"
   ]
  },
  {
   "cell_type": "code",
   "execution_count": 41,
   "metadata": {},
   "outputs": [
    {
     "name": "stderr",
     "output_type": "stream",
     "text": [
      "WARNING:sagemaker:Parameter image will be renamed to image_uri in SageMaker Python SDK v2.\n",
      "WARNING:sagemaker:Using already existing model: xgboost-2020-07-19-16-44-24-916\n"
     ]
    },
    {
     "name": "stdout",
     "output_type": "stream",
     "text": [
      "-------------!"
     ]
    }
   ],
   "source": [
    "xgb_predictor = xgb.deploy(initial_instance_count = 1, instance_type = 'ml.m4.xlarge')"
   ]
  },
  {
   "cell_type": "markdown",
   "metadata": {},
   "source": [
    "At this point we could just do the same thing that we did earlier when we tested our deployed model and send `test_bow` to our endpoint using the `xgb_predictor` object. However, when we eventually construct our Lambda function we won't have access to this object, so how do we call a SageMaker endpoint?\n",
    "\n",
    "It turns out that Python functions that are used in Lambda have access to another Amazon library called `boto3`. This library provides an API for working with Amazon services, including SageMaker. To start with, we need to get a handle to the SageMaker runtime."
   ]
  },
  {
   "cell_type": "code",
   "execution_count": 42,
   "metadata": {},
   "outputs": [],
   "source": [
    "import boto3\n",
    "\n",
    "runtime = boto3.Session().client('sagemaker-runtime')"
   ]
  },
  {
   "cell_type": "markdown",
   "metadata": {},
   "source": [
    "And now that we have access to the SageMaker runtime, we can ask it to make use of (invoke) an endpoint that has already been created. However, we need to provide SageMaker with the name of the deployed endpoint. To find this out we can print it out using the `xgb_predictor` object."
   ]
  },
  {
   "cell_type": "code",
   "execution_count": 43,
   "metadata": {},
   "outputs": [
    {
     "data": {
      "text/plain": [
       "'xgboost-2020-07-19-16-44-24-916'"
      ]
     },
     "execution_count": 43,
     "metadata": {},
     "output_type": "execute_result"
    }
   ],
   "source": [
    "xgb_predictor.endpoint"
   ]
  },
  {
   "cell_type": "markdown",
   "metadata": {},
   "source": [
    "Using the SageMaker runtime and the name of our endpoint, we can invoke the endpoint and send it the `test_bow` data."
   ]
  },
  {
   "cell_type": "code",
   "execution_count": 44,
   "metadata": {},
   "outputs": [
    {
     "ename": "ParamValidationError",
     "evalue": "Parameter validation failed:\nInvalid type for parameter Body, value: [0, 0, 0, 0, 0, 0, 0, 0, 0, 0, 0, 0, 0, 0, 0, 0, 0, 0, 0, 0, 0, 0, 0, 0, 0, 0, 0, 0, 0, 0, 0, 0, 0, 0, 0, 0, 0, 0, 0, 0, 0, 0, 0, 0, 0, 0, 0, 0, 0, 0, 0, 0, 0, 0, 0, 0, 0, 0, 0, 0, 0, 0, 0, 0, 0, 0, 0, 0, 0, 0, 0, 0, 0, 0, 0, 0, 0, 0, 0, 0, 0, 0, 0, 0, 0, 0, 0, 0, 0, 0, 0, 0, 0, 0, 0, 0, 0, 0, 0, 0, 0, 0, 0, 0, 0, 0, 0, 0, 0, 0, 0, 0, 0, 0, 0, 0, 0, 0, 0, 0, 0, 0, 0, 0, 0, 0, 0, 0, 0, 0, 0, 0, 0, 0, 0, 0, 0, 0, 0, 0, 0, 0, 0, 0, 0, 0, 0, 0, 0, 0, 0, 0, 0, 0, 0, 0, 0, 0, 0, 0, 0, 0, 0, 0, 0, 0, 0, 0, 0, 0, 0, 0, 0, 0, 0, 0, 0, 0, 0, 0, 0, 0, 0, 0, 0, 0, 0, 0, 0, 0, 0, 0, 0, 0, 0, 0, 0, 0, 0, 0, 0, 0, 0, 0, 0, 0, 0, 0, 0, 0, 0, 0, 0, 0, 0, 0, 0, 0, 0, 0, 0, 0, 0, 0, 0, 0, 1, 0, 0, 0, 0, 0, 0, 0, 0, 0, 0, 0, 0, 0, 0, 0, 0, 0, 0, 0, 0, 0, 0, 0, 0, 0, 0, 0, 0, 0, 1, 0, 0, 0, 0, 0, 0, 0, 0, 0, 0, 0, 0, 0, 0, 0, 0, 0, 0, 0, 0, 0, 0, 0, 0, 0, 0, 0, 0, 0, 0, 0, 0, 0, 0, 0, 0, 0, 0, 0, 0, 0, 0, 0, 0, 0, 0, 0, 0, 0, 0, 0, 0, 0, 0, 0, 0, 0, 0, 0, 0, 0, 0, 0, 0, 0, 0, 0, 0, 0, 0, 0, 0, 0, 0, 0, 0, 0, 0, 0, 0, 0, 0, 0, 0, 0, 0, 0, 0, 0, 0, 0, 0, 0, 0, 0, 0, 0, 0, 0, 0, 0, 0, 0, 0, 0, 0, 0, 0, 0, 0, 0, 0, 0, 0, 0, 0, 0, 0, 0, 0, 0, 0, 0, 0, 0, 0, 0, 0, 0, 0, 0, 0, 0, 0, 0, 0, 0, 0, 0, 0, 0, 0, 0, 0, 0, 0, 0, 0, 0, 0, 0, 0, 0, 0, 0, 0, 0, 0, 0, 0, 0, 0, 0, 0, 0, 0, 0, 0, 0, 0, 0, 0, 0, 0, 0, 0, 0, 0, 0, 0, 0, 0, 0, 0, 0, 0, 0, 0, 0, 0, 0, 0, 0, 0, 0, 0, 0, 0, 0, 0, 0, 0, 0, 0, 0, 0, 0, 0, 0, 0, 0, 0, 0, 0, 0, 0, 0, 0, 0, 0, 0, 0, 0, 0, 0, 0, 0, 0, 0, 0, 0, 0, 0, 0, 0, 0, 0, 0, 0, 0, 0, 0, 0, 0, 0, 0, 0, 0, 0, 0, 0, 0, 0, 0, 0, 0, 0, 0, 0, 0, 0, 0, 0, 0, 0, 0, 0, 0, 0, 0, 0, 0, 0, 0, 0, 0, 0, 0, 0, 0, 0, 0, 0, 0, 0, 0, 0, 0, 0, 0, 0, 0, 0, 0, 0, 0, 0, 0, 0, 0, 0, 0, 0, 0, 0, 0, 0, 0, 0, 0, 0, 0, 0, 0, 0, 0, 0, 0, 0, 0, 0, 0, 0, 0, 0, 0, 0, 0, 0, 0, 0, 0, 0, 0, 0, 0, 0, 0, 0, 0, 0, 0, 0, 0, 0, 0, 0, 0, 0, 0, 0, 0, 0, 0, 0, 0, 0, 0, 0, 0, 0, 0, 0, 0, 0, 0, 0, 0, 0, 0, 0, 0, 0, 0, 0, 0, 0, 0, 0, 1, 0, 0, 0, 0, 0, 0, 0, 0, 0, 0, 0, 0, 0, 0, 0, 0, 0, 0, 0, 0, 0, 0, 0, 0, 0, 0, 0, 0, 0, 0, 0, 0, 0, 0, 0, 0, 0, 0, 0, 0, 0, 0, 0, 0, 0, 0, 0, 0, 0, 0, 0, 0, 0, 0, 0, 0, 0, 0, 0, 0, 0, 0, 0, 0, 0, 0, 0, 0, 0, 0, 0, 0, 0, 0, 0, 0, 0, 0, 0, 0, 0, 0, 0, 0, 0, 0, 0, 0, 0, 0, 0, 0, 0, 0, 0, 0, 0, 0, 0, 0, 0, 0, 0, 0, 0, 0, 0, 0, 0, 0, 0, 0, 0, 0, 0, 0, 0, 0, 0, 0, 0, 0, 0, 0, 0, 0, 0, 0, 0, 0, 0, 0, 0, 0, 0, 0, 0, 0, 0, 0, 0, 0, 0, 0, 0, 0, 0, 0, 0, 0, 0, 0, 0, 0, 0, 0, 0, 0, 0, 0, 0, 0, 0, 0, 0, 0, 0, 0, 0, 0, 0, 0, 0, 0, 0, 0, 0, 0, 0, 0, 0, 0, 0, 0, 0, 0, 0, 0, 0, 0, 0, 0, 0, 0, 0, 0, 0, 0, 0, 0, 0, 0, 0, 0, 0, 0, 0, 0, 0, 0, 0, 0, 0, 0, 0, 0, 0, 0, 0, 0, 0, 0, 0, 0, 0, 0, 0, 0, 0, 0, 0, 0, 0, 0, 0, 0, 0, 0, 0, 0, 0, 0, 0, 0, 0, 0, 0, 0, 0, 0, 0, 0, 0, 1, 0, 0, 0, 0, 0, 0, 0, 0, 0, 0, 0, 0, 0, 0, 0, 0, 0, 0, 0, 0, 0, 0, 0, 0, 0, 0, 0, 0, 0, 0, 0, 0, 0, 0, 0, 0, 0, 0, 0, 0, 0, 0, 0, 0, 0, 0, 0, 0, 0, 0, 0, 0, 0, 0, 0, 0, 0, 0, 0, 0, 0, 0, 0, 0, 0, 0, 0, 0, 0, 0, 0, 0, 0, 0, 0, 0, 0, 0, 0, 0, 0, 0, 0, 0, 0, 0, 1, 0, 0, 0, 0, 0, 0, 0, 0, 0, 0, 0, 0, 0, 0, 0, 0, 0, 0, 0, 0, 0, 0, 0, 0, 0, 0, 0, 0, 0, 0, 0, 0, 0, 0, 0, 0, 0, 0, 0, 0, 0, 0, 0, 0, 0, 0, 0, 0, 0, 0, 0, 0, 0, 0, 0, 0, 0, 0, 0, 0, 0, 0, 0, 0, 0, 0, 0, 0, 0, 0, 0, 0, 0, 0, 0, 0, 0, 0, 0, 0, 0, 0, 0, 0, 0, 0, 0, 0, 0, 0, 0, 0, 0, 0, 0, 0, 0, 0, 0, 0, 0, 0, 0, 0, 0, 0, 0, 0, 0, 0, 0, 0, 0, 0, 0, 0, 0, 0, 0, 0, 0, 0, 0, 0, 0, 0, 0, 0, 0, 0, 0, 0, 0, 0, 0, 0, 0, 0, 0, 0, 0, 0, 0, 0, 0, 0, 0, 0, 0, 0, 0, 0, 0, 0, 0, 0, 0, 0, 0, 0, 0, 0, 0, 0, 0, 0, 0, 0, 0, 0, 0, 0, 0, 0, 0, 0, 0, 0, 0, 0, 0, 0, 0, 0, 0, 0, 0, 0, 0, 0, 0, 0, 0, 0, 0, 0, 0, 0, 0, 0, 0, 0, 0, 0, 0, 0, 0, 0, 0, 0, 0, 0, 0, 0, 0, 0, 0, 0, 0, 0, 0, 0, 0, 0, 0, 0, 0, 0, 0, 0, 0, 0, 0, 0, 0, 0, 0, 0, 0, 0, 0, 0, 0, 0, 0, 0, 0, 0, 0, 0, 0, 0, 1, 0, 0, 0, 0, 0, 0, 0, 0, 0, 0, 0, 0, 0, 0, 0, 0, 0, 0, 0, 0, 0, 0, 0, 0, 0, 0, 0, 0, 0, 0, 0, 0, 0, 0, 0, 0, 0, 0, 0, 0, 0, 0, 0, 0, 0, 0, 0, 0, 0, 0, 0, 0, 0, 0, 0, 1, 0, 0, 0, 0, 0, 0, 0, 0, 0, 0, 0, 0, 0, 0, 0, 0, 0, 0, 0, 0, 0, 0, 0, 0, 0, 0, 0, 0, 0, 0, 0, 0, 0, 0, 0, 0, 0, 0, 0, 0, 0, 0, 0, 0, 0, 0, 0, 0, 0, 0, 0, 0, 0, 0, 0, 0, 0, 0, 0, 0, 0, 0, 0, 0, 0, 0, 0, 0, 0, 0, 0, 0, 0, 0, 0, 0, 0, 0, 0, 0, 0, 0, 0, 0, 0, 0, 0, 0, 0, 0, 0, 0, 0, 0, 0, 0, 0, 0, 0, 0, 0, 0, 0, 0, 0, 0, 0, 0, 0, 0, 0, 0, 0, 0, 0, 0, 0, 0, 0, 0, 0, 0, 0, 0, 0, 0, 0, 0, 0, 0, 0, 0, 0, 0, 0, 0, 0, 0, 0, 0, 0, 0, 0, 0, 0, 0, 0, 0, 0, 0, 0, 0, 0, 0, 0, 0, 0, 0, 0, 0, 0, 0, 0, 0, 0, 0, 0, 0, 0, 0, 0, 0, 0, 0, 0, 0, 0, 0, 0, 0, 0, 0, 0, 0, 0, 0, 0, 0, 0, 0, 0, 0, 0, 0, 0, 0, 0, 0, 0, 0, 0, 0, 0, 0, 0, 0, 0, 0, 0, 0, 0, 0, 0, 0, 0, 0, 0, 0, 0, 0, 0, 0, 0, 0, 0, 0, 0, 0, 0, 0, 0, 0, 0, 0, 0, 0, 0, 0, 0, 0, 0, 0, 0, 0, 0, 0, 0, 0, 0, 0, 0, 0, 0, 0, 0, 0, 0, 0, 0, 0, 0, 0, 0, 0, 0, 0, 0, 0, 0, 0, 0, 0, 0, 0, 0, 0, 0, 0, 0, 0, 0, 0, 0, 0, 0, 0, 0, 0, 0, 0, 0, 0, 0, 0, 0, 0, 0, 0, 0, 0, 0, 0, 0, 0, 0, 0, 0, 0, 0, 0, 0, 0, 0, 0, 0, 0, 0, 0, 0, 0, 0, 0, 0, 0, 0, 0, 0, 0, 0, 0, 0, 0, 0, 0, 0, 0, 0, 0, 0, 0, 0, 0, 0, 0, 0, 0, 0, 0, 0, 0, 0, 0, 0, 0, 0, 0, 0, 0, 0, 0, 0, 0, 0, 0, 0, 0, 0, 0, 0, 0, 0, 0, 0, 0, 0, 0, 0, 0, 0, 0, 0, 0, 0, 0, 0, 0, 0, 0, 0, 0, 0, 0, 0, 0, 0, 0, 0, 0, 0, 0, 0, 0, 0, 0, 0, 0, 0, 0, 0, 0, 0, 0, 0, 0, 0, 0, 0, 0, 0, 0, 0, 0, 0, 0, 0, 0, 0, 0, 0, 0, 0, 0, 0, 0, 0, 0, 0, 0, 0, 0, 0, 0, 0, 0, 0, 0, 0, 0, 0, 0, 0, 0, 0, 0, 0, 0, 0, 0, 0, 0, 0, 0, 0, 0, 0, 0, 0, 0, 0, 0, 0, 0, 0, 0, 0, 0, 0, 0, 0, 0, 0, 0, 0, 0, 0, 0, 0, 0, 0, 0, 0, 0, 0, 0, 0, 0, 0, 0, 0, 0, 0, 0, 0, 0, 0, 0, 0, 0, 0, 0, 0, 0, 0, 0, 0, 0, 0, 0, 0, 0, 0, 0, 0, 0, 0, 0, 0, 0, 0, 0, 0, 0, 0, 0, 0, 0, 0, 0, 0, 0, 0, 0, 0, 0, 0, 0, 0, 0, 0, 0, 0, 0, 0, 0, 0, 0, 0, 0, 0, 0, 0, 0, 0, 0, 0, 0, 0, 0, 0, 0, 0, 0, 0, 0, 0, 0, 0, 0, 0, 0, 0, 0, 0, 0, 0, 0, 0, 0, 0, 0, 0, 0, 0, 0, 0, 0, 0, 0, 0, 0, 0, 0, 0, 0, 0, 0, 0, 0, 0, 0, 0, 0, 0, 0, 0, 0, 0, 0, 0, 0, 0, 0, 0, 0, 0, 0, 0, 0, 0, 0, 0, 0, 0, 0, 0, 0, 0, 0, 0, 0, 0, 0, 0, 0, 0, 0, 0, 0, 0, 0, 0, 0, 0, 0, 0, 0, 0, 0, 0, 0, 0, 0, 0, 0, 0, 0, 0, 0, 0, 0, 0, 0, 0, 0, 0, 0, 0, 0, 0, 0, 0, 1, 0, 0, 0, 0, 0, 0, 0, 0, 0, 0, 0, 0, 0, 0, 0, 0, 0, 0, 0, 0, 0, 0, 0, 0, 0, 0, 0, 0, 0, 0, 0, 0, 0, 0, 0, 0, 0, 0, 0, 0, 0, 0, 0, 0, 0, 0, 0, 0, 0, 0, 0, 0, 0, 0, 0, 0, 0, 0, 0, 0, 0, 0, 0, 0, 0, 0, 0, 0, 0, 0, 0, 0, 0, 0, 1, 0, 0, 0, 0, 0, 0, 0, 0, 0, 0, 0, 0, 0, 0, 0, 0, 0, 0, 0, 0, 1, 0, 0, 1, 0, 0, 0, 0, 0, 0, 0, 0, 0, 0, 0, 0, 0, 0, 0, 0, 0, 0, 0, 0, 0, 0, 0, 0, 0, 0, 0, 0, 0, 0, 0, 0, 0, 0, 0, 0, 0, 0, 0, 0, 0, 0, 0, 0, 0, 0, 0, 0, 0, 0, 0, 0, 0, 0, 0, 0, 0, 0, 0, 0, 0, 0, 0, 0, 0, 0, 0, 0, 0, 0, 0, 0, 0, 0, 0, 0, 0, 0, 0, 0, 0, 0, 0, 0, 0, 0, 0, 0, 0, 0, 0, 0, 0, 0, 0, 0, 0, 0, 0, 0, 0, 0, 0, 0, 0, 0, 0, 0, 0, 0, 0, 0, 0, 0, 0, 0, 0, 0, 0, 0, 0, 0, 0, 0, 0, 0, 0, 0, 0, 0, 0, 0, 0, 0, 0, 0, 0, 0, 0, 0, 0, 0, 0, 0, 0, 0, 0, 0, 0, 0, 0, 0, 0, 0, 0, 0, 0, 0, 0, 0, 0, 0, 0, 0, 0, 0, 0, 0, 0, 0, 0, 0, 0, 0, 0, 0, 0, 0, 0, 0, 0, 0, 0, 0, 0, 0, 0, 0, 0, 0, 0, 0, 0, 0, 0, 0, 0, 0, 0, 0, 0, 0, 0, 0, 0, 0, 0, 0, 0, 0, 0, 0, 0, 0, 0, 0, 0, 0, 0, 0, 0, 0, 0, 0, 0, 0, 0, 0, 0, 0, 0, 0, 0, 0, 0, 0, 0, 0, 0, 0, 0, 0, 0, 0, 0, 0, 0, 0, 0, 0, 0, 0, 0, 0, 0, 0, 0, 0, 0, 0, 0, 0, 0, 0, 0, 0, 0, 0, 0, 0, 0, 0, 0, 0, 0, 0, 0, 0, 0, 0, 0, 0, 0, 0, 0, 0, 0, 0, 0, 0, 0, 0, 0, 0, 0, 0, 0, 0, 0, 0, 0, 0, 0, 0, 0, 0, 0, 0, 0, 0, 0, 0, 0, 0, 0, 0, 0, 0, 0, 0, 0, 0, 0, 0, 0, 0, 0, 0, 0, 0, 0, 0, 0, 0, 0, 0, 0, 0, 0, 0, 0, 0, 0, 0, 0, 0, 0, 0, 0, 0, 0, 0, 0, 0, 0, 0, 0, 0, 0, 0, 0, 0, 0, 0, 0, 0, 0, 0, 0, 0, 0, 0, 0, 0, 0, 0, 0, 0, 0, 0, 0, 0, 0, 0, 0, 0, 0, 0, 0, 0, 0, 0, 0, 0, 0, 0, 0, 0, 0, 0, 0, 0, 0, 0, 0, 0, 0, 0, 0, 0, 0, 0, 0, 0, 0, 0, 0, 0, 0, 0, 0, 0, 0, 0, 0, 0, 0, 0, 0, 0, 0, 0, 0, 0, 0, 0, 0, 0, 0, 0, 0, 0, 0, 0, 0, 0, 0, 0, 0, 0, 0, 0, 0, 0, 0, 0, 0, 0, 0, 0, 0, 0, 0, 0, 0, 0, 1, 0, 0, 0, 0, 0, 0, 0, 0, 0, 0, 0, 0, 0, 0, 0, 0, 0, 0, 0, 0, 0, 0, 0, 0, 0, 0, 0, 0, 0, 0, 0, 0, 0, 0, 0, 0, 0, 0, 0, 0, 0, 0, 0, 0, 0, 0, 0, 0, 0, 0, 0, 0, 0, 0, 0, 0, 0, 0, 0, 0, 0, 0, 0, 0, 0, 0, 0, 0, 0, 0, 0, 0, 0, 0, 0, 0, 0, 0, 0, 0, 0, 0, 0, 0, 0, 0, 0, 0, 0, 0, 0, 0, 0, 0, 0, 0, 0, 0, 0, 0, 0, 0, 0, 0, 0, 0, 0, 0, 0, 0, 0, 0, 0, 0, 0, 0, 0, 0, 0, 0, 0, 0, 0, 0, 0, 0, 0, 0, 0, 0, 0, 0, 0, 0, 0, 0, 0, 0, 0, 0, 0, 0, 0, 0, 0, 0, 0, 0, 0, 0, 0, 0, 0, 0, 0, 0, 0, 0, 0, 0, 0, 0, 0, 0, 0, 0, 0, 0, 0, 0, 0, 0, 0, 0, 0, 0, 0, 0, 0, 0, 0, 0, 0, 0, 0, 0, 0, 0, 0, 0, 0, 0, 0, 0, 0, 0, 0, 0, 0, 0, 0, 0, 0, 0, 0, 0, 0, 0, 0, 0, 0, 0, 0, 0, 0, 0, 0, 0, 0, 0, 0, 0, 0, 0, 0, 0, 0, 0, 0, 0, 0, 0, 0, 0, 0, 0, 0, 0, 0, 0, 0, 0, 0, 0, 0, 0, 0, 0, 0, 0, 0, 0, 0, 0, 0, 0, 0, 0, 0, 0, 0, 0, 0, 0, 0, 0, 0, 0, 0, 0, 0, 0, 0, 0, 0, 0, 0, 0, 0, 0, 0, 0, 0, 0, 0, 0, 0, 0, 0, 0, 0, 0, 0, 0, 0, 0, 0, 0, 0, 0, 0, 0, 0, 0, 0, 0, 0, 0, 0, 0, 0, 0, 0, 0, 0, 0, 0, 0, 0, 0, 0, 0, 0, 0, 0, 0, 0, 0, 0, 0, 0, 0, 0, 0, 0, 0, 0, 0, 0, 0, 0, 0, 0, 0, 0, 0, 0, 0, 0, 0, 0, 0, 0, 0, 0, 0, 0, 0, 0, 0, 0, 0, 0, 0, 0, 0, 0, 0, 0, 0, 0, 0, 0, 0, 0, 0, 0, 0, 0, 0, 0, 0, 0, 0, 0, 0, 0, 0, 0, 0, 0, 0, 0, 0, 0, 0, 0, 0, 0, 0, 0, 0, 0, 0, 0, 0, 0, 0, 0, 0, 0, 0, 0, 0, 0, 0, 0, 0, 0, 0, 0, 0, 0, 0, 0, 0, 0, 0, 0, 0, 0, 0, 0, 0, 0, 0, 0, 0, 0, 0, 0, 0, 0, 0, 0, 0, 0, 0, 0, 0, 0, 0, 0, 0, 0, 0, 0, 0, 0, 0, 0, 0, 0, 0, 0, 0, 0, 0, 0, 0, 0, 0, 0, 0, 0, 0, 0, 0, 0, 0, 0, 0, 0, 0, 0, 0, 0, 0, 0, 0, 0, 0, 0, 0, 0, 0, 0, 0, 0, 0, 0, 0, 0, 0, 0, 0, 0, 0, 0, 0, 0, 0, 1, 0, 0, 0, 0, 0, 0, 0, 0, 0, 0, 0, 0, 0, 0, 0, 0, 0, 0, 0, 0, 0, 0, 0, 0, 0, 0, 0, 0, 0, 0, 0, 0, 0, 0, 0, 2, 0, 0, 0, 0, 0, 0, 0, 0, 0, 0, 0, 0, 0, 0, 0, 0, 0, 0, 0, 0, 0, 0, 0, 0, 0, 0, 0, 0, 0, 0, 0, 0, 0, 0, 0, 0, 0, 0, 0, 0, 1, 0, 0, 0, 0, 0, 0, 0, 0, 0, 0, 0, 0, 0, 0, 0, 0, 0, 0, 0, 0, 0, 0, 0, 0, 0, 0, 0, 0, 0, 0, 0, 0, 0, 0, 0, 0, 0, 0, 0, 0, 0, 0, 0, 0, 0, 0, 0, 0, 0, 0, 0, 0, 0, 0, 0, 0, 0, 0, 0, 0, 0, 0, 0, 0, 0, 0, 0, 0, 0, 0, 0, 0, 0, 0, 0, 0, 0, 0, 0, 0, 0, 0, 0, 0, 0, 0, 0, 0, 0, 0, 0, 0, 0, 0, 0, 0, 0, 0, 0, 0, 0, 0, 0, 0, 0, 0, 0, 0, 0, 0, 0, 0, 0, 0, 0, 0, 0, 0, 0, 0, 0, 0, 0, 0, 0, 0, 0, 0, 0, 0, 0, 0, 0, 0, 0, 0, 0, 0, 0, 0, 0, 0, 0, 0, 0, 0, 0, 0, 0, 0, 0, 0, 0, 0, 0, 0, 0, 0, 0, 0, 0, 0, 0, 0, 0, 0, 0, 0, 0, 0, 0, 0, 0, 0, 0, 0, 0, 0, 0, 0, 0, 0, 0, 0, 0, 0, 0, 0, 0, 0, 0, 0, 0, 0, 0, 0, 0, 0, 0, 0, 0, 0, 0, 0, 0, 0, 0, 0, 0, 0, 0, 0, 0, 0, 0, 0, 0, 0, 0, 0, 0, 0, 0, 0, 0, 0, 0, 0, 0, 0, 0, 0, 0, 0, 0, 0, 0, 0, 0, 0, 0, 0, 0, 0, 0, 0, 0, 0, 0, 0, 0, 0, 0, 0, 0, 0, 0, 0, 0, 0, 0, 0, 0, 0, 0, 0, 0, 0, 0, 0, 0, 0, 0, 0, 0, 0, 0, 0, 0, 0, 0, 0, 0, 0, 0, 0, 0, 0, 0, 0, 0, 0, 0, 0, 0, 0, 0, 0, 0, 0, 0, 0, 0, 0, 0, 0, 0, 0, 0, 0, 0, 0, 0, 0, 0, 0, 0, 0, 0, 0, 0, 0, 0, 0, 0, 0, 0, 0, 0, 0, 0, 0, 0, 0, 0, 0, 0, 0, 0, 0, 0, 0, 0, 0, 0, 0, 0, 0, 0, 0, 0, 0, 0, 0, 0, 0, 0, 0, 0, 0, 0, 0, 0, 0, 0, 0, 0, 0, 0, 0, 0, 0, 0, 0, 0, 0, 0, 0, 0, 0, 0, 0, 0, 0, 0, 0, 0, 0, 0, 0, 0, 0, 0, 0, 0, 0, 0, 0, 0, 0, 0, 0, 0, 0, 0, 0, 0, 0, 0, 0, 0, 0, 0, 0, 0, 0, 0, 0, 0, 0, 0, 0, 0, 0, 0, 0, 0, 0, 0, 0, 0, 0, 0, 0, 0, 0, 0, 0, 0, 0, 0, 0, 0, 0, 0, 0, 0, 0, 0, 0, 0, 0, 0, 0, 0, 0, 0, 0, 0, 0, 0, 0, 0, 0, 0, 0, 0, 0, 0, 0, 0, 0, 0, 0, 0, 0, 0, 0, 0, 0, 0, 0, 0, 0, 0, 0, 0, 0, 0, 0, 0, 0, 0, 0, 0, 0, 0, 1, 0, 0, 0, 0, 0, 0, 0, 0, 0, 0, 0, 0, 0, 0, 0, 0, 0, 0, 0, 0, 0, 0, 0, 0, 0, 0, 0, 0, 0, 0, 0, 0, 0, 0, 0, 0, 0, 0, 0, 0, 0, 0, 0, 0, 0, 0, 0, 0, 0, 0, 0, 0, 0, 0, 0, 0, 0, 0, 0, 0, 0, 0, 0, 0, 0, 0, 0, 0, 0, 0, 0, 0, 0, 0, 0, 0, 0, 0, 0, 0, 0, 0, 0, 0, 0, 0, 0, 0, 0, 0, 0, 0, 0, 0, 0, 0, 0, 0, 0, 0, 0, 0, 0, 0, 0, 0, 0, 0, 0, 0, 2, 0, 0, 0, 0, 0, 0, 0, 0, 0, 0, 0, 0, 0, 0, 0, 0, 0, 0, 0, 0, 0, 0, 0, 0, 0, 0, 0, 0, 0, 0, 0, 0, 0, 0, 0, 0, 0, 0, 0, 0, 0, 0, 0, 0, 0, 0, 0, 0, 0, 0, 0, 0, 0, 0, 0, 0, 0, 0, 0, 0, 0, 0, 0, 0, 0, 0, 0, 0, 0, 0, 0, 0, 0, 0, 0, 0, 0, 0, 0, 0, 0, 0, 0, 0, 0, 0, 0, 0, 0, 0, 0, 0, 0, 0, 0, 0, 0, 0, 0, 0, 0, 0, 0, 0, 0, 0, 0, 0, 0, 0, 0, 0, 0, 0, 0, 0, 0, 0, 0, 0, 0, 0, 0, 0, 0, 0, 0, 0, 0, 0, 0, 0, 0, 0, 0, 0, 0, 0, 0, 0, 0, 0, 0, 0, 0, 0, 0, 0, 0, 0, 0, 0, 0, 0, 0, 0, 0, 0, 0, 0, 0, 0, 0, 0, 0, 0, 0, 0, 0, 0, 0, 0, 0, 0, 0, 0, 0, 0, 0, 0, 0, 0, 0, 0, 0, 0, 0, 0, 0, 0, 0, 0, 0, 0, 0, 0, 0, 0, 0, 0, 0, 0, 0, 0, 0, 0, 0, 0, 0, 0, 0, 0, 0, 0, 0, 0, 0, 0, 0, 0, 0, 0, 0, 0, 0, 0, 0, 0, 0, 0, 0, 0, 0, 0, 0, 0, 0, 0, 0, 0, 0, 0, 0, 0, 0, 0, 0, 0, 0, 0, 0, 0, 0, 0, 0, 0, 0, 0, 0, 0, 0, 0, 0, 0, 0, 0, 0, 0, 0, 0, 0, 0, 0, 0, 0, 0, 0, 0, 0, 0, 0, 0, 0, 0, 0, 0, 0, 0, 0, 0, 0, 0, 0, 0, 0, 0, 0, 0, 0, 0, 0, 0, 0, 0, 0, 0, 0, 0, 0, 0, 0, 0, 0, 0, 0, 0, 0, 0, 0, 0, 0, 0, 0, 0, 0, 0, 0, 0, 0, 0, 0, 0, 0, 0, 0, 0, 0, 0, 0, 0, 0, 0, 0, 0, 0, 0, 0, 0, 0, 0, 0, 0, 0, 0, 0, 0, 0, 0, 0, 0, 0, 0, 0, 0, 0, 0, 0, 0, 0, 0, 0, 0, 0, 0, 0, 0, 0, 0, 0, 0, 0, 0, 0, 0, 0, 0, 0, 0, 0, 0, 0, 0, 0, 0, 0, 0, 0, 0, 0, 0, 0, 0, 0, 0, 0, 0, 0, 0, 0, 0, 0, 0, 0, 0, 0, 0, 0, 0, 0, 0, 0, 0, 0, 0, 0, 0, 0, 0, 0, 0, 0, 0, 0, 0, 0, 0, 0, 0, 0, 0, 0, 0, 0, 0, 0, 0, 0, 0, 0, 0, 0, 0, 0, 0, 0, 0, 0, 0, 0, 0, 0, 0, 0, 0, 0, 0, 0, 0, 0, 0, 0, 0, 0, 0, 0, 0, 0, 0, 0, 0, 0, 0, 0, 0, 0, 0, 0, 0, 0, 0, 0, 0, 0, 0, 0, 0, 0, 0, 0, 0, 0, 0, 0, 0, 0, 0, 0, 0, 0, 0, 0, 0, 0, 0, 0, 0, 0, 0, 0, 0, 0, 0, 0, 0, 0, 0, 0, 0, 0, 0, 0, 0, 0, 0, 0, 0, 0, 0, 0, 0, 0, 0, 0, 0, 0, 0, 0, 0, 0, 0, 0, 0, 0, 0, 0, 0, 0, 0, 0, 0, 0, 0, 0, 0, 0, 0, 0, 0, 0, 0, 0, 0, 0, 0, 0, 0, 0, 0, 0, 0, 0, 0, 0, 0, 0, 0, 0, 0, 0, 0, 0, 0, 0, 0, 0, 0, 0, 0, 0, 0, 0, 0, 0, 0, 0, 0, 0, 0, 0, 0, 0, 0, 0, 0, 0, 0, 0, 0, 0, 0, 0, 0, 0, 0, 0, 0, 0, 0, 0, 0, 0, 0, 0, 0, 0, 0, 0, 0, 0, 0, 0, 0, 0, 0, 0, 0, 0, 0, 0, 0, 0, 0, 0, 0, 0, 0, 0, 0, 0, 0, 0, 0, 0, 0, 0, 0, 0, 0, 0, 0, 0, 0, 0, 0, 0, 0, 0, 0, 0, 0, 0, 0, 0, 0, 0, 0, 0, 0, 0, 0, 1, 0, 0, 0, 0, 0, 0, 0, 0, 0, 0, 0, 0, 0, 0, 0, 0, 0, 0, 0, 0, 0, 0, 0, 0, 0, 0, 0, 0, 0, 0, 0, 0, 0, 0, 0, 0, 0, 0, 0, 0, 0, 0, 0, 0, 0, 0, 0, 0, 0, 0, 0, 0, 0, 0, 0, 0, 0, 0, 0, 0, 0, 0, 0, 0, 0, 0, 0, 0, 0, 0, 0, 0, 0, 0, 0, 0, 0, 0, 0, 0, 0, 0, 0, 0, 0, 0, 0, 0, 0, 0, 0, 0, 0, 0, 0, 0, 0, 0, 0, 0, 0, 0, 0, 0, 0, 0, 0, 1, 0, 0, 0, 0, 0, 0, 0, 0, 0, 0, 0, 0, 0, 0, 0, 0, 0, 0, 0, 0, 0, 0, 0, 0, 0, 0, 0, 0, 0, 0, 0, 0, 0, 0, 0, 0, 0, 0, 0, 0, 0, 0, 0, 0, 0, 0, 0, 0, 0, 0, 0, 0, 0, 0, 0, 0, 0, 0, 0, 0, 0, 0, 0, 0, 0, 0, 0, 0, 0, 0, 0, 0, 0, 0, 0, 0, 0, 0, 0, 0, 0, 0, 0, 0, 0, 0, 0, 0, 0, 0, 0, 0, 0, 0, 0, 0, 0, 0, 0, 0, 0, 0, 0, 0, 0, 0, 0, 0, 0, 0, 0, 0, 0, 0, 0, 0, 0, 0, 0, 0, 0, 0, 0, 0, 0, 0, 0, 0, 0, 0, 0, 0, 0, 0, 0, 0, 0, 0, 0, 0, 0, 0, 0, 0, 0, 0, 0, 0, 0, 0, 0, 0, 0, 0, 0, 0, 0, 0, 0, 0, 0, 0, 0, 0, 0, 0, 0, 0, 0, 0, 0, 0, 0, 0, 0, 0, 0, 0, 0, 0, 0, 0, 0, 0, 0, 0, 0, 0, 0, 0, 0, 0, 0, 0, 0, 0, 0, 0, 0, 0, 0, 0, 0, 0, 0, 0, 0, 0, 0, 0, 0, 0, 0, 0, 0, 0, 0, 0, 0, 0, 0, 0, 0, 0, 0, 0, 0, 0, 0, 0, 0, 0, 0, 0, 0, 0, 0, 0, 0, 0, 0, 0, 0, 0, 0, 0, 0, 0, 0, 0, 0, 0, 0, 0, 0, 0, 0, 0, 0, 0, 0, 0, 0, 0, 0, 0, 0, 0, 0, 0, 0, 0, 0, 0, 0, 0, 0, 0, 0, 0, 0, 0, 0, 0, 0, 0, 0, 0, 0, 0, 0, 0, 0, 0, 0, 0, 0, 0, 0, 0, 0, 0, 0, 0, 0, 0, 0, 0, 0, 0, 0, 0, 0, 0, 0, 0, 0, 0, 0, 0, 0, 0, 0, 0, 0, 0, 0, 0, 0, 0, 0, 0, 0, 0, 0, 0, 0, 0, 0, 0, 0, 0, 0, 0, 0, 0, 0, 0, 0, 0, 0, 0, 0, 0, 0, 0, 0, 0, 0, 0, 0, 0, 0, 0, 0, 0, 0, 0, 0, 0, 0, 0, 0, 0, 0, 0, 0, 0, 0, 0, 0, 0, 0, 0, 0, 0, 0, 0, 0, 0, 0, 0, 0, 0, 0, 0, 0, 0, 0, 0, 0, 0, 0, 0, 0, 0, 0, 0, 0, 0, 0, 0, 0, 0, 0, 0, 0, 0, 0, 0, 0, 0, 0, 0, 0, 0, 0, 0, 0, 0, 0, 0, 0, 0, 0, 0, 0, 0, 0, 0, 0, 0, 0, 0, 0, 0, 0, 0, 0, 0, 0, 0, 0, 0, 0, 0, 0, 0, 0, 0, 0, 0, 0, 2, 0, 1, 0], type: <class 'list'>, valid types: <class 'bytes'>, <class 'bytearray'>, file-like object",
     "output_type": "error",
     "traceback": [
      "\u001b[0;31m---------------------------------------------------------------------------\u001b[0m",
      "\u001b[0;31mParamValidationError\u001b[0m                      Traceback (most recent call last)",
      "\u001b[0;32m<ipython-input-44-c9ab54ae3a48>\u001b[0m in \u001b[0;36m<module>\u001b[0;34m\u001b[0m\n\u001b[1;32m      1\u001b[0m response = runtime.invoke_endpoint(EndpointName = xgb_predictor.endpoint, # The name of the endpoint we created\n\u001b[1;32m      2\u001b[0m                                        \u001b[0mContentType\u001b[0m \u001b[0;34m=\u001b[0m \u001b[0;34m'text/csv'\u001b[0m\u001b[0;34m,\u001b[0m                     \u001b[0;31m# The data format that is expected\u001b[0m\u001b[0;34m\u001b[0m\u001b[0;34m\u001b[0m\u001b[0m\n\u001b[0;32m----> 3\u001b[0;31m                                        Body = test_bow)\n\u001b[0m",
      "\u001b[0;32m~/anaconda3/envs/python3/lib/python3.6/site-packages/botocore/client.py\u001b[0m in \u001b[0;36m_api_call\u001b[0;34m(self, *args, **kwargs)\u001b[0m\n\u001b[1;32m    314\u001b[0m                     \"%s() only accepts keyword arguments.\" % py_operation_name)\n\u001b[1;32m    315\u001b[0m             \u001b[0;31m# The \"self\" in this scope is referring to the BaseClient.\u001b[0m\u001b[0;34m\u001b[0m\u001b[0;34m\u001b[0m\u001b[0;34m\u001b[0m\u001b[0m\n\u001b[0;32m--> 316\u001b[0;31m             \u001b[0;32mreturn\u001b[0m \u001b[0mself\u001b[0m\u001b[0;34m.\u001b[0m\u001b[0m_make_api_call\u001b[0m\u001b[0;34m(\u001b[0m\u001b[0moperation_name\u001b[0m\u001b[0;34m,\u001b[0m \u001b[0mkwargs\u001b[0m\u001b[0;34m)\u001b[0m\u001b[0;34m\u001b[0m\u001b[0;34m\u001b[0m\u001b[0m\n\u001b[0m\u001b[1;32m    317\u001b[0m \u001b[0;34m\u001b[0m\u001b[0m\n\u001b[1;32m    318\u001b[0m         \u001b[0m_api_call\u001b[0m\u001b[0;34m.\u001b[0m\u001b[0m__name__\u001b[0m \u001b[0;34m=\u001b[0m \u001b[0mstr\u001b[0m\u001b[0;34m(\u001b[0m\u001b[0mpy_operation_name\u001b[0m\u001b[0;34m)\u001b[0m\u001b[0;34m\u001b[0m\u001b[0;34m\u001b[0m\u001b[0m\n",
      "\u001b[0;32m~/anaconda3/envs/python3/lib/python3.6/site-packages/botocore/client.py\u001b[0m in \u001b[0;36m_make_api_call\u001b[0;34m(self, operation_name, api_params)\u001b[0m\n\u001b[1;32m    606\u001b[0m         }\n\u001b[1;32m    607\u001b[0m         request_dict = self._convert_to_request_dict(\n\u001b[0;32m--> 608\u001b[0;31m             api_params, operation_model, context=request_context)\n\u001b[0m\u001b[1;32m    609\u001b[0m \u001b[0;34m\u001b[0m\u001b[0m\n\u001b[1;32m    610\u001b[0m         \u001b[0mservice_id\u001b[0m \u001b[0;34m=\u001b[0m \u001b[0mself\u001b[0m\u001b[0;34m.\u001b[0m\u001b[0m_service_model\u001b[0m\u001b[0;34m.\u001b[0m\u001b[0mservice_id\u001b[0m\u001b[0;34m.\u001b[0m\u001b[0mhyphenize\u001b[0m\u001b[0;34m(\u001b[0m\u001b[0;34m)\u001b[0m\u001b[0;34m\u001b[0m\u001b[0;34m\u001b[0m\u001b[0m\n",
      "\u001b[0;32m~/anaconda3/envs/python3/lib/python3.6/site-packages/botocore/client.py\u001b[0m in \u001b[0;36m_convert_to_request_dict\u001b[0;34m(self, api_params, operation_model, context)\u001b[0m\n\u001b[1;32m    654\u001b[0m             api_params, operation_model, context)\n\u001b[1;32m    655\u001b[0m         request_dict = self._serializer.serialize_to_request(\n\u001b[0;32m--> 656\u001b[0;31m             api_params, operation_model)\n\u001b[0m\u001b[1;32m    657\u001b[0m         \u001b[0;32mif\u001b[0m \u001b[0;32mnot\u001b[0m \u001b[0mself\u001b[0m\u001b[0;34m.\u001b[0m\u001b[0m_client_config\u001b[0m\u001b[0;34m.\u001b[0m\u001b[0minject_host_prefix\u001b[0m\u001b[0;34m:\u001b[0m\u001b[0;34m\u001b[0m\u001b[0;34m\u001b[0m\u001b[0m\n\u001b[1;32m    658\u001b[0m             \u001b[0mrequest_dict\u001b[0m\u001b[0;34m.\u001b[0m\u001b[0mpop\u001b[0m\u001b[0;34m(\u001b[0m\u001b[0;34m'host_prefix'\u001b[0m\u001b[0;34m,\u001b[0m \u001b[0;32mNone\u001b[0m\u001b[0;34m)\u001b[0m\u001b[0;34m\u001b[0m\u001b[0;34m\u001b[0m\u001b[0m\n",
      "\u001b[0;32m~/anaconda3/envs/python3/lib/python3.6/site-packages/botocore/validate.py\u001b[0m in \u001b[0;36mserialize_to_request\u001b[0;34m(self, parameters, operation_model)\u001b[0m\n\u001b[1;32m    295\u001b[0m                                                     operation_model.input_shape)\n\u001b[1;32m    296\u001b[0m             \u001b[0;32mif\u001b[0m \u001b[0mreport\u001b[0m\u001b[0;34m.\u001b[0m\u001b[0mhas_errors\u001b[0m\u001b[0;34m(\u001b[0m\u001b[0;34m)\u001b[0m\u001b[0;34m:\u001b[0m\u001b[0;34m\u001b[0m\u001b[0;34m\u001b[0m\u001b[0m\n\u001b[0;32m--> 297\u001b[0;31m                 \u001b[0;32mraise\u001b[0m \u001b[0mParamValidationError\u001b[0m\u001b[0;34m(\u001b[0m\u001b[0mreport\u001b[0m\u001b[0;34m=\u001b[0m\u001b[0mreport\u001b[0m\u001b[0;34m.\u001b[0m\u001b[0mgenerate_report\u001b[0m\u001b[0;34m(\u001b[0m\u001b[0;34m)\u001b[0m\u001b[0;34m)\u001b[0m\u001b[0;34m\u001b[0m\u001b[0;34m\u001b[0m\u001b[0m\n\u001b[0m\u001b[1;32m    298\u001b[0m         return self._serializer.serialize_to_request(parameters,\n\u001b[1;32m    299\u001b[0m                                                      operation_model)\n",
      "\u001b[0;31mParamValidationError\u001b[0m: Parameter validation failed:\nInvalid type for parameter Body, value: [0, 0, 0, 0, 0, 0, 0, 0, 0, 0, 0, 0, 0, 0, 0, 0, 0, 0, 0, 0, 0, 0, 0, 0, 0, 0, 0, 0, 0, 0, 0, 0, 0, 0, 0, 0, 0, 0, 0, 0, 0, 0, 0, 0, 0, 0, 0, 0, 0, 0, 0, 0, 0, 0, 0, 0, 0, 0, 0, 0, 0, 0, 0, 0, 0, 0, 0, 0, 0, 0, 0, 0, 0, 0, 0, 0, 0, 0, 0, 0, 0, 0, 0, 0, 0, 0, 0, 0, 0, 0, 0, 0, 0, 0, 0, 0, 0, 0, 0, 0, 0, 0, 0, 0, 0, 0, 0, 0, 0, 0, 0, 0, 0, 0, 0, 0, 0, 0, 0, 0, 0, 0, 0, 0, 0, 0, 0, 0, 0, 0, 0, 0, 0, 0, 0, 0, 0, 0, 0, 0, 0, 0, 0, 0, 0, 0, 0, 0, 0, 0, 0, 0, 0, 0, 0, 0, 0, 0, 0, 0, 0, 0, 0, 0, 0, 0, 0, 0, 0, 0, 0, 0, 0, 0, 0, 0, 0, 0, 0, 0, 0, 0, 0, 0, 0, 0, 0, 0, 0, 0, 0, 0, 0, 0, 0, 0, 0, 0, 0, 0, 0, 0, 0, 0, 0, 0, 0, 0, 0, 0, 0, 0, 0, 0, 0, 0, 0, 0, 0, 0, 0, 0, 0, 0, 0, 0, 1, 0, 0, 0, 0, 0, 0, 0, 0, 0, 0, 0, 0, 0, 0, 0, 0, 0, 0, 0, 0, 0, 0, 0, 0, 0, 0, 0, 0, 0, 1, 0, 0, 0, 0, 0, 0, 0, 0, 0, 0, 0, 0, 0, 0, 0, 0, 0, 0, 0, 0, 0, 0, 0, 0, 0, 0, 0, 0, 0, 0, 0, 0, 0, 0, 0, 0, 0, 0, 0, 0, 0, 0, 0, 0, 0, 0, 0, 0, 0, 0, 0, 0, 0, 0, 0, 0, 0, 0, 0, 0, 0, 0, 0, 0, 0, 0, 0, 0, 0, 0, 0, 0, 0, 0, 0, 0, 0, 0, 0, 0, 0, 0, 0, 0, 0, 0, 0, 0, 0, 0, 0, 0, 0, 0, 0, 0, 0, 0, 0, 0, 0, 0, 0, 0, 0, 0, 0, 0, 0, 0, 0, 0, 0, 0, 0, 0, 0, 0, 0, 0, 0, 0, 0, 0, 0, 0, 0, 0, 0, 0, 0, 0, 0, 0, 0, 0, 0, 0, 0, 0, 0, 0, 0, 0, 0, 0, 0, 0, 0, 0, 0, 0, 0, 0, 0, 0, 0, 0, 0, 0, 0, 0, 0, 0, 0, 0, 0, 0, 0, 0, 0, 0, 0, 0, 0, 0, 0, 0, 0, 0, 0, 0, 0, 0, 0, 0, 0, 0, 0, 0, 0, 0, 0, 0, 0, 0, 0, 0, 0, 0, 0, 0, 0, 0, 0, 0, 0, 0, 0, 0, 0, 0, 0, 0, 0, 0, 0, 0, 0, 0, 0, 0, 0, 0, 0, 0, 0, 0, 0, 0, 0, 0, 0, 0, 0, 0, 0, 0, 0, 0, 0, 0, 0, 0, 0, 0, 0, 0, 0, 0, 0, 0, 0, 0, 0, 0, 0, 0, 0, 0, 0, 0, 0, 0, 0, 0, 0, 0, 0, 0, 0, 0, 0, 0, 0, 0, 0, 0, 0, 0, 0, 0, 0, 0, 0, 0, 0, 0, 0, 0, 0, 0, 0, 0, 0, 0, 0, 0, 0, 0, 0, 0, 0, 0, 0, 0, 0, 0, 0, 0, 0, 0, 0, 0, 0, 0, 0, 0, 0, 0, 0, 0, 0, 0, 0, 0, 0, 0, 0, 0, 0, 0, 0, 0, 0, 0, 0, 0, 0, 0, 0, 0, 0, 0, 0, 0, 0, 0, 0, 0, 0, 0, 0, 0, 0, 0, 0, 0, 0, 0, 0, 0, 0, 0, 0, 0, 0, 0, 0, 0, 0, 0, 0, 0, 0, 0, 0, 0, 0, 1, 0, 0, 0, 0, 0, 0, 0, 0, 0, 0, 0, 0, 0, 0, 0, 0, 0, 0, 0, 0, 0, 0, 0, 0, 0, 0, 0, 0, 0, 0, 0, 0, 0, 0, 0, 0, 0, 0, 0, 0, 0, 0, 0, 0, 0, 0, 0, 0, 0, 0, 0, 0, 0, 0, 0, 0, 0, 0, 0, 0, 0, 0, 0, 0, 0, 0, 0, 0, 0, 0, 0, 0, 0, 0, 0, 0, 0, 0, 0, 0, 0, 0, 0, 0, 0, 0, 0, 0, 0, 0, 0, 0, 0, 0, 0, 0, 0, 0, 0, 0, 0, 0, 0, 0, 0, 0, 0, 0, 0, 0, 0, 0, 0, 0, 0, 0, 0, 0, 0, 0, 0, 0, 0, 0, 0, 0, 0, 0, 0, 0, 0, 0, 0, 0, 0, 0, 0, 0, 0, 0, 0, 0, 0, 0, 0, 0, 0, 0, 0, 0, 0, 0, 0, 0, 0, 0, 0, 0, 0, 0, 0, 0, 0, 0, 0, 0, 0, 0, 0, 0, 0, 0, 0, 0, 0, 0, 0, 0, 0, 0, 0, 0, 0, 0, 0, 0, 0, 0, 0, 0, 0, 0, 0, 0, 0, 0, 0, 0, 0, 0, 0, 0, 0, 0, 0, 0, 0, 0, 0, 0, 0, 0, 0, 0, 0, 0, 0, 0, 0, 0, 0, 0, 0, 0, 0, 0, 0, 0, 0, 0, 0, 0, 0, 0, 0, 0, 0, 0, 0, 0, 0, 0, 0, 0, 0, 0, 0, 0, 0, 0, 0, 0, 0, 1, 0, 0, 0, 0, 0, 0, 0, 0, 0, 0, 0, 0, 0, 0, 0, 0, 0, 0, 0, 0, 0, 0, 0, 0, 0, 0, 0, 0, 0, 0, 0, 0, 0, 0, 0, 0, 0, 0, 0, 0, 0, 0, 0, 0, 0, 0, 0, 0, 0, 0, 0, 0, 0, 0, 0, 0, 0, 0, 0, 0, 0, 0, 0, 0, 0, 0, 0, 0, 0, 0, 0, 0, 0, 0, 0, 0, 0, 0, 0, 0, 0, 0, 0, 0, 0, 0, 1, 0, 0, 0, 0, 0, 0, 0, 0, 0, 0, 0, 0, 0, 0, 0, 0, 0, 0, 0, 0, 0, 0, 0, 0, 0, 0, 0, 0, 0, 0, 0, 0, 0, 0, 0, 0, 0, 0, 0, 0, 0, 0, 0, 0, 0, 0, 0, 0, 0, 0, 0, 0, 0, 0, 0, 0, 0, 0, 0, 0, 0, 0, 0, 0, 0, 0, 0, 0, 0, 0, 0, 0, 0, 0, 0, 0, 0, 0, 0, 0, 0, 0, 0, 0, 0, 0, 0, 0, 0, 0, 0, 0, 0, 0, 0, 0, 0, 0, 0, 0, 0, 0, 0, 0, 0, 0, 0, 0, 0, 0, 0, 0, 0, 0, 0, 0, 0, 0, 0, 0, 0, 0, 0, 0, 0, 0, 0, 0, 0, 0, 0, 0, 0, 0, 0, 0, 0, 0, 0, 0, 0, 0, 0, 0, 0, 0, 0, 0, 0, 0, 0, 0, 0, 0, 0, 0, 0, 0, 0, 0, 0, 0, 0, 0, 0, 0, 0, 0, 0, 0, 0, 0, 0, 0, 0, 0, 0, 0, 0, 0, 0, 0, 0, 0, 0, 0, 0, 0, 0, 0, 0, 0, 0, 0, 0, 0, 0, 0, 0, 0, 0, 0, 0, 0, 0, 0, 0, 0, 0, 0, 0, 0, 0, 0, 0, 0, 0, 0, 0, 0, 0, 0, 0, 0, 0, 0, 0, 0, 0, 0, 0, 0, 0, 0, 0, 0, 0, 0, 0, 0, 0, 0, 0, 0, 0, 0, 0, 0, 0, 0, 0, 0, 1, 0, 0, 0, 0, 0, 0, 0, 0, 0, 0, 0, 0, 0, 0, 0, 0, 0, 0, 0, 0, 0, 0, 0, 0, 0, 0, 0, 0, 0, 0, 0, 0, 0, 0, 0, 0, 0, 0, 0, 0, 0, 0, 0, 0, 0, 0, 0, 0, 0, 0, 0, 0, 0, 0, 0, 1, 0, 0, 0, 0, 0, 0, 0, 0, 0, 0, 0, 0, 0, 0, 0, 0, 0, 0, 0, 0, 0, 0, 0, 0, 0, 0, 0, 0, 0, 0, 0, 0, 0, 0, 0, 0, 0, 0, 0, 0, 0, 0, 0, 0, 0, 0, 0, 0, 0, 0, 0, 0, 0, 0, 0, 0, 0, 0, 0, 0, 0, 0, 0, 0, 0, 0, 0, 0, 0, 0, 0, 0, 0, 0, 0, 0, 0, 0, 0, 0, 0, 0, 0, 0, 0, 0, 0, 0, 0, 0, 0, 0, 0, 0, 0, 0, 0, 0, 0, 0, 0, 0, 0, 0, 0, 0, 0, 0, 0, 0, 0, 0, 0, 0, 0, 0, 0, 0, 0, 0, 0, 0, 0, 0, 0, 0, 0, 0, 0, 0, 0, 0, 0, 0, 0, 0, 0, 0, 0, 0, 0, 0, 0, 0, 0, 0, 0, 0, 0, 0, 0, 0, 0, 0, 0, 0, 0, 0, 0, 0, 0, 0, 0, 0, 0, 0, 0, 0, 0, 0, 0, 0, 0, 0, 0, 0, 0, 0, 0, 0, 0, 0, 0, 0, 0, 0, 0, 0, 0, 0, 0, 0, 0, 0, 0, 0, 0, 0, 0, 0, 0, 0, 0, 0, 0, 0, 0, 0, 0, 0, 0, 0, 0, 0, 0, 0, 0, 0, 0, 0, 0, 0, 0, 0, 0, 0, 0, 0, 0, 0, 0, 0, 0, 0, 0, 0, 0, 0, 0, 0, 0, 0, 0, 0, 0, 0, 0, 0, 0, 0, 0, 0, 0, 0, 0, 0, 0, 0, 0, 0, 0, 0, 0, 0, 0, 0, 0, 0, 0, 0, 0, 0, 0, 0, 0, 0, 0, 0, 0, 0, 0, 0, 0, 0, 0, 0, 0, 0, 0, 0, 0, 0, 0, 0, 0, 0, 0, 0, 0, 0, 0, 0, 0, 0, 0, 0, 0, 0, 0, 0, 0, 0, 0, 0, 0, 0, 0, 0, 0, 0, 0, 0, 0, 0, 0, 0, 0, 0, 0, 0, 0, 0, 0, 0, 0, 0, 0, 0, 0, 0, 0, 0, 0, 0, 0, 0, 0, 0, 0, 0, 0, 0, 0, 0, 0, 0, 0, 0, 0, 0, 0, 0, 0, 0, 0, 0, 0, 0, 0, 0, 0, 0, 0, 0, 0, 0, 0, 0, 0, 0, 0, 0, 0, 0, 0, 0, 0, 0, 0, 0, 0, 0, 0, 0, 0, 0, 0, 0, 0, 0, 0, 0, 0, 0, 0, 0, 0, 0, 0, 0, 0, 0, 0, 0, 0, 0, 0, 0, 0, 0, 0, 0, 0, 0, 0, 0, 0, 0, 0, 0, 0, 0, 0, 0, 0, 0, 0, 0, 0, 0, 0, 0, 0, 0, 0, 0, 0, 0, 0, 0, 0, 0, 0, 0, 0, 0, 0, 0, 0, 0, 0, 0, 0, 0, 0, 0, 0, 0, 0, 0, 0, 0, 0, 0, 0, 0, 0, 0, 0, 0, 0, 0, 0, 0, 0, 0, 0, 0, 0, 0, 0, 0, 0, 0, 0, 0, 0, 0, 0, 0, 0, 0, 0, 0, 0, 0, 0, 0, 0, 0, 0, 0, 0, 0, 0, 0, 0, 0, 0, 0, 0, 0, 0, 0, 0, 0, 0, 0, 0, 0, 0, 0, 0, 0, 0, 0, 0, 0, 0, 0, 0, 0, 0, 0, 0, 0, 0, 0, 0, 0, 0, 0, 0, 0, 0, 0, 0, 0, 0, 0, 0, 0, 0, 0, 0, 0, 0, 0, 0, 0, 0, 0, 0, 0, 0, 0, 0, 0, 0, 0, 0, 0, 0, 0, 0, 0, 0, 0, 0, 0, 0, 0, 0, 0, 0, 0, 0, 0, 0, 0, 0, 0, 0, 0, 0, 0, 0, 0, 0, 0, 0, 0, 0, 0, 0, 0, 0, 0, 0, 0, 0, 0, 0, 0, 0, 0, 0, 0, 0, 0, 0, 0, 0, 0, 0, 0, 0, 0, 0, 0, 0, 0, 0, 0, 0, 0, 0, 0, 0, 0, 0, 0, 0, 0, 0, 0, 0, 0, 0, 0, 0, 0, 0, 0, 0, 0, 0, 0, 0, 0, 0, 0, 0, 0, 0, 0, 0, 0, 0, 0, 0, 1, 0, 0, 0, 0, 0, 0, 0, 0, 0, 0, 0, 0, 0, 0, 0, 0, 0, 0, 0, 0, 0, 0, 0, 0, 0, 0, 0, 0, 0, 0, 0, 0, 0, 0, 0, 0, 0, 0, 0, 0, 0, 0, 0, 0, 0, 0, 0, 0, 0, 0, 0, 0, 0, 0, 0, 0, 0, 0, 0, 0, 0, 0, 0, 0, 0, 0, 0, 0, 0, 0, 0, 0, 0, 0, 1, 0, 0, 0, 0, 0, 0, 0, 0, 0, 0, 0, 0, 0, 0, 0, 0, 0, 0, 0, 0, 1, 0, 0, 1, 0, 0, 0, 0, 0, 0, 0, 0, 0, 0, 0, 0, 0, 0, 0, 0, 0, 0, 0, 0, 0, 0, 0, 0, 0, 0, 0, 0, 0, 0, 0, 0, 0, 0, 0, 0, 0, 0, 0, 0, 0, 0, 0, 0, 0, 0, 0, 0, 0, 0, 0, 0, 0, 0, 0, 0, 0, 0, 0, 0, 0, 0, 0, 0, 0, 0, 0, 0, 0, 0, 0, 0, 0, 0, 0, 0, 0, 0, 0, 0, 0, 0, 0, 0, 0, 0, 0, 0, 0, 0, 0, 0, 0, 0, 0, 0, 0, 0, 0, 0, 0, 0, 0, 0, 0, 0, 0, 0, 0, 0, 0, 0, 0, 0, 0, 0, 0, 0, 0, 0, 0, 0, 0, 0, 0, 0, 0, 0, 0, 0, 0, 0, 0, 0, 0, 0, 0, 0, 0, 0, 0, 0, 0, 0, 0, 0, 0, 0, 0, 0, 0, 0, 0, 0, 0, 0, 0, 0, 0, 0, 0, 0, 0, 0, 0, 0, 0, 0, 0, 0, 0, 0, 0, 0, 0, 0, 0, 0, 0, 0, 0, 0, 0, 0, 0, 0, 0, 0, 0, 0, 0, 0, 0, 0, 0, 0, 0, 0, 0, 0, 0, 0, 0, 0, 0, 0, 0, 0, 0, 0, 0, 0, 0, 0, 0, 0, 0, 0, 0, 0, 0, 0, 0, 0, 0, 0, 0, 0, 0, 0, 0, 0, 0, 0, 0, 0, 0, 0, 0, 0, 0, 0, 0, 0, 0, 0, 0, 0, 0, 0, 0, 0, 0, 0, 0, 0, 0, 0, 0, 0, 0, 0, 0, 0, 0, 0, 0, 0, 0, 0, 0, 0, 0, 0, 0, 0, 0, 0, 0, 0, 0, 0, 0, 0, 0, 0, 0, 0, 0, 0, 0, 0, 0, 0, 0, 0, 0, 0, 0, 0, 0, 0, 0, 0, 0, 0, 0, 0, 0, 0, 0, 0, 0, 0, 0, 0, 0, 0, 0, 0, 0, 0, 0, 0, 0, 0, 0, 0, 0, 0, 0, 0, 0, 0, 0, 0, 0, 0, 0, 0, 0, 0, 0, 0, 0, 0, 0, 0, 0, 0, 0, 0, 0, 0, 0, 0, 0, 0, 0, 0, 0, 0, 0, 0, 0, 0, 0, 0, 0, 0, 0, 0, 0, 0, 0, 0, 0, 0, 0, 0, 0, 0, 0, 0, 0, 0, 0, 0, 0, 0, 0, 0, 0, 0, 0, 0, 0, 0, 0, 0, 0, 0, 0, 0, 0, 0, 0, 0, 0, 0, 0, 0, 0, 0, 0, 0, 0, 0, 0, 0, 0, 0, 0, 0, 0, 0, 0, 0, 0, 0, 0, 0, 0, 0, 0, 0, 0, 0, 0, 0, 0, 0, 0, 0, 0, 0, 0, 0, 0, 0, 0, 0, 0, 0, 0, 0, 0, 0, 0, 0, 0, 0, 0, 0, 0, 0, 1, 0, 0, 0, 0, 0, 0, 0, 0, 0, 0, 0, 0, 0, 0, 0, 0, 0, 0, 0, 0, 0, 0, 0, 0, 0, 0, 0, 0, 0, 0, 0, 0, 0, 0, 0, 0, 0, 0, 0, 0, 0, 0, 0, 0, 0, 0, 0, 0, 0, 0, 0, 0, 0, 0, 0, 0, 0, 0, 0, 0, 0, 0, 0, 0, 0, 0, 0, 0, 0, 0, 0, 0, 0, 0, 0, 0, 0, 0, 0, 0, 0, 0, 0, 0, 0, 0, 0, 0, 0, 0, 0, 0, 0, 0, 0, 0, 0, 0, 0, 0, 0, 0, 0, 0, 0, 0, 0, 0, 0, 0, 0, 0, 0, 0, 0, 0, 0, 0, 0, 0, 0, 0, 0, 0, 0, 0, 0, 0, 0, 0, 0, 0, 0, 0, 0, 0, 0, 0, 0, 0, 0, 0, 0, 0, 0, 0, 0, 0, 0, 0, 0, 0, 0, 0, 0, 0, 0, 0, 0, 0, 0, 0, 0, 0, 0, 0, 0, 0, 0, 0, 0, 0, 0, 0, 0, 0, 0, 0, 0, 0, 0, 0, 0, 0, 0, 0, 0, 0, 0, 0, 0, 0, 0, 0, 0, 0, 0, 0, 0, 0, 0, 0, 0, 0, 0, 0, 0, 0, 0, 0, 0, 0, 0, 0, 0, 0, 0, 0, 0, 0, 0, 0, 0, 0, 0, 0, 0, 0, 0, 0, 0, 0, 0, 0, 0, 0, 0, 0, 0, 0, 0, 0, 0, 0, 0, 0, 0, 0, 0, 0, 0, 0, 0, 0, 0, 0, 0, 0, 0, 0, 0, 0, 0, 0, 0, 0, 0, 0, 0, 0, 0, 0, 0, 0, 0, 0, 0, 0, 0, 0, 0, 0, 0, 0, 0, 0, 0, 0, 0, 0, 0, 0, 0, 0, 0, 0, 0, 0, 0, 0, 0, 0, 0, 0, 0, 0, 0, 0, 0, 0, 0, 0, 0, 0, 0, 0, 0, 0, 0, 0, 0, 0, 0, 0, 0, 0, 0, 0, 0, 0, 0, 0, 0, 0, 0, 0, 0, 0, 0, 0, 0, 0, 0, 0, 0, 0, 0, 0, 0, 0, 0, 0, 0, 0, 0, 0, 0, 0, 0, 0, 0, 0, 0, 0, 0, 0, 0, 0, 0, 0, 0, 0, 0, 0, 0, 0, 0, 0, 0, 0, 0, 0, 0, 0, 0, 0, 0, 0, 0, 0, 0, 0, 0, 0, 0, 0, 0, 0, 0, 0, 0, 0, 0, 0, 0, 0, 0, 0, 0, 0, 0, 0, 0, 0, 0, 0, 0, 0, 0, 0, 0, 0, 0, 0, 0, 0, 0, 0, 0, 0, 0, 0, 0, 0, 0, 0, 0, 0, 0, 0, 0, 0, 0, 0, 0, 0, 0, 0, 0, 0, 0, 0, 0, 0, 0, 0, 0, 0, 0, 0, 0, 0, 0, 0, 0, 0, 0, 0, 0, 0, 0, 0, 0, 0, 0, 0, 0, 0, 0, 0, 0, 0, 0, 0, 0, 0, 0, 0, 0, 0, 0, 0, 0, 0, 0, 0, 0, 0, 0, 0, 0, 0, 0, 0, 0, 0, 0, 0, 0, 0, 0, 0, 1, 0, 0, 0, 0, 0, 0, 0, 0, 0, 0, 0, 0, 0, 0, 0, 0, 0, 0, 0, 0, 0, 0, 0, 0, 0, 0, 0, 0, 0, 0, 0, 0, 0, 0, 0, 2, 0, 0, 0, 0, 0, 0, 0, 0, 0, 0, 0, 0, 0, 0, 0, 0, 0, 0, 0, 0, 0, 0, 0, 0, 0, 0, 0, 0, 0, 0, 0, 0, 0, 0, 0, 0, 0, 0, 0, 0, 1, 0, 0, 0, 0, 0, 0, 0, 0, 0, 0, 0, 0, 0, 0, 0, 0, 0, 0, 0, 0, 0, 0, 0, 0, 0, 0, 0, 0, 0, 0, 0, 0, 0, 0, 0, 0, 0, 0, 0, 0, 0, 0, 0, 0, 0, 0, 0, 0, 0, 0, 0, 0, 0, 0, 0, 0, 0, 0, 0, 0, 0, 0, 0, 0, 0, 0, 0, 0, 0, 0, 0, 0, 0, 0, 0, 0, 0, 0, 0, 0, 0, 0, 0, 0, 0, 0, 0, 0, 0, 0, 0, 0, 0, 0, 0, 0, 0, 0, 0, 0, 0, 0, 0, 0, 0, 0, 0, 0, 0, 0, 0, 0, 0, 0, 0, 0, 0, 0, 0, 0, 0, 0, 0, 0, 0, 0, 0, 0, 0, 0, 0, 0, 0, 0, 0, 0, 0, 0, 0, 0, 0, 0, 0, 0, 0, 0, 0, 0, 0, 0, 0, 0, 0, 0, 0, 0, 0, 0, 0, 0, 0, 0, 0, 0, 0, 0, 0, 0, 0, 0, 0, 0, 0, 0, 0, 0, 0, 0, 0, 0, 0, 0, 0, 0, 0, 0, 0, 0, 0, 0, 0, 0, 0, 0, 0, 0, 0, 0, 0, 0, 0, 0, 0, 0, 0, 0, 0, 0, 0, 0, 0, 0, 0, 0, 0, 0, 0, 0, 0, 0, 0, 0, 0, 0, 0, 0, 0, 0, 0, 0, 0, 0, 0, 0, 0, 0, 0, 0, 0, 0, 0, 0, 0, 0, 0, 0, 0, 0, 0, 0, 0, 0, 0, 0, 0, 0, 0, 0, 0, 0, 0, 0, 0, 0, 0, 0, 0, 0, 0, 0, 0, 0, 0, 0, 0, 0, 0, 0, 0, 0, 0, 0, 0, 0, 0, 0, 0, 0, 0, 0, 0, 0, 0, 0, 0, 0, 0, 0, 0, 0, 0, 0, 0, 0, 0, 0, 0, 0, 0, 0, 0, 0, 0, 0, 0, 0, 0, 0, 0, 0, 0, 0, 0, 0, 0, 0, 0, 0, 0, 0, 0, 0, 0, 0, 0, 0, 0, 0, 0, 0, 0, 0, 0, 0, 0, 0, 0, 0, 0, 0, 0, 0, 0, 0, 0, 0, 0, 0, 0, 0, 0, 0, 0, 0, 0, 0, 0, 0, 0, 0, 0, 0, 0, 0, 0, 0, 0, 0, 0, 0, 0, 0, 0, 0, 0, 0, 0, 0, 0, 0, 0, 0, 0, 0, 0, 0, 0, 0, 0, 0, 0, 0, 0, 0, 0, 0, 0, 0, 0, 0, 0, 0, 0, 0, 0, 0, 0, 0, 0, 0, 0, 0, 0, 0, 0, 0, 0, 0, 0, 0, 0, 0, 0, 0, 0, 0, 0, 0, 0, 0, 0, 0, 0, 0, 0, 0, 0, 0, 0, 0, 0, 0, 0, 0, 0, 0, 0, 0, 0, 0, 0, 0, 0, 0, 0, 0, 0, 0, 0, 0, 0, 0, 0, 0, 0, 0, 0, 0, 0, 0, 0, 0, 0, 0, 0, 0, 0, 0, 0, 0, 0, 0, 0, 0, 0, 0, 0, 1, 0, 0, 0, 0, 0, 0, 0, 0, 0, 0, 0, 0, 0, 0, 0, 0, 0, 0, 0, 0, 0, 0, 0, 0, 0, 0, 0, 0, 0, 0, 0, 0, 0, 0, 0, 0, 0, 0, 0, 0, 0, 0, 0, 0, 0, 0, 0, 0, 0, 0, 0, 0, 0, 0, 0, 0, 0, 0, 0, 0, 0, 0, 0, 0, 0, 0, 0, 0, 0, 0, 0, 0, 0, 0, 0, 0, 0, 0, 0, 0, 0, 0, 0, 0, 0, 0, 0, 0, 0, 0, 0, 0, 0, 0, 0, 0, 0, 0, 0, 0, 0, 0, 0, 0, 0, 0, 0, 0, 0, 0, 2, 0, 0, 0, 0, 0, 0, 0, 0, 0, 0, 0, 0, 0, 0, 0, 0, 0, 0, 0, 0, 0, 0, 0, 0, 0, 0, 0, 0, 0, 0, 0, 0, 0, 0, 0, 0, 0, 0, 0, 0, 0, 0, 0, 0, 0, 0, 0, 0, 0, 0, 0, 0, 0, 0, 0, 0, 0, 0, 0, 0, 0, 0, 0, 0, 0, 0, 0, 0, 0, 0, 0, 0, 0, 0, 0, 0, 0, 0, 0, 0, 0, 0, 0, 0, 0, 0, 0, 0, 0, 0, 0, 0, 0, 0, 0, 0, 0, 0, 0, 0, 0, 0, 0, 0, 0, 0, 0, 0, 0, 0, 0, 0, 0, 0, 0, 0, 0, 0, 0, 0, 0, 0, 0, 0, 0, 0, 0, 0, 0, 0, 0, 0, 0, 0, 0, 0, 0, 0, 0, 0, 0, 0, 0, 0, 0, 0, 0, 0, 0, 0, 0, 0, 0, 0, 0, 0, 0, 0, 0, 0, 0, 0, 0, 0, 0, 0, 0, 0, 0, 0, 0, 0, 0, 0, 0, 0, 0, 0, 0, 0, 0, 0, 0, 0, 0, 0, 0, 0, 0, 0, 0, 0, 0, 0, 0, 0, 0, 0, 0, 0, 0, 0, 0, 0, 0, 0, 0, 0, 0, 0, 0, 0, 0, 0, 0, 0, 0, 0, 0, 0, 0, 0, 0, 0, 0, 0, 0, 0, 0, 0, 0, 0, 0, 0, 0, 0, 0, 0, 0, 0, 0, 0, 0, 0, 0, 0, 0, 0, 0, 0, 0, 0, 0, 0, 0, 0, 0, 0, 0, 0, 0, 0, 0, 0, 0, 0, 0, 0, 0, 0, 0, 0, 0, 0, 0, 0, 0, 0, 0, 0, 0, 0, 0, 0, 0, 0, 0, 0, 0, 0, 0, 0, 0, 0, 0, 0, 0, 0, 0, 0, 0, 0, 0, 0, 0, 0, 0, 0, 0, 0, 0, 0, 0, 0, 0, 0, 0, 0, 0, 0, 0, 0, 0, 0, 0, 0, 0, 0, 0, 0, 0, 0, 0, 0, 0, 0, 0, 0, 0, 0, 0, 0, 0, 0, 0, 0, 0, 0, 0, 0, 0, 0, 0, 0, 0, 0, 0, 0, 0, 0, 0, 0, 0, 0, 0, 0, 0, 0, 0, 0, 0, 0, 0, 0, 0, 0, 0, 0, 0, 0, 0, 0, 0, 0, 0, 0, 0, 0, 0, 0, 0, 0, 0, 0, 0, 0, 0, 0, 0, 0, 0, 0, 0, 0, 0, 0, 0, 0, 0, 0, 0, 0, 0, 0, 0, 0, 0, 0, 0, 0, 0, 0, 0, 0, 0, 0, 0, 0, 0, 0, 0, 0, 0, 0, 0, 0, 0, 0, 0, 0, 0, 0, 0, 0, 0, 0, 0, 0, 0, 0, 0, 0, 0, 0, 0, 0, 0, 0, 0, 0, 0, 0, 0, 0, 0, 0, 0, 0, 0, 0, 0, 0, 0, 0, 0, 0, 0, 0, 0, 0, 0, 0, 0, 0, 0, 0, 0, 0, 0, 0, 0, 0, 0, 0, 0, 0, 0, 0, 0, 0, 0, 0, 0, 0, 0, 0, 0, 0, 0, 0, 0, 0, 0, 0, 0, 0, 0, 0, 0, 0, 0, 0, 0, 0, 0, 0, 0, 0, 0, 0, 0, 0, 0, 0, 0, 0, 0, 0, 0, 0, 0, 0, 0, 0, 0, 0, 0, 0, 0, 0, 0, 0, 0, 0, 0, 0, 0, 0, 0, 0, 0, 0, 0, 0, 0, 0, 0, 0, 0, 0, 0, 0, 0, 0, 0, 0, 0, 0, 0, 0, 0, 0, 0, 0, 0, 0, 0, 0, 0, 0, 0, 0, 0, 0, 0, 0, 0, 0, 0, 0, 0, 0, 0, 0, 0, 0, 0, 0, 0, 0, 0, 0, 0, 0, 0, 0, 0, 0, 0, 0, 0, 0, 0, 0, 0, 0, 0, 0, 0, 0, 0, 0, 0, 0, 0, 0, 0, 0, 0, 0, 0, 0, 0, 0, 0, 0, 0, 0, 0, 0, 0, 0, 0, 0, 0, 0, 0, 0, 0, 0, 0, 0, 0, 0, 0, 0, 0, 0, 0, 0, 0, 0, 0, 0, 0, 0, 0, 0, 0, 0, 0, 0, 0, 0, 0, 0, 0, 0, 0, 0, 1, 0, 0, 0, 0, 0, 0, 0, 0, 0, 0, 0, 0, 0, 0, 0, 0, 0, 0, 0, 0, 0, 0, 0, 0, 0, 0, 0, 0, 0, 0, 0, 0, 0, 0, 0, 0, 0, 0, 0, 0, 0, 0, 0, 0, 0, 0, 0, 0, 0, 0, 0, 0, 0, 0, 0, 0, 0, 0, 0, 0, 0, 0, 0, 0, 0, 0, 0, 0, 0, 0, 0, 0, 0, 0, 0, 0, 0, 0, 0, 0, 0, 0, 0, 0, 0, 0, 0, 0, 0, 0, 0, 0, 0, 0, 0, 0, 0, 0, 0, 0, 0, 0, 0, 0, 0, 0, 0, 1, 0, 0, 0, 0, 0, 0, 0, 0, 0, 0, 0, 0, 0, 0, 0, 0, 0, 0, 0, 0, 0, 0, 0, 0, 0, 0, 0, 0, 0, 0, 0, 0, 0, 0, 0, 0, 0, 0, 0, 0, 0, 0, 0, 0, 0, 0, 0, 0, 0, 0, 0, 0, 0, 0, 0, 0, 0, 0, 0, 0, 0, 0, 0, 0, 0, 0, 0, 0, 0, 0, 0, 0, 0, 0, 0, 0, 0, 0, 0, 0, 0, 0, 0, 0, 0, 0, 0, 0, 0, 0, 0, 0, 0, 0, 0, 0, 0, 0, 0, 0, 0, 0, 0, 0, 0, 0, 0, 0, 0, 0, 0, 0, 0, 0, 0, 0, 0, 0, 0, 0, 0, 0, 0, 0, 0, 0, 0, 0, 0, 0, 0, 0, 0, 0, 0, 0, 0, 0, 0, 0, 0, 0, 0, 0, 0, 0, 0, 0, 0, 0, 0, 0, 0, 0, 0, 0, 0, 0, 0, 0, 0, 0, 0, 0, 0, 0, 0, 0, 0, 0, 0, 0, 0, 0, 0, 0, 0, 0, 0, 0, 0, 0, 0, 0, 0, 0, 0, 0, 0, 0, 0, 0, 0, 0, 0, 0, 0, 0, 0, 0, 0, 0, 0, 0, 0, 0, 0, 0, 0, 0, 0, 0, 0, 0, 0, 0, 0, 0, 0, 0, 0, 0, 0, 0, 0, 0, 0, 0, 0, 0, 0, 0, 0, 0, 0, 0, 0, 0, 0, 0, 0, 0, 0, 0, 0, 0, 0, 0, 0, 0, 0, 0, 0, 0, 0, 0, 0, 0, 0, 0, 0, 0, 0, 0, 0, 0, 0, 0, 0, 0, 0, 0, 0, 0, 0, 0, 0, 0, 0, 0, 0, 0, 0, 0, 0, 0, 0, 0, 0, 0, 0, 0, 0, 0, 0, 0, 0, 0, 0, 0, 0, 0, 0, 0, 0, 0, 0, 0, 0, 0, 0, 0, 0, 0, 0, 0, 0, 0, 0, 0, 0, 0, 0, 0, 0, 0, 0, 0, 0, 0, 0, 0, 0, 0, 0, 0, 0, 0, 0, 0, 0, 0, 0, 0, 0, 0, 0, 0, 0, 0, 0, 0, 0, 0, 0, 0, 0, 0, 0, 0, 0, 0, 0, 0, 0, 0, 0, 0, 0, 0, 0, 0, 0, 0, 0, 0, 0, 0, 0, 0, 0, 0, 0, 0, 0, 0, 0, 0, 0, 0, 0, 0, 0, 0, 0, 0, 0, 0, 0, 0, 0, 0, 0, 0, 0, 0, 0, 0, 0, 0, 0, 0, 0, 0, 0, 0, 0, 0, 0, 0, 0, 0, 0, 0, 0, 0, 0, 0, 0, 0, 0, 0, 0, 0, 0, 0, 0, 0, 0, 0, 0, 0, 0, 0, 0, 0, 0, 0, 0, 0, 0, 0, 0, 0, 0, 0, 0, 0, 0, 0, 0, 0, 0, 2, 0, 1, 0], type: <class 'list'>, valid types: <class 'bytes'>, <class 'bytearray'>, file-like object"
     ]
    }
   ],
   "source": [
    "response = runtime.invoke_endpoint(EndpointName = xgb_predictor.endpoint, # The name of the endpoint we created\n",
    "                                       ContentType = 'text/csv',                     # The data format that is expected\n",
    "                                       Body = test_bow)"
   ]
  },
  {
   "cell_type": "markdown",
   "metadata": {},
   "source": [
    "So why did we get an error?\n",
    "\n",
    "Because we tried to send the endpoint a list of integers but it expected us to send data of type `text/csv`. So, we need to convert it."
   ]
  },
  {
   "cell_type": "code",
   "execution_count": 45,
   "metadata": {},
   "outputs": [],
   "source": [
    "response = runtime.invoke_endpoint(EndpointName = xgb_predictor.endpoint, # The name of the endpoint we created\n",
    "                                       ContentType = 'text/csv',                     # The data format that is expected\n",
    "                                       Body = ','.join([str(val) for val in test_bow]).encode('utf-8'))"
   ]
  },
  {
   "cell_type": "code",
   "execution_count": 46,
   "metadata": {},
   "outputs": [
    {
     "name": "stdout",
     "output_type": "stream",
     "text": [
      "{'ResponseMetadata': {'RequestId': 'b975a0e0-d112-4f11-a205-55ec8d3f2680', 'HTTPStatusCode': 200, 'HTTPHeaders': {'x-amzn-requestid': 'b975a0e0-d112-4f11-a205-55ec8d3f2680', 'x-amzn-invoked-production-variant': 'AllTraffic', 'date': 'Sun, 19 Jul 2020 17:28:54 GMT', 'content-type': 'text/csv; charset=utf-8', 'content-length': '14'}, 'RetryAttempts': 0}, 'ContentType': 'text/csv; charset=utf-8', 'InvokedProductionVariant': 'AllTraffic', 'Body': <botocore.response.StreamingBody object at 0x7f6016a59ba8>}\n"
     ]
    }
   ],
   "source": [
    "print(response)"
   ]
  },
  {
   "cell_type": "markdown",
   "metadata": {},
   "source": [
    "As we can see, the response from our model is a somewhat complicated looking dict that contains a bunch of information. The bit that we are most interested in is `'Body'` object which is a streaming object that we need to `read` in order to make use of."
   ]
  },
  {
   "cell_type": "code",
   "execution_count": 47,
   "metadata": {},
   "outputs": [
    {
     "name": "stdout",
     "output_type": "stream",
     "text": [
      "0.385472565889\n"
     ]
    }
   ],
   "source": [
    "response = response['Body'].read().decode('utf-8')\n",
    "print(response)"
   ]
  },
  {
   "cell_type": "markdown",
   "metadata": {},
   "source": [
    "Now that we know how to process the incoming user data we can start setting up the infrastructure to make our simple web app work. To do this we will make use of two different services. Amazon's Lambda and API Gateway services.\n",
    "\n",
    "Lambda is a service which allows someone to write some relatively simple code and have it executed whenever a chosen trigger occurs. For example, you may want to update a database whenever new data is uploaded to a folder stored on S3.\n",
    "\n",
    "API Gateway is a service that allows you to create HTTP endpoints (url addresses) which are connected to other AWS services. One of the benefits to this is that you get to decide what credentials, if any, are required to access these endpoints.\n",
    "\n",
    "In our case we are going to set up an HTTP endpoint through API Gateway which is open to the public. Then, whenever anyone sends data to our public endpoint we will trigger a Lambda function which will send the input (in our case a review) to our model's endpoint and then return the result."
   ]
  },
  {
   "cell_type": "markdown",
   "metadata": {},
   "source": [
    "### Setting up a Lambda function\n",
    "\n",
    "The first thing we are going to do is set up a Lambda function. This Lambda function will be executed whenever our public API has data sent to it. When it is executed it will receive the data, perform any sort of processing that is required, send the data (the review) to the SageMaker endpoint we've created and then return the result.\n",
    "\n",
    "#### Part A: Create an IAM Role for the Lambda function\n",
    "\n",
    "Since we want the Lambda function to call a SageMaker endpoint, we need to make sure that it has permission to do so. To do this, we will construct a role that we can later give the Lambda function.\n",
    "\n",
    "Using the AWS Console, navigate to the **IAM** page and click on **Roles**. Then, click on **Create role**. Make sure that the **AWS service** is the type of trusted entity selected and choose **Lambda** as the service that will use this role, then click **Next: Permissions**.\n",
    "\n",
    "In the search box type `sagemaker` and select the check box next to the **AmazonSageMakerFullAccess** policy. Then, click on **Next: Review**.\n",
    "\n",
    "Lastly, give this role a name. Make sure you use a name that you will remember later on, for example `LambdaSageMakerRole`. Then, click on **Create role**."
   ]
  },
  {
   "cell_type": "markdown",
   "metadata": {},
   "source": [
    "#### Part B: Create a Lambda function\n",
    "\n",
    "Now it is time to actually create the Lambda function. Remember from earlier that in order to process the user provided input and send it to our endpoint we need to gather two pieces of information:\n",
    "\n",
    " - The name of the endpoint, and\n",
    " - the vocabulary object.\n",
    "\n",
    "We will copy these pieces of information to our Lambda function after we create it.\n",
    "\n",
    "To start, using the AWS Console, navigate to the AWS Lambda page and click on **Create a function**. When you get to the next page, make sure that **Author from scratch** is selected. Now, name your Lambda function, using a name that you will remember later on, for example `sentiment_analysis_xgboost_func`. Make sure that the **Python 3.6** runtime is selected and then choose the role that you created in the previous part. Then, click on **Create Function**.\n",
    "\n",
    "On the next page you will see some information about the Lambda function you've just created. If you scroll down you should see an editor in which you can write the code that will be executed when your Lambda function is triggered. Collecting the code we wrote above to process a single review and adding it to the provided example `lambda_handler` we arrive at the following.\n",
    "\n",
    "```python\n",
    "# We need to use the low-level library to interact with SageMaker since the SageMaker API\n",
    "# is not available natively through Lambda.\n",
    "import boto3\n",
    "\n",
    "# And we need the regular expression library to do some of the data processing\n",
    "import re\n",
    "\n",
    "REPLACE_NO_SPACE = re.compile(\"(\\.)|(\\;)|(\\:)|(\\!)|(\\')|(\\?)|(\\,)|(\\\")|(\\()|(\\))|(\\[)|(\\])\")\n",
    "REPLACE_WITH_SPACE = re.compile(\"(<br\\s*/><br\\s*/>)|(\\-)|(\\/)\")\n",
    "\n",
    "def review_to_words(review):\n",
    "    words = REPLACE_NO_SPACE.sub(\"\", review.lower())\n",
    "    words = REPLACE_WITH_SPACE.sub(\" \", words)\n",
    "    return words\n",
    "    \n",
    "def bow_encoding(words, vocabulary):\n",
    "    bow = [0] * len(vocabulary) # Start by setting the count for each word in the vocabulary to zero.\n",
    "    for word in words.split():  # For each word in the string\n",
    "        if word in vocabulary:  # If the word is one that occurs in the vocabulary, increase its count.\n",
    "            bow[vocabulary[word]] += 1\n",
    "    return bow\n",
    "\n",
    "\n",
    "def lambda_handler(event, context):\n",
    "    \n",
    "    vocab = \"*** ACTUAL VOCABULARY GOES HERE ***\"\n",
    "    \n",
    "    words = review_to_words(event['body'])\n",
    "    bow = bow_encoding(words, vocab)\n",
    "\n",
    "    # The SageMaker runtime is what allows us to invoke the endpoint that we've created.\n",
    "    runtime = boto3.Session().client('sagemaker-runtime')\n",
    "\n",
    "    # Now we use the SageMaker runtime to invoke our endpoint, sending the review we were given\n",
    "    response = runtime.invoke_endpoint(EndpointName = '***ENDPOINT NAME HERE***',# The name of the endpoint we created\n",
    "                                       ContentType = 'text/csv',                 # The data format that is expected\n",
    "                                       Body = ','.join([str(val) for val in bow]).encode('utf-8')) # The actual review\n",
    "\n",
    "    # The response is an HTTP response whose body contains the result of our inference\n",
    "    result = response['Body'].read().decode('utf-8')\n",
    "    \n",
    "    # Round the result so that our web app only gets '1' or '0' as a response.\n",
    "    result = round(float(result))\n",
    "\n",
    "    return {\n",
    "        'statusCode' : 200,\n",
    "        'headers' : { 'Content-Type' : 'text/plain', 'Access-Control-Allow-Origin' : '*' },\n",
    "        'body' : str(result)\n",
    "    }\n",
    "```"
   ]
  },
  {
   "cell_type": "markdown",
   "metadata": {},
   "source": [
    "Once you have copy and pasted the code above into the Lambda code editor, replace the `**ENDPOINT NAME HERE**` portion with the name of the endpoint that we deployed earlier. You can determine the name of the endpoint using the code cell below."
   ]
  },
  {
   "cell_type": "code",
   "execution_count": 48,
   "metadata": {},
   "outputs": [
    {
     "data": {
      "text/plain": [
       "'xgboost-2020-07-19-16-44-24-916'"
      ]
     },
     "execution_count": 48,
     "metadata": {},
     "output_type": "execute_result"
    }
   ],
   "source": [
    "xgb_predictor.endpoint"
   ]
  },
  {
   "cell_type": "markdown",
   "metadata": {},
   "source": [
    "In addition, you will need to copy the vocabulary dict to the appropriate place in the code at the beginning of the `lambda_handler` method. The cell below prints out the vocabulary dict in a way that is easy to copy and paste."
   ]
  },
  {
   "cell_type": "code",
   "execution_count": 49,
   "metadata": {},
   "outputs": [
    {
     "name": "stdout",
     "output_type": "stream",
     "text": [
      "{'heavily': 2069, 're': 3535, 'edited': 1420, 'and': 226, 'often': 3095, 'confusing': 942, 'the': 4426, 'original': 3129, 'screen': 3829, 'version': 4720, 'of': 3083, 'man': 2721, 'on': 3105, 'fire': 1734, 'was': 4805, 'at': 331, 'least': 2554, 'ten': 4399, 'years': 4979, 'out': 3141, 'date': 1118, 'when': 4862, 'it': 2366, 'made': 2697, 'passing': 3204, 'havent': 2053, 'any': 256, 'better': 472, 'this': 4457, 'is': 2360, 'kind': 2476, 'movie': 2926, 'that': 4424, 'producers': 3416, 'with': 4911, 'too': 4522, 'much': 2934, 'money': 2888, 'little': 2624, 'experience': 1580, 'make': 2713, 'to': 4507, 'get': 1899, 'attention': 345, 'everyone': 1542, 'else': 1448, 'does': 1308, 'just': 2437, 'pay': 3216, 'off': 3084, 'their': 4431, 'outstanding': 3147, 'or': 3124, 'drug': 1373, 'scott': 3824, 'going': 1931, 'rescue': 3643, 'his': 2118, '12': 3, 'year': 4978, 'old': 3100, 'charge': 761, 'kidnapped': 2466, 'daughter': 1121, 'wealthy': 4827, 'italian': 2367, 'family': 1645, 'an': 223, 'interesting': 2325, 'cast': 710, 'joe': 2407, 'adams': 112, 'danny': 1112, 'jonathan': 2417, 'have': 2052, 'all': 187, 'done': 1322, 'action': 100, 'only': 3110, 'john': 2409, 'exceptionally': 1559, 'fine': 1729, 'score': 3822, 'part': 3193, 'which': 4867, 'turned': 4606, 'up': 4683, 'in': 2257, 'last': 2521, 'reel': 3581, 'die': 1243, 'hard': 2033, 'makes': 2716, 'positive': 3346, 'impression': 2252, 'one': 3107, 'case': 707, 'where': 4864, 'remake': 3612, 'by': 642, 'tony': 4521, 'choice': 797, 'director': 1264, 'for': 1784, 'improvement': 2256, 'sequel': 3885, 'ever': 1538, 'popular': 3333, 'cinderella': 815, 'story': 4207, 'reminded': 3619, 'me': 2778, 'somewhat': 4068, 'what': 4858, 'they': 4442, 'did': 1241, 'beauty': 430, 'beast': 422, 'movies': 2927, 'its': 2370, 'basically': 407, 'three': 4469, 'short': 3946, 'stories': 4205, 'rolled': 3729, 'into': 2332, 'ok': 3098, 'are': 285, 'adorable': 124, 'love': 2669, 'hes': 2093, 'cute': 1090, 'awesome': 371, 'as': 311, 'usual': 4699, 'liked': 2600, 'some': 4061, 'characters': 760, 'well': 4843, 'like': 2599, 'still': 4188, 'storyline': 4208, 'limited': 2606, 'but': 636, 'very': 4723, 'so': 4046, 'vote': 4766, '10': 0, 'wrote': 4974, 'review': 3676, 'further': 1853, 'down': 1335, 'after': 143, 'buying': 641, 'dvd': 1391, 'being': 448, 'tried': 4584, 'watching': 4815, 'again': 146, 'reading': 3544, 'few': 1700, 'comments': 901, 'since': 3990, 'then': 4436, 'film': 1716, 'student': 4238, 'making': 2718, 'similar': 3978, 'myself': 2953, 'ie': 2221, 'no': 3020, 'budget': 610, 'shot': 3949, 'stand': 4143, 'my': 2951, 'project': 3427, 'not': 3040, 'particularly': 3195, 'good': 1937, 'released': 3603, 'video': 4733, 'look': 2646, 'award': 366, 'winning': 4898, 'if': 2222, 'you': 4986, 'read': 3543, 'cover': 1022, 'public': 3460, 'thinking': 4453, 'something': 4066, 'want': 4788, 'back': 378, 'under': 4639, 'description': 1197, 'act': 97, 'complete': 921, 'rubbish': 3748, 'new': 3003, 'york': 4985, 'city': 825, 'houses': 2180, 'above': 68, 'others': 3136, 'possibly': 3351, 'dr': 1340, 'humanity': 2189, 'using': 4698, 'magical': 2704, 'powers': 3361, 'keep': 2449, 'brother': 598, 'rival': 3706, 'he': 2056, 'may': 2775, 'human': 2188, 'race': 3499, 'wouldnt': 4958, 'know': 2489, 'comes': 891, 'true': 4596, 'breaks': 571, 'free': 1827, 'begins': 444, 'elements': 1443, 'including': 2264, 'experiments': 1584, 'help': 2079, 'police': 3322, 'woman': 4921, 'named': 2961, 'sam': 3777, 'can': 665, 'defeat': 1157, 'evil': 1548, 'charles': 764, 'band': 391, 'full': 1846, 'moon': 2900, 'collection': 874, 'had': 2003, 'heard': 2062, 'bit': 488, 'odd': 3080, 'given': 1913, 'im': 2232, 'big': 478, 'fan': 1648, 'jeffrey': 2391, 'isnt': 2362, 'now': 3054, 'mine': 2853, 'enjoy': 1484, 'certainly': 738, 'fun': 1848, 'classic': 835, 'style': 4249, 'richard': 3686, 'provides': 3450, 'music': 2946, 'doesnt': 1309, 'from': 1840, 'other': 3135, 'scores': 3823, 'brian': 576, 'plays': 3301, 'we': 4823, 'even': 1533, 'animated': 241, 'dinosaur': 1255, 'more': 2904, 'do': 1302, 'course': 1019, 'cheese': 780, 'factor': 1622, 'high': 2100, 'felt': 1692, 'rip': 3700, 'strange': 4211, 'comics': 895, 'blue': 518, 'silly': 3976, 'plot': 3309, 'holes': 2133, 'everywhere': 1545, 'could': 1007, 'list': 2617, 'five': 1743, 'why': 4878, 'bother': 548, 'ancient': 225, 'hammer': 2014, 'has': 2043, 'never': 3001, 'been': 438, 'strong': 4229, 'actor': 103, 'fits': 1741, 'right': 3696, 'these': 4441, 'arent': 288, 'fans': 1650, 'come': 886, 'expect': 1575, 'things': 4451, 'them': 4432, 'crack': 1027, 'nuts': 3064, 'guilty': 1995, 'loved': 2670, 'youre': 4992, 'elsewhere': 1449, 'early': 1400, '1990s': 25, 'youll': 4988, 'eat': 1411, 'might': 2835, 'seeing': 3857, 'villain': 4744, 'looking': 2648, 'able': 66, 'english': 1483, 'beyond': 476, 'third': 4455, 'grade': 1951, 'level': 2584, 'wish': 4904, 'there': 4438, 'ii': 2226, 'company': 910, 'practically': 3362, 'everything': 1544, 'really': 3556, 'necessary': 2984, 'passed': 3202, 'remembered': 3617, 'title': 4504, 'olivier': 3103, 'supporting': 4304, 'roles': 3727, 'vincent': 4746, 'voice': 4761, 'behind': 447, 'great': 1964, 'her': 2085, 'next': 3007, 'would': 4957, 'be': 418, 'days': 1130, 'same': 3778, 'role': 3726, 'different': 1248, 'black': 493, 'white': 4870, 'films': 1721, 'times': 4497, 'night': 3013, 'difficult': 1249, 'couldnt': 1008, 'tell': 4395, 'interest': 2323, 'believe': 454, 'elizabeth': 1445, 'brilliant': 583, 'recommend': 3571, 'ships': 3935, 'sent': 3880, 'against': 147, 'apparently': 270, 'worked': 4941, 'empire': 1464, 'script': 3834, 'accurate': 90, 'historically': 2120, 'bette': 471, 'davis': 1126, 'engaging': 1481, 'scripts': 3836, 'missed': 2867, 'literally': 2622, 'entire': 1502, 'audience': 352, 'laugh': 2529, 'minutes': 2859, 'later': 2525, 'fill': 1714, 'eyes': 1613, 'tears': 4380, 'many': 2732, 'try': 4600, 'deliver': 1169, 'emotional': 1459, 'impact': 2244, 'adam': 111, 'sandler': 3781, 'drags': 1345, 'violent': 4748, 'also': 199, 'shadow': 3912, 'past': 3207, 'pulling': 3463, 'him': 2110, 'ruin': 3750, 'anything': 260, 'scene': 3809, 'particular': 3194, 'should': 3951, 'your': 4991, 'most': 2909, 'men': 2805, 'feel': 1684, 'while': 4868, 'don': 1320, 'gives': 1914, 'another': 250, 'performance': 3228, 'smith': 4038, 'give': 1912, 'solid': 4057, 'performances': 3229, 'nothing': 3047, 'line': 2610, 'two': 4620, 'leading': 2547, 'humor': 2192, 'present': 3374, 'actually': 109, 'saved': 3795, 'border': 539, 'depressing': 1188, 'several': 3905, 'laughs': 2534, 'dont': 1324, 'think': 4452, 'will': 4886, 'stay': 4166, 'long': 2644, 'because': 432, 'gets': 1900, 'serious': 3891, 'without': 4913, 'warning': 4800, 'go': 1924, 'about': 67, 'how': 2181, 'hit': 2122, 'every': 1539, 'emotion': 1458, 'body': 527, 'contains': 964, 'cut': 1089, 'need': 2987, 'yourself': 4993, 'favor': 1670, 'take': 4349, 'time': 4495, 'see': 3855, 'wait': 4770, 'until': 4680, '100': 1, 'worth': 4953, 'deeply': 1156, 'moving': 2928, 'sure': 4308, 'put': 3480, 'smile': 4036, 'soul': 4079, 'certain': 737, 'bad': 382, 'didnt': 1242, 'reviews': 3679, 'watch': 4811, 'unintentionally': 4659, 'humorous': 2193, 'sometimes': 4067, 'almost': 193, 'fell': 1690, 'asleep': 320, 'cry': 1073, 'rated': 3527, '1990': 24, 'horror': 2168, 'funny': 1852, 'happened': 2027, 'throughout': 4478, 'simply': 3986, 'cant': 671, 'add': 115, 'sort': 4077, 'truly': 4597, 'based': 404, 'idea': 2213, 'thats': 4425, 'combination': 883, 'comedy': 890, 'weird': 4841, 'religion': 3607, 'god': 1926, 'gore': 1941, 'simple': 3983, 'effects': 1431, 'drama': 1346, 'horrible': 2163, 'acting': 99, 'unbelievable': 4634, 'spoilers': 4124, 'government': 1948, 'tries': 4585, 'create': 1036, 'ultimate': 4627, 'weapon': 4828, 'nuclear': 3057, 'power': 3359, 'fails': 1628, 'during': 1387, 'process': 3412, 'child': 789, 'born': 544, 'test': 4416, 'persons': 3244, 'mom': 2885, 'sings': 3997, 'birth': 486, 'both': 547, 'husband': 2204, 'wife': 4884, 'burns': 628, 'whole': 4873, 'thing': 4450, 'leaves': 2556, 'live': 2625, 'amongst': 218, 'people': 3221, 'kid': 2464, 'grown': 1984, 'realizes': 3554, 'reason': 3557, 'burn': 625, 'brains': 563, 'goes': 1930, 'explains': 1589, 'okay': 3099, 'set': 3898, 'work': 4940, 'normal': 3033, 'hospital': 2172, 'use': 4692, 'kill': 2468, 'shoot': 3942, 'guess': 1989, 'enough': 1491, 'promise': 3430, 'low': 2676, 'effort': 1432, 'texas': 4418, 'filmed': 1717, 'say': 3799, 'over': 3148, 'pretty': 3384, 'special': 4097, 'seems': 3864, 'bunch': 623, 'young': 4989, 'folks': 1771, 'putting': 3482, 'together': 4511, 'haunted': 2050, 'house': 2178, 'halloween': 2010, 'extended': 1604, 'lesbian': 2573, 'theme': 4433, 'annoying': 249, 'definitely': 1162, 'empty': 1465, 'spots': 4132, 'lot': 2661, 'costs': 1004, 'wow': 4962, 'episode': 1507, 'week': 4837, 'constantly': 958, 'cameos': 658, 'friendship': 1838, 'annie': 247, 'fired': 1735, 'around': 297, 'screaming': 3827, 'someone': 4064, 'absolutely': 72, 'hilarious': 2106, 'reality': 3551, 'tv': 4610, 'she': 3923, 'continued': 970, 'scream': 3826, 'clothes': 860, 'wear': 4830, 'hideous': 2098, '40': 48, 'throw': 4479, 'joan': 2404, 'starts': 4159, 'calling': 653, 'name': 2960, 'book': 535, 'show': 3953, 'spoiled': 4122, 'who': 4871, 'were': 4848, 'left': 2561, 'ratings': 3530, 'crying': 1074, 'interview': 2329, 'proves': 3447, 'america': 212, 'thought': 4462, 'baby': 376, 'way': 4820, 'told': 4513, 'cameras': 660, 'exactly': 1551, 'far': 1653, 'clearly': 840, 'deserves': 1201, 'win': 4892, 'game': 1864, 'am': 204, 'huge': 2185, 'splatter': 4118, 'consider': 949, 'stupid': 4247, 'point': 3316, 'peoples': 3222, 'site': 4005, 'gem': 1877, 'disappointment': 1275, 'proved': 3446, 'pointless': 3318, 'ive': 2372, 'watched': 4813, 'terrible': 4407, 'dialogs': 1233, 'useless': 4695, 'editing': 1421, 'probably': 3407, 'dead': 1132, 'usually': 4700, 'find': 1726, '11': 2, 'unless': 4669, 'example': 1553, 'avoid': 363, 'cost': 1003, 'earlier': 1399, 'already': 197, 'main': 2707, 'production': 3419, 'basic': 406, 'bleak': 503, 'relatively': 3600, 'late': 2523, 'dickens': 1240, 'novel': 3052, 'darker': 1116, 'than': 4420, 'taken': 4350, 'rick': 3689, 'appear': 273, 'half': 2007, 'hour': 2176, 'opening': 3114, 'relief': 3605, 'first': 1736, 'scenes': 3811, 'day': 1129, 'starting': 4158, 'mid': 2832, 'afternoon': 144, 'became': 431, 'less': 2575, 'issue': 2364, 'problem': 3408, 'before': 440, 'pacing': 3163, 'slow': 4031, 'overdone': 3152, 'numerous': 3062, 'shots': 3950, 'though': 4461, 'london': 2641, 'held': 2074, 'longer': 2645, 'mood': 2898, 'atmosphere': 333, 'editor': 1423, 'each': 1395, 'minute': 2858, 'losing': 2658, 'dialogue': 1234, 'slightly': 4029, 'problems': 3409, 'soon': 4074, 'pace': 3161, 'important': 2247, 'always': 203, 'effectively': 1430, 'novels': 3053, 'nearly': 2981, 'recently': 3567, 'nicholas': 3010, 'intrigued': 2334, 'douglas': 1334, 'page': 3167, 'answer': 251, 'essential': 1522, 'possible': 3350, 'needs': 2990, 'seven': 3903, 'hours': 2177, 'convoluted': 987, 'clear': 839, 'handled': 2019, 'random': 3514, 'examples': 1554, 'appears': 278, 'nowhere': 3056, 'background': 380, 'lady': 2507, 'largely': 2518, 'georges': 1894, 'demand': 1174, 'agrees': 157, 'marry': 2745, 'neither': 2996, 'agreed': 156, 'secret': 3849, 'marriage': 2743, 'merely': 2815, 'lovers': 2673, 'suddenly': 4273, 'mrs': 2930, 'introduced': 2337, 'stage': 4139, 'means': 2783, 'discovered': 1280, 'understated': 4646, 'obscure': 3068, 'involvement': 2347, 'makers': 2715, 'tom': 4514, 'obvious': 3071, 'offer': 3087, 'major': 2711, 'nonetheless': 3029, 'minor': 2857, 'shouldnt': 3952, 'points': 3319, 'however': 2183, 'business': 633, 'murder': 2939, 'thrown': 4481, 'away': 369, 'immediately': 2242, 'suspect': 4327, 'suspense': 4330, 'importance': 2246, 'finding': 1727, 'sub': 4252, 'front': 1841, 'sir': 4000, 'investigation': 2343, 'subsequent': 4257, 'search': 3841, 'completely': 922, 'lose': 2654, 'sight': 3969, 'legal': 2563, 'effect': 1428, 'failing': 1627, 'despair': 1207, 'health': 2060, 'hold': 2129, 'screenplay': 3831, 'forward': 1808, 'finally': 1724, 'discovery': 1282, 'final': 1722, 'happens': 2029, 'despite': 1211, 'individual': 2277, 'beautifully': 429, 'sense': 3877, 'tragedy': 4551, 'powerful': 3360, 'superb': 4296, 'adaptation': 113, '2005': 35, 'fact': 1621, 'fully': 1847, 'aware': 368, 'hadnt': 2004, 'seen': 3865, 'andrew': 228, 'davies': 1125, 'critical': 1062, 'jane': 2380, 'admit': 122, 'knows': 2493, 'tame': 4363, 'books': 536, 'impressive': 2253, 'gripping': 1976, 'fate': 1665, 'viewed': 4737, 'mainly': 2708, 'cross': 1066, 'reference': 3582, 'near': 2979, 'beautiful': 428, 'mind': 2849, 'photography': 3260, 'imagine': 2238, 'anyone': 259, 'masters': 2761, 'married': 2744, 'couple': 1016, 'julia': 2427, 'anderson': 227, 'martin': 2748, 'driving': 1368, 'home': 2142, 'talking': 4360, 'cliff': 847, 'tree': 4576, 'fallen': 1638, 'across': 96, 'road': 3709, 'works': 4945, 'walks': 4780, 'unfortunately': 4654, 'ended': 1470, 'car': 680, 'burning': 627, 'life': 2592, 'support': 4303, 'seriously': 3892, 'horribly': 2164, 'decides': 1150, 'selfish': 3870, 'lawyer': 2541, 'thinks': 4454, 'let': 2579, 'sue': 4274, 'rich': 3685, 'linda': 2609, 'wants': 4791, 'blame': 499, 'save': 3794, 'plans': 3292, 'own': 3158, 'american': 213, 'canadian': 667, 'co': 867, 'directed': 1259, 'rob': 3710, 'whose': 4877, 'previously': 3388, 'wrong': 4973, 'turn': 4605, '2003': 33, 'hardly': 2036, 'direct': 1258, 'season': 3843, 'series': 3890, 'best': 469, 'decent': 1147, 'close': 853, 'solution': 4059, '2006': 36, 'neat': 2982, 'central': 735, 'uses': 4697, 'although': 201, 'id': 2212, 'uneven': 4649, '15': 7, 'focuses': 1768, 'element': 1442, '20': 29, 'becomes': 434, 'affair': 135, 'having': 2054, 'center': 732, 'track': 4544, 'gory': 1943, 'twisted': 4618, 'climax': 849, 'heart': 2064, 'clichéd': 845, 'weak': 4824, 'sex': 3907, 'serve': 3893, 'purpose': 3474, 'moves': 2925, 'along': 195, 'nice': 3008, 'overall': 3150, 'apart': 264, 'here': 2086, 'loses': 2657, 'focus': 1766, 'wasnt': 4807, 'ending': 1471, 'job': 2405, 'effective': 1429, 'alternate': 200, 'between': 475, 'key': 2458, 'spooky': 4128, 'blood': 512, 'fantastic': 1651, 'theres': 4440, 'skin': 4015, 'burned': 626, 'image': 2233, 'head': 2057, 'teeth': 4393, 'showing': 3958, 'lips': 2615, 'gross': 1978, 'images': 2235, 'sequels': 3886, 'end': 1468, 'ups': 4686, 'open': 3112, 'box': 555, 'various': 4715, 'parts': 3199, 'nudity': 3059, 'ladies': 2506, 'getting': 1901, 'naked': 2959, 'technically': 4382, 'excellent': 1555, 'episodes': 1508, 'cheap': 774, 'truth': 4599, 'names': 2963, 'enjoyable': 1485, 'check': 777, 'terrific': 4409, 'those': 4460, 'stomach': 4196, 'itself': 2371, 'intelligent': 2314, 'fortunately': 1805, 'quickly': 3491, 'relationship': 3597, 'strangely': 4212, 'trite': 4589, 'shows': 3960, 'us': 4690, 'space': 4090, 'himself': 2111, 'note': 3044, 'irritating': 2359, 'said': 3774, 'harvey': 2042, 'manages': 2725, 'badly': 383, 'actors': 104, 'red': 3576, 'headed': 2058, 'waiting': 4772, 'plane': 3288, 'meets': 2795, 'charming': 768, 'flight': 1757, 'sit': 4003, 'jack': 2373, 'deadly': 1133, 'lisa': 2616, 'either': 1438, 'change': 749, 'room': 3735, 'staying': 4168, 'father': 1666, 'fly': 1763, 'coach': 868, 'stuff': 4243, 'class': 833, 'conflict': 939, 'takes': 4351, 'place': 3282, 'sheer': 3925, 'word': 4937, 'character': 758, 'plausible': 3295, 'plan': 3287, 'wont': 4932, 'easier': 1405, 'computer': 927, 'system': 4345, 'teenagers': 4391, 'today': 4508, 'damn': 1100, 'instead': 2307, 'through': 4477, 'trouble': 4592, 'plus': 3311, 'struck': 4232, 'single': 3996, 'small': 4033, 'voices': 4763, 'raised': 3508, 'occasionally': 3075, 'meant': 2784, 'realistic': 3550, '24': 39, 'such': 4268, 'type': 4621, 'requires': 3642, 'shut': 3961, 'brain': 562, 'intelligence': 2313, 'chair': 742, 'rachel': 3500, 'murphy': 2944, 'cox': 1026, 'stretch': 4221, 'studios': 4241, 'hope': 2155, 'multiple': 2936, 'awards': 367, 'wes': 4851, 'craven': 1034, 'considering': 952, 'lack': 2502, 'depth': 1190, 'disappointing': 1274, 'doing': 1312, 'talked': 4359, 'decades': 1145, 'release': 3602, 'appreciated': 280, 'once': 3106, 'nowadays': 3055, 'feels': 1687, 'length': 2569, 'waste': 4808, 'trying': 4601, 'develop': 1222, 'ultra': 4629, 'cool': 989, 'writing': 4971, 'predictable': 3367, 'titles': 4506, 'soundtrack': 4085, 'anywhere': 263, 'listen': 2619, 'wanted': 4789, 'pop': 3330, 'hear': 2061, 'cinema': 816, 'provide': 3448, 'entertaining': 1499, 'finds': 1728, 'themselves': 4435, 'bizarre': 492, 'killer': 2470, 'known': 2492, 'death': 1141, 'pair': 3176, 'clumsy': 866, 'photographer': 3259, 'our': 3139, 'trio': 4587, 'heroes': 2089, 'twist': 4617, 'wondering': 4930, 'according': 88, 'synopsis': 4344, 'taking': 4352, 'hollywood': 2137, 'producer': 3415, 'studio': 4240, 'settings': 3901, 'helps': 2082, 'face': 1616, 'especially': 1520, 'toward': 4539, '1930s': 11, 'direction': 1261, 'improved': 2255, 'upon': 4684, 'camera': 659, 'angle': 236, 'fight': 1707, 'slight': 4027, 'circumstances': 822, 'silent': 3975, 'perform': 3227, 'robert': 3713, 'hill': 2108, 'lloyd': 2630, 'june': 2433, 'al': 170, 'st': 4137, 'brando': 566, 'jet': 2400, 'pilot': 3276, 'shooting': 3943, 'korean': 2495, 'war': 4792, 'leave': 2555, 'discovers': 1281, 'falls': 1640, 'racism': 3502, 'conservative': 948, 'cultural': 1078, 'bring': 585, 'relations': 3596, 'romance': 3732, 'racist': 3503, 'standards': 4145, 'musical': 2947, 'song': 4071, 'memory': 2804, 'theatre': 4429, 'lights': 2597, 'anime': 243, 'enjoyed': 1486, 'comic': 893, 'saw': 3798, 'store': 4204, 'decided': 1149, 'chance': 747, 'animation': 242, 'got': 1944, '80s': 59, 'hates': 2048, 'development': 1225, 'brought': 600, 'transition': 4561, 'obviously': 3072, 'paying': 3217, 'tells': 4397, 'used': 4693, 'words': 4938, 'soldier': 4053, 'dark': 1115, 'perfect': 3224, 'cause': 723, 'everyones': 1543, 'favorite': 1671, 'vampire': 4711, 'hunter': 2199, 'team': 4378, 'lee': 2559, 'mentioned': 2811, 'nine': 3017, 'runs': 3757, 'entertainment': 1500, 'mediocre': 2791, 'forbidden': 1785, 'subjects': 4254, 'latter': 2528, 'sad': 3767, 'understand': 4643, 'missing': 2869, 'japanese': 2382, 'girl': 1909, 'guy': 2000, 'run': 3755, 'altogether': 202, 'served': 3894, 'cop': 991, 'vice': 4727, 'whos': 4876, 'explaining': 1588, 'overcome': 3151, 'patient': 3211, 'partner': 3198, 'perry': 3237, 'captured': 677, 'school': 3813, 'stylish': 4251, 'murderous': 2942, 'played': 3297, 'history': 2121, 'expensive': 1579, 'spot': 4131, 'killing': 2472, 'incident': 2260, 'cops': 993, 'terribly': 4408, 'hole': 2132, 'rough': 3741, 'justice': 2438, 'gone': 1935, 'please': 3304, 'stop': 4201, 'carpenter': 694, 'deliberately': 1166, 'reputation': 3640, 'lost': 2660, 'self': 3869, 'respect': 3652, 'looks': 2649, 'beginning': 443, 'talk': 4358, 'somebody': 4062, 'talent': 4354, 'filmmaker': 1719, 'motivation': 2914, 'mr': 2929, 'rest': 3657, 'trash': 4565, 'tradition': 4549, 'escape': 1517, 'la': 2500, 'ghosts': 1903, 'mars': 2746, 'drunk': 1375, 'perhaps': 3235, 'quite': 3495, '90': 60, 'remember': 3616, 'diane': 1238, 'keaton': 2448, 'unfunny': 4655, 'middle': 2833, 'aged': 149, 'chain': 741, 'smoking': 4040, 'dog': 1310, 'mother': 2911, 'suffers': 4278, 'personality': 3242, 'manipulative': 2727, 'melodramatic': 2798, 'childish': 791, 'worst': 4952, 'boring': 543, 'suppose': 4305, 'briefly': 580, 'mention': 2810, 'string': 4227, 'clichés': 846, 'inept': 2281, 'distant': 1295, 'relative': 3599, 'break': 569, 'industry': 2280, 'suffering': 4277, 'somehow': 4063, 'lovable': 2668, 'mild': 2839, 'anymore': 258, 'eventually': 1537, 'dogs': 1311, 'etc': 1527, 'overacting': 3149, 'matter': 2769, 'pictures': 3270, 'prime': 3395, 'attempts': 343, 'physical': 3262, 'dull': 1384, 'gave': 1875, 'endless': 1473, 'dislike': 1288, 'seemed': 3862, 'genuine': 1891, 'slap': 4018, 'awful': 372, 'wallace': 4782, 'side': 3965, 'form': 1798, 'creature': 1045, 'careers': 687, 'conversation': 980, 'removed': 3624, 'context': 968, 'animal': 239, 'went': 4847, 'country': 1014, 'questions': 3489, 'speed': 4103, 'asking': 318, 'lives': 2628, 'answers': 252, 'mundane': 2938, 'animals': 240, 'added': 116, 'person': 3238, 'thin': 4449, 'walking': 4779, 'stick': 4185, 'birds': 485, 'cage': 645, 'stands': 4147, 'saying': 3800, 'legs': 2566, 'television': 4394, 'tired': 4501, 'ordinary': 3128, 'carter': 703, 'seem': 3861, 'catches': 715, 'children': 792, 'batman': 413, '60s': 54, 'jokes': 2415, 'subtle': 4260, 'kids': 2467, 'adults': 126, 'zombie': 4997, 'rent': 3626, 'documentary': 1307, 'hood': 2151, 'laughable': 2530, 'piece': 3272, 'real': 3547, 'winner': 4897, 'flat': 1748, 'paper': 3183, 'officer': 3092, 'drive': 1363, 'tone': 4517, 'cardboard': 682, 'sound': 4081, 'oh': 3096, 'zombies': 4998, 'snake': 4042, 'par': 3184, 'oscar': 3133, 'directing': 1260, 'period': 3236, 'grace': 1950, 'lovely': 2671, 'lines': 2612, 'epic': 1506, 'ice': 2210, 'urban': 4688, 'thriller': 4472, 'hip': 2114, 'hop': 2154, 'songs': 4072, 'hell': 2077, 'living': 2629, 'rented': 3628, 'intention': 2319, 'boy': 557, 'delivered': 1170, 'guys': 2001, 'memorable': 2802, 'horrific': 2166, 'unusual': 4681, 'german': 1896, 'indian': 2274, 'slasher': 4020, 'mixed': 2877, 'sets': 3899, 'inevitably': 2283, 'typically': 4624, 'average': 362, 'crappy': 1032, 'court': 1020, 'disappointed': 1273, 'lots': 2662, 'older': 3101, 'below': 462, 'private': 3404, 'channels': 754, 'soap': 4047, 'opera': 3116, 'glad': 1916, 'caused': 724, 'group': 1980, '1950s': 14, 'ironically': 2356, 'train': 4556, 'painted': 3174, 'underground': 4640, 'play': 3296, 'hanging': 2023, 'march': 2734, '50s': 52, 'students': 4239, 'world': 4946, 'poverty': 3357, 'victim': 4729, 'content': 966, 'lily': 2605, 'genre': 1888, 'sadly': 3769, 'disappeared': 1271, 'reasons': 3560, 'judy': 2426, 'star': 4150, 'wins': 4899, 'van': 4713, 'stock': 4193, 'writers': 4969, 'successful': 4266, 'pride': 3391, 'playing': 3300, 'includes': 2263, 'spring': 4134, 'wonderful': 4928, 'fay': 1674, 'actress': 105, 'theater': 4427, 'designed': 1203, 'dreams': 1355, 'dancing': 1107, 'tale': 4353, 'learning': 2552, 'pushing': 3479, 'discover': 1279, 'joy': 2422, 'bonus': 534, 'fascinating': 1658, 'insight': 2298, 'slowly': 4032, 'changing': 752, 'attitudes': 347, 'modern': 2882, 'japan': 2381, 'contact': 961, 'loud': 2664, 'introduction': 2339, 'contemporary': 965, 'heavy': 2070, 'greatest': 1966, 'eddie': 1416, 'raw': 3532, 'knew': 2486, 'inspiration': 2300, 'realize': 3552, 'everybody': 1540, 'steals': 4172, 'borrowed': 545, 'difference': 1246, 'thoughtful': 4463, 'needed': 2988, 'king': 2479, 'castle': 712, 'built': 618, 'funniest': 1851, 'genius': 1887, 'directors': 1266, 'tight': 4492, 'buried': 624, 'sea': 3838, 'tension': 4404, 'scary': 3807, 'scared': 3805, 'mtv': 2933, 'reviewers': 3678, 'noticed': 3049, 'laughter': 2535, 'chinese': 796, 'totally': 4532, 'facts': 1624, 'explained': 1587, 'cheesy': 781, 'fake': 1635, 'actresses': 106, 'supposedly': 4307, 'receive': 3563, 'rating': 3529, 'disney': 1289, 'information': 2288, 'poor': 3328, 'marty': 2749, 'simon': 3982, 'due': 1382, 'cruel': 1070, 'april': 284, 'stunt': 4245, 'flash': 1745, 'decade': 1144, 'involved': 2346, 'turns': 4609, 'reunion': 3669, 'hiding': 2099, 'closed': 854, 'revenge': 3675, 'pleasure': 3306, 'yet': 4984, 'compelled': 915, 'beer': 439, 'hand': 2015, 'willing': 4889, 'overlook': 3153, 'horrid': 2165, 'hate': 2046, 'kills': 2474, 'eye': 1611, 'candy': 668, 'donna': 1323, 'topless': 4527, 'gratuitous': 1961, 'start': 4156, 'extras': 1608, 'trailer': 4554, 'trailers': 4555, 'bloody': 513, 'monster': 2892, 'dirty': 1268, 'hands': 2020, 'finest': 1730, 'pleased': 3305, 'mini': 2854, 'perfectly': 3226, 'noble': 3021, 'diana': 1237, 'perfection': 3225, 'doomed': 1327, 'captures': 678, 'essence': 1521, 'era': 1513, 'extremely': 1610, 'faithful': 1634, 'cuts': 1091, 'arnold': 296, 'liners': 2611, 'futuristic': 1857, 'tag': 4348, 'says': 3801, 'food': 1778, 'state': 4160, 'aspect': 321, 'running': 3756, 'criminals': 1058, 'forced': 1787, 'survive': 4321, 'opens': 3115, 'ben': 463, 'richards': 3687, 'helicopter': 2076, 'mission': 2870, 'progress': 3425, 'prison': 3401, 'massacre': 2754, 'months': 2897, 'friends': 1837, 'william': 4887, 'zone': 4999, 'led': 2558, 'refuses': 3587, 'convince': 983, 'otherwise': 3137, 'join': 2412, 'hed': 2072, 'rather': 3528, 'apartment': 265, 'knowing': 2490, 'airport': 167, 'damon': 1101, 'dawson': 1128, 'host': 2173, 'sees': 3866, 'footage': 1782, 'capture': 676, 'signs': 3973, 'contract': 973, 'begin': 442, 'zero': 4996, 'joined': 2413, 'caught': 722, 'send': 3875, 'stephen': 4176, 'kings': 2481, 'care': 684, 'anyway': 261, 'doubt': 1332, 'easily': 1406, 'cold': 872, 'boat': 523, 'among': 217, 'besides': 468, 'forget': 1793, 'professor': 3422, 'jim': 2402, 'brown': 601, 'nonsense': 3030, 'bush': 632, 'mostly': 2910, 'meet': 2793, 'managed': 2723, 'garbage': 1870, 'grew': 1972, 'miss': 2866, 'ones': 3108, 'stars': 4155, 'porn': 3336, 'flick': 1754, 'whoever': 4872, 'issues': 2365, 'writer': 4968, 'explain': 1586, 'feature': 1678, 'yeah': 4977, 'emphasis': 1463, 'placed': 3283, 'alcoholic': 177, 'losers': 2656, 'attractive': 351, 'account': 89, 'gay': 1876, 'exact': 1550, 'drunken': 1376, 'subject': 4253, 'technical': 4381, 'view': 4736, 'insane': 2296, 'absurd': 73, 'excited': 1561, 'afraid': 140, 'psycho': 3457, 'represents': 3639, 'considerable': 950, 'within': 4912, 'community': 908, 'correct': 1000, 'festival': 1697, 'places': 3284, 'turkey': 4604, 'thank': 4421, 'goodness': 1938, 'rural': 3758, 'lifestyle': 2593, 'familiar': 1643, 'winter': 4900, 'hunting': 2201, 'easy': 1410, 'granted': 1957, 'grey': 1973, 'credit': 1049, 'nicholson': 3011, 'brosnan': 597, 'portraying': 3343, 'complex': 923, 'large': 2517, 'fall': 1637, 'warm': 4794, 'comfortable': 892, 'eaten': 1412, 'occasion': 3073, 'constant': 957, 'happen': 2026, 'explanation': 1590, 'causing': 726, 'majority': 2712, 'concern': 931, 'knock': 2488, 'carol': 693, 'mel': 2796, 'brooks': 596, 'carry': 700, 'following': 1774, 'light': 2595, 'falling': 1639, 'worse': 4951, 'mystery': 2956, 'science': 3816, '3000': 43, 'infamous': 2284, 'ago': 154, 'friendly': 1836, 'misses': 2868, 'hits': 2125, 'joke': 2414, 'department': 1182, 'lame': 2510, 'skip': 4016, 'kicks': 2463, 'purchased': 3470, 'james': 2378, 'stewart': 4184, 'brings': 587, 'dedicated': 1153, 'fbi': 1675, 'agent': 150, 'portrayal': 3341, 'miles': 2843, 'fear': 1676, 'dangerous': 1110, 'nature': 2975, 'separate': 3883, 'friend': 1835, 'fellow': 1691, 'hamilton': 2012, 'killed': 2469, 'son': 4070, 'mike': 2838, 'carries': 699, 'dignity': 1252, 'sequences': 3888, 'exciting': 1563, 'semi': 3874, 'max': 2774, 'integrity': 2311, 'women': 4923, 'yes': 4982, 'edgar': 1417, 'crimes': 1056, 'weve': 4856, 'second': 3846, 'yesterday': 4983, 'brilliance': 582, 'morning': 2906, 'threw': 4470, 'received': 3564, 'abysmal': 76, 'water': 4816, 'hence': 2083, 'moved': 2922, 'army': 295, 'blake': 498, 'art': 304, 'online': 3109, 'critic': 1061, 'enjoyment': 1488, 'andy': 230, 'understanding': 4645, 'stone': 4197, 'knowledge': 2491, 'shown': 3959, 'bay': 416, 'area': 286, 'local': 2634, 'youve': 4995, 'called': 652, 'jerry': 2396, 'cartoon': 704, 'trick': 4582, 'treat': 4572, 'window': 4894, 'blind': 506, 'shirt': 3937, 'ghost': 1902, 'cartoons': 705, 'listening': 2620, 'program': 3424, 'radio': 3504, 'halfway': 2008, 'hair': 2005, 'standing': 4146, 'throat': 4476, 'happening': 2028, 'laughing': 2533, 'fears': 1677, 'four': 1812, 'attacks': 339, 'shoes': 3941, 'mouse': 2919, 'witty': 4917, 'twenty': 4612, 'speaks': 4096, 'cat': 713, 'million': 2847, 'dollar': 1314, 'dinner': 1254, 'quiet': 3492, 'trap': 4563, 'happy': 2032, 'chuck': 812, 'jones': 2418, 'unnecessary': 4672, 'amount': 219, 'disturbed': 1299, 'believing': 457, 'families': 1644, 'resembles': 3646, 'werewolf': 4850, 'believes': 456, 'found': 1811, 'wolf': 4920, 'intended': 2315, 'psychological': 3458, 'universal': 4665, 'actual': 108, 'supposed': 4306, 'extra': 1606, 'buck': 605, 'concept': 930, 'searching': 3842, 'shes': 3930, 'thrill': 4471, 'attempt': 340, 'scenario': 3808, 'fail': 1625, 'adding': 117, 'realized': 3553, 'breasts': 572, 'psychotic': 3459, 'skill': 4013, 'moments': 2887, 'creepy': 1052, 'moment': 2886, 'ruined': 3751, 'executed': 1565, 'remarkable': 3613, 'virus': 4752, 'loose': 2650, 'survived': 4322, 'rule': 3753, 'land': 2511, 'twelve': 4611, 'monkeys': 2891, 'hide': 2097, 'disease': 1285, 'scientist': 3818, 'created': 1037, 'mere': 2814, 'deaths': 1142, 'began': 441, '1996': 26, 'poster': 3353, 'current': 1084, 'cole': 873, 'bruce': 602, 'willis': 4890, 'asked': 317, 'figure': 1711, 'machine': 2693, 'traveling': 4568, 'forth': 1804, 'mess': 2818, 'higher': 2101, 'personally': 3243, 'expecting': 1578, 'opinion': 3118, 'acts': 107, 'brad': 560, 'pitt': 3280, 'cared': 685, 'till': 4493, 'club': 863, 'checking': 778, 'fiction': 1702, 'masterpiece': 2759, 'paris': 3189, 'expectations': 1576, 'walked': 4776, 'met': 2822, 'sweet': 4336, 'fast': 1661, 'paced': 3162, 'cooper': 990, 'justin': 2440, 'amazing': 209, 'features': 1680, 'hotel': 2175, 'maker': 2714, 'prom': 3429, 'directorial': 1265, 'debut': 1143, 'ethan': 1528, 'maggie': 2702, 'indie': 2276, 'famous': 1647, 'dramatic': 1348, 'plain': 3286, 'entertained': 1498, 'color': 877, 'purple': 3473, 'struggles': 4235, 'strongly': 4231, 'affected': 137, 'touches': 4535, 'triumph': 4590, 'whether': 4866, 'lived': 2626, 'sister': 4001, 'coming': 896, 'albert': 174, 'sign': 3970, 'crew': 1053, 'bored': 541, 'feed': 1683, 'robot': 3717, 'towards': 4540, 'bomb': 531, 'naturally': 2974, 'stays': 4169, 'rental': 3627, 'equipment': 1511, 'errors': 1516, 'credibility': 1047, '2004': 34, 'attack': 337, 'unlikely': 4671, 'range': 3516, 'bullet': 620, 'reach': 3536, 'target': 4366, 'areas': 287, 'base': 402, 'desert': 1198, 'oil': 3097, 'stated': 4161, 'occurred': 3077, 'green': 1971, 'highly': 2105, 'experienced': 1581, 'portrayed': 3342, 'warren': 4801, 'oddly': 3081, 'ridiculous': 3693, 'thus': 4486, 'setting': 3900, 'attempted': 341, 'speaking': 4095, 'depicted': 1183, 'buildings': 616, 'chasing': 772, 'dozens': 1339, 'soldiers': 4054, 'viewer': 4738, 'size': 4012, 'relation': 3595, 'nor': 3032, 'surprises': 4314, 'psychiatrist': 3455, 'colonel': 876, 'move': 2921, 'overwhelming': 3157, 'driver': 1366, 'vehicle': 4718, 'troubled': 4593, 'whats': 4860, 'indeed': 2271, 'sorry': 4076, 'generation': 1883, 'hbo': 2055, 'creatures': 1046, 'suck': 4269, 'order': 3126, 'energy': 1478, 'supernatural': 4302, 'abilities': 64, 'become': 433, 'invisible': 2344, 'fool': 1779, 'humans': 2190, 'picked': 3266, 'arrive': 300, 'town': 4541, 'sends': 3876, 'virgin': 4749, 'proceeds': 3411, 'alone': 194, 'dry': 1377, 'cannot': 670, 'seek': 3858, 'herself': 2092, 'teenage': 4389, 'boys': 559, 'follow': 1772, 'teen': 4388, 'fights': 1710, 'ear': 1397, 'hunt': 2198, 'sick': 3963, 'hurt': 2202, 'painfully': 3172, 'alice': 182, 'showcase': 3954, 'mildly': 2840, 'camp': 662, 'allows': 192, 'hysterical': 2208, 'amusing': 221, 'cameo': 657, 'mark': 2739, 'interested': 2324, 'british': 589, 'seventies': 3904, 'breaking': 570, 'glass': 1917, 'womans': 4922, 'quest': 3486, 'social': 4049, 'culture': 1079, 'punk': 3468, 'pretentious': 3383, 'fashion': 1659, 'styles': 4250, 'daily': 1097, 'britain': 588, '1980': 20, 'personal': 3240, 'landscape': 2513, 'jean': 2389, 'career': 686, 'prize': 3405, 'question': 3487, 'civilization': 827, 'argument': 291, 'common': 906, 'french': 1830, 'society': 4050, 'identity': 2217, 'construction': 960, 'freedom': 1828, 'criminal': 1057, 'treated': 4573, 'rules': 3754, 'france': 1816, 'rate': 3526, 'romantic': 3733, 'steve': 4181, 'call': 651, 'mean': 2779, 'nasty': 2968, 'straight': 4210, 'crocodile': 1065, 'genuinely': 1892, 'matt': 2768, 'tiny': 4500, 'cousin': 1021, 'blonde': 511, 'welcome': 4842, 'must': 2950, 'striking': 4226, 'similarities': 3979, 'eric': 1514, 'favourite': 1673, 'itll': 2369, 'foot': 1781, 'appropriate': 283, 'kidding': 2465, 'desperate': 1208, 'grows': 1985, 'pot': 3354, 'situation': 4008, 'variety': 4714, 'serves': 3895, 'brenda': 575, 'lead': 2545, 'messages': 2820, 'prefer': 3368, 'law': 2538, 'typical': 4623, 'medical': 2790, 'doctor': 1304, 'hello': 2078, 'uk': 4626, 'europe': 1529, 'general': 1880, 'hey': 2095, 'morality': 2903, 'timothy': 4499, 'message': 2819, 'comedies': 889, 'depiction': 1185, 'parent': 3187, 'brothers': 599, 'fathers': 1667, 'sisters': 4002, 'surprised': 4313, 'eg': 1434, 'humour': 2194, 'hitting': 2126, 'avoided': 364, 'tragic': 4552, 'ritter': 3705, 'paul': 3214, 'mountains': 2918, 'woods': 4935, 'witness': 4914, 'dialog': 1232, 'tied': 4489, 'deep': 1154, 'maybe': 2776, 'ill': 2228, 'core': 995, 'dollars': 1315, 'dentist': 1180, 'ask': 316, 'root': 3737, 'previous': 3387, 'pain': 3170, 'wonder': 4926, 'childhood': 790, 'former': 1800, 'inside': 2297, 'creator': 1043, 'centered': 733, 'madness': 2698, 'alex': 179, 'bone': 533, 'boyfriend': 558, 'theyre': 4445, 'funeral': 1849, 'closer': 856, 'pregnant': 3369, 'mans': 2730, 'lover': 2672, 'ways': 4822, 'throws': 4482, 'grave': 1962, 'tea': 4373, 'gender': 1878, 'sun': 4292, 'rise': 3702, 'lab': 2501, 'suggest': 4280, 'shall': 3916, 'future': 1856, 'scientists': 3819, 'spread': 4133, 'assistant': 326, 'revealed': 3671, 'biggest': 480, 'surprise': 4312, 'flawed': 1750, 'expected': 1577, 'brand': 565, 'trip': 4588, 'sounds': 4084, 'disaster': 1276, 'orders': 3127, 'handful': 2017, 'remaining': 3610, 'captain': 674, 'cary': 706, 'false': 1641, 'ship': 3934, 'conflicts': 940, 'commercial': 902, 'touch': 4533, '2001': 31, 'titanic': 4503, 'generally': 1881, 'acted': 98, 'frequently': 1832, 'sci': 3815, 'fi': 1701, 'channel': 753, 'tend': 4400, 'opposed': 3122, 'display': 1291, 'youd': 4987, 'likely': 2601, 'recognize': 3569, 'cgi': 740, 'minimal': 2855, 'lacking': 2504, 'ends': 1474, 'rolling': 3730, 'floor': 1759, 'scale': 3802, 'specifically': 4100, 'judge': 2424, 'shame': 3918, 'quality': 3484, 'bought': 552, 'bargain': 400, 'bin': 483, 'rogers': 3725, 'figured': 1712, 'looked': 2647, 'cliche': 843, '1970s': 17, '45': 50, 'warned': 4798, 'ad': 110, 'magazine': 2701, 'curiosity': 1082, 'der': 1191, 'unique': 4662, 'approach': 282, 'viewers': 4739, 'depicting': 1184, 'enemy': 1477, 'dying': 1393, 'whatever': 4859, 'moral': 2902, 'dear': 1140, 'juvenile': 2441, 'grasp': 1960, 'forever': 1792, 'exploitation': 1592, 'grow': 1982, 'pre': 3365, 'tales': 4357, 'choose': 799, 'regard': 3588, 'remain': 3609, 'hat': 2045, 'terms': 4406, 'meaning': 2780, 'hated': 2047, 'uwe': 4703, '25': 40, 'compared': 912, 'theyve': 4446, 'fancy': 1649, 'expert': 1585, 'took': 4523, 'boll': 529, 'cake': 648, 'corner': 996, 'trek': 4578, 'board': 522, 'notice': 3048, 'regardless': 3590, 'crazy': 1035, 'standard': 4144, 'response': 3654, 'cards': 683, 'lousy': 2667, 'travel': 4567, 'wound': 4960, 'dumb': 1385, 'campy': 664, 'pick': 3265, 'learned': 2551, 'commentary': 899, 'charm': 767, 'frame': 1815, 'suit': 4284, 'wears': 4832, 'considered': 951, 'lifetime': 2594, 'favorites': 1672, 'chances': 748, 'marvelous': 2750, 'jr': 2423, 'wonderfully': 4929, 'facial': 1619, 'expressions': 1603, 'compare': 911, 'chaplin': 756, 'normally': 3034, 'warn': 4797, 'wasting': 4810, 'finished': 1733, 'values': 4710, 'purposes': 3475, 'grand': 1953, 'total': 4531, 'occurs': 3078, 'reasonably': 3559, 'disturbing': 1300, 'impossible': 2249, 'spare': 4093, 'girls': 1911, 'isolated': 2363, 'murdered': 2940, 'whom': 4875, 'murders': 2943, 'buy': 640, 'fooled': 1780, 'carl': 692, 'dracula': 1341, 'frankenstein': 1822, 'mummy': 2937, 'crap': 1031, 'perspective': 3245, 'monsters': 2893, 'duke': 1383, 'eastwood': 1409, 'harry': 2039, 'guest': 1992, 'spite': 4117, 'danger': 1109, 'pursuit': 3476, 'came': 656, 'unlike': 4670, 'neck': 2985, 'jail': 2376, 'faults': 1669, 'taste': 4369, 'wit': 4908, 'yellow': 4981, 'fictional': 1703, 'hero': 2088, 'thanks': 4423, 'toilet': 4512, 'foul': 1810, 'language': 2516, 'kicking': 2462, 'appeal': 271, 'lowest': 2678, 'occasional': 3074, 'becoming': 435, 'dream': 1354, '1940s': 13, 'capable': 672, 'grant': 1956, 'decide': 1148, 'build': 614, 'follows': 1775, 'watches': 4814, 'control': 977, 'stolen': 4195, 'wise': 4903, 'attorney': 348, 'steal': 4170, 'crisis': 1060, 'building': 615, 'warming': 4795, 'distribution': 1298, 'member': 2800, 'natural': 2973, 'aids': 161, 'leo': 2571, 'explore': 1594, 'spend': 4105, 'surviving': 4323, 'drugs': 1374, 'ludicrous': 2685, 'offers': 3090, 'hippie': 2115, 'shell': 3927, 'innocent': 2294, 'age': 148, 'naive': 2958, 'kay': 2447, 'drinking': 1362, 'superficial': 4298, 'keeps': 2451, 'loves': 2674, 'quick': 3490, 'ticket': 4487, 'disgusting': 1286, 'inspired': 2301, 'corny': 997, 'offering': 3089, '70s': 56, 'critics': 1064, 'force': 1786, 'skills': 4014, 'charisma': 762, 'luck': 2681, 'jackson': 2375, 'leads': 2548, 'bringing': 586, 'sitting': 4007, 'seemingly': 3863, 'encounter': 1466, 'security': 3854, 'learn': 2550, 'field': 1704, 'wild': 4885, 'chase': 769, 'post': 3352, 'manager': 2724, 'sneak': 4043, 'leaving': 2557, 'parties': 3196, 'threatening': 4468, 'stuck': 4237, 'buffs': 612, 'wanting': 4790, 'contained': 963, 'timing': 4498, 'comical': 894, 'viewing': 4740, 'frightening': 1839, 'advice': 133, 'renting': 3629, 'dubbed': 1379, 'onto': 3111, 'wasted': 4809, '50': 51, 'ourselves': 3140, 'junk': 2436, 'remotely': 3623, 'redeeming': 3577, 'awkward': 374, 'planet': 3289, 'dude': 1381, 'photos': 3261, 'parody': 3192, 'kevin': 2457, 'stereotypical': 4180, 'originality': 3130, 'premise': 3370, 'david': 1124, 'performed': 3230, 'exceptional': 1558, 'spirit': 4113, 'closest': 857, 'orson': 3132, 'welles': 4844, 'citizen': 824, 'kane': 2442, 'cinematography': 820, 'unforgettable': 4652, 'pieces': 3273, 'featuring': 1681, 'stunning': 4244, 'singing': 3995, 'hall': 2009, 'gorgeous': 1942, 'compelling': 916, 'twists': 4619, 'closing': 859, 'format': 1799, 'assault': 324, 'ready': 3546, 'rape': 3521, 'fantasy': 1652, 'upper': 4685, 'unpleasant': 4674, 'narrative': 2966, 'relies': 3606, 'credits': 1050, 'overly': 3155, 'bugs': 613, 'result': 3660, 'provided': 3449, 'brooklyn': 595, 'jimmy': 2403, 'shy': 3962, 'pet': 3246, 'obnoxious': 3067, 'turning': 4608, 'pretending': 3382, 'master': 2757, 'repeatedly': 3632, 'shower': 3957, 'whenever': 4863, 'bed': 436, 'laughed': 2532, 'giving': 1915, 'mental': 2808, 'rabbit': 3498, 'sally': 3776, 'written': 4972, 'bergman': 466, 'vegas': 4717, 'wall': 4781, 'beats': 426, 'talented': 4355, 'cook': 988, 'painful': 3171, 'spent': 4108, 'table': 4346, 'network': 3000, 'honestly': 2147, 'passes': 3203, 'violence': 4747, 'sexual': 3908, 'alcohol': 176, 'abuse': 74, 'parents': 3188, 'african': 142, 'americans': 214, 'fat': 1663, 'keeping': 2450, 'loving': 2675, 'prisoner': 3402, 'neighborhood': 2993, 'teach': 4374, 'teens': 4392, 'faces': 1618, 'adult': 125, 'contrived': 976, 'ignorant': 2223, 'material': 2766, 'childrens': 793, 'minds': 2852, 'spielberg': 4110, 'defense': 1159, 'ginger': 1908, 'miscast': 2862, 'picture': 3269, 'heroine': 2091, 'fred': 1825, 'astaire': 330, 'george': 1893, 'allen': 188, 'top': 4525, 'fit': 1740, 'dance': 1103, 'routine': 3743, 'won': 4925, 'inventive': 2341, 'highlight': 2103, 'stale': 4141, 'situations': 4009, 'occur': 3076, 'conventional': 979, 'treatment': 4574, 'pleasant': 3302, 'tunes': 4603, 'deserve': 1199, 'polished': 3323, 'mistaken': 2872, 'remind': 3618, 'surprisingly': 4316, 'stevens': 4183, 'number': 3060, 'distance': 1294, 'clever': 841, 'sensitive': 3879, 'quirky': 3493, 'deserved': 1200, 'england': 1482, 'market': 2740, 'southern': 4088, 'sophisticated': 4075, 'dreary': 1356, 'drink': 1361, 'fashioned': 1660, 'party': 3200, 'village': 4743, 'working': 4944, 'brief': 579, 'remarks': 3615, 'sing': 3992, 'alien': 183, 'recognized': 3570, 'summer': 4291, 'cars': 702, 'cities': 823, 'notion': 3050, 'lust': 2689, 'male': 2719, 'apparent': 269, 'none': 3028, 'existed': 1570, 'shines': 3932, 'subplot': 4255, 'unrealistic': 4677, 'lighting': 2596, 'credible': 1048, 'incredible': 2269, 'drawn': 1351, 'draw': 1349, 'belief': 451, 'addition': 118, 'united': 4664, 'states': 4163, 'cia': 814, 'national': 2970, 'stereotype': 4178, 'satisfying': 3791, 'meat': 2787, 'downright': 1337, 'telling': 4396, 'religious': 3608, 'faith': 1633, 'monk': 2889, 'lonely': 2643, 'superior': 4300, 'died': 1244, 'sits': 4006, 'opposite': 3123, 'mysterious': 2955, 'sentimental': 3882, 'surreal': 4317, 'extreme': 1609, 'horses': 2171, 'figures': 1713, 'sky': 4017, 'nicely': 3009, 'suits': 4287, 'handsome': 2021, 'except': 1556, 'surely': 4309, 'gritty': 1977, 'killings': 2473, 'captivating': 675, 'evident': 1547, 'dubbing': 1380, 'li': 2587, 'martial': 2747, 'artist': 307, 'jackie': 2374, 'chan': 746, 'nelson': 2997, '3rd': 47, 'cabin': 643, 'lake': 2509, 'villains': 4745, 'horrors': 2169, 'guessing': 1991, 'chilling': 794, 'michael': 2829, 'caine': 647, 'christopher': 811, 'pulled': 3462, 'scare': 3803, 'outcome': 3142, 'write': 4967, 'lets': 2580, 'jealous': 2388, 'latest': 2526, 'failed': 1626, 'miserably': 2864, 'solve': 4060, 'games': 1865, 'brilliantly': 584, 'dynamic': 1394, 'anybody': 257, 'succeed': 4262, 'vague': 4705, 'historical': 2119, 'imagery': 2234, 'section': 3853, 'independent': 2272, 'laws': 2540, 'explosion': 1596, 'forgotten': 1797, 'unexpected': 4650, 'opportunity': 3121, 'stanley': 4148, 'worlds': 4947, 'nations': 2971, 'margaret': 2735, 'delight': 1167, 'sides': 3967, 'include': 2261, 'wayne': 4821, 'artistic': 308, 'hot': 2174, 'sexy': 3911, 'china': 795, 'upset': 4687, 'roots': 3738, 'dad': 1095, 'sheriff': 3929, 'changed': 750, 'gangsters': 1869, 'started': 4157, 'tricks': 4583, 'strikes': 4225, 'conclusion': 936, 'touching': 4536, 'adventure': 130, 'un': 4630, 'los': 2653, 'angeles': 233, 'goal': 1925, 'ride': 3692, 'journey': 2421, 'gang': 1867, 'west': 4852, 'air': 164, 'swim': 4337, 'ocean': 3079, 'visit': 4755, 'filmmakers': 1720, 'connection': 946, 'dvds': 1392, '17': 9, 'copies': 992, 'agree': 155, 'quote': 3496, 'hearts': 2066, 'military': 2844, 'thomas': 4458, 'billy': 482, 'phantom': 3251, 'miller': 2846, 'flying': 1764, 'vs': 4767, 'politics': 3326, 'aside': 315, 'pro': 3406, 'copy': 994, 'iraq': 2351, 'responsible': 3656, 'somewhere': 4069, 'deal': 1135, 'trade': 4547, 'hopes': 2159, 'irony': 2357, 'imdb': 2240, 'source': 4086, 'sum': 4289, 'proud': 3444, 'owner': 3159, 'degree': 1164, 'torn': 4528, 'gruesome': 1986, 'comedic': 888, 'inappropriate': 2259, 'jaws': 2385, 'realism': 3549, 'trilogy': 4586, 'subtlety': 4261, 'believable': 453, 'cliché': 844, 'unbelievably': 4635, 'feelings': 1686, 'luckily': 2682, 'wreck': 4965, 'celluloid': 731, 'study': 4242, 'lucky': 2683, 'rings': 3699, 'twice': 4613, 'rights': 3697, 'resulting': 3661, 'casting': 711, 'noir': 3023, 'complaint': 920, 'accident': 84, 'sleep': 4024, 'wouldve': 4959, 'reaction': 3541, 'interaction': 2322, 'non': 3027, 'hearing': 2063, 'praise': 3364, 'heaven': 2068, 'bill': 481, 'universe': 4666, 'widely': 4881, 'backgrounds': 381, 'everyday': 1541, 'disjointed': 1287, 'abandoned': 62, 'thugs': 4484, 'events': 1536, 'generous': 1886, 'helping': 2081, 'notes': 3046, 'experiences': 1582, 'edge': 1418, 'rocks': 3722, 'opened': 3113, 'ground': 1979, 'rage': 3505, 'creates': 1038, 'shallow': 3917, 'uninspired': 4657, 'satisfied': 3789, 'revelation': 3674, 'eager': 1396, 'mistake': 2871, 'heres': 2087, 'hopeless': 2158, 'dreadful': 1353, 'stunts': 4246, 'existent': 1572, 'continuity': 972, 'educational': 1425, 'unknown': 4668, 'female': 1693, 'narrator': 2967, 'pass': 3201, 'rare': 3523, 'sticks': 4186, 'accepted': 82, 'ted': 4386, 'spoiler': 4123, 'todays': 4509, 'matrix': 2767, 'catch': 714, 'smart': 4035, 'pull': 3461, 'hatred': 2049, 'lesser': 2576, 'angles': 237, 'roy': 3745, 'recall': 3562, 'choices': 798, 'clue': 864, 'ironic': 2355, 'comedian': 887, 'daring': 1114, 'incredibly': 2270, 'butt': 638, 'analysis': 224, 'concerns': 934, 'giant': 1905, 'frankly': 1823, 'quit': 3494, 'carefully': 689, 'builds': 617, 'wrap': 4963, 'finish': 1732, 'leonard': 2572, 'trust': 4598, 'available': 361, '60': 53, 'utterly': 4702, 'adventures': 131, 'comment': 898, 'regret': 3591, 'unwatchable': 4682, 'qualities': 3483, 'whatsoever': 4861, 'hung': 2197, 'magic': 2703, 'mountain': 2917, 'warriors': 4803, 'eastern': 1408, 'crime': 1055, 'slapstick': 4019, 'legend': 2564, 'represented': 3638, 'vast': 4716, 'possibilities': 3348, 'alike': 185, 'colors': 879, 'instant': 2305, 'instantly': 2306, 'deeper': 1155, 'summary': 4290, 'disagree': 1269, 'california': 650, 'guide': 1993, 'matthew': 2772, 'jennifer': 2392, 'chemistry': 782, 'button': 639, 'edition': 1422, 'golden': 1934, 'river': 3707, 'ahead': 159, 'guns': 1998, 'hire': 2116, 'implausible': 2245, 'countless': 1012, 'bullets': 621, 'strike': 4224, 'alas': 172, 'currently': 1085, 'homage': 2141, 'westerns': 4854, 'albeit': 173, 'western': 4853, 'lacks': 2505, 'mile': 2842, 'changes': 751, 'south': 4087, 'street': 4216, 'enemies': 1476, 'ultimately': 4628, 'emotionally': 1460, 'driven': 1365, 'revolves': 3682, 'personalities': 3241, 'detailed': 1218, 'spectacular': 4101, 'conspiracy': 956, 'joey': 2408, 'ex': 1549, 'colorful': 878, 'treats': 4575, 'accidentally': 85, 'absolute': 71, 'faster': 1662, 'swedish': 4335, 'pays': 3218, 'russian': 3762, 'arrived': 301, 'continues': 971, 'ninja': 3018, 'practice': 3363, 'feeling': 1685, 'smoke': 4039, 'thousands': 4466, 'snow': 4045, 'fighting': 1709, 'choreographed': 801, 'arts': 310, 'combat': 882, 'describe': 1194, 'bang': 393, 'amounts': 220, 'therefore': 4439, 'accents': 79, 'generic': 1885, 'details': 1219, 'filming': 1718, 'resemblance': 3645, 'creators': 1044, 'paid': 3169, 'plots': 3310, 'artificial': 306, 'listed': 2618, 'produce': 3413, 'vengeance': 4719, 'college': 875, 'baseball': 403, 'jerk': 2395, 'ashamed': 312, 'shorts': 3948, 'value': 4709, 'exception': 1557, 'vision': 4754, 'appreciate': 279, 'charlie': 765, 'parker': 3191, 'pity': 3281, 'share': 3920, 'mary': 2751, 'ellen': 1446, 'escaped': 1518, 'dressed': 1358, 'santa': 3783, 'larry': 2520, 'husbands': 2205, 'corpse': 999, 'closet': 858, 'involving': 2349, 'cheating': 776, 'essentially': 1523, 'safe': 3771, 'refreshing': 3586, 'highlights': 2104, 'elvira': 1450, 'anyways': 262, 'flicks': 1755, 'battle': 414, 'boredom': 542, 'appearances': 275, 'accused': 91, 'murderer': 2941, '18': 10, 'sole': 4055, 'pure': 3471, 'buddies': 608, 'results': 3662, 'research': 3644, 'suited': 4286, 'beat': 423, 'killers': 2471, 'hollow': 2135, 'surprising': 4315, 'reduced': 3579, 'barely': 399, 'visual': 4757, '30': 42, 'franco': 1820, 'enter': 1494, 'balls': 390, 'hasnt': 2044, 'catching': 716, 'terrorist': 4413, 'advantage': 129, 'actions': 101, 'watchable': 4812, 'impressed': 2251, 'digital': 1251, 'quotes': 3497, 'foreign': 1790, 'subtitles': 4259, 'chose': 804, 'reflect': 3584, 'thoughts': 4464, 'emotions': 1461, 'intellectual': 2312, 'anti': 254, 'speak': 4094, 'noise': 3024, 'segment': 3867, 'suicide': 4283, 'fair': 1630, 'seeking': 3859, 'intense': 2316, 'sadness': 3770, 'inspiring': 2302, 'committed': 905, 'muslim': 2949, 'wake': 4774, 'media': 2789, 'brave': 567, 'reviewer': 3677, 'loss': 2659, 'gold': 1932, 'greater': 1965, 'success': 4265, 'cinemas': 817, 'countryside': 1015, 'eyed': 1612, 'comparison': 914, 'finale': 1723, 'extent': 1605, 'merits': 2817, 'stereotypes': 4179, 'humble': 2191, 'rising': 3703, 'silence': 3974, 'simmons': 3981, 'nose': 3037, 'ingredients': 2289, 'weekend': 4838, 'holding': 2130, 'excuse': 1564, 'stan': 4142, 'contest': 967, 'surrounding': 4319, 'tender': 4401, 'youth': 4994, 'return': 3665, 'wet': 4855, 'bell': 458, 'activities': 102, 'ensemble': 1492, 'dimensional': 1253, 'scenery': 3810, 'bright': 581, 'noted': 3045, 'sounded': 4082, 'sat': 3786, 'chris': 806, 'loser': 2655, 'newspaper': 3006, 'kate': 2446, 'step': 4175, 'thankfully': 4422, 'blah': 496, 'uncle': 4636, 'pie': 3271, 'september': 3884, 'concerning': 933, 'broken': 594, 'mgm': 2828, 'gordon': 1940, 'code': 869, 'allowed': 190, 'office': 3091, 'official': 3094, 'ms': 2931, 'adequate': 120, '1980s': 21, 'map': 2733, 'mall': 2720, 'differences': 1247, 'versions': 4721, 'trial': 4580, 'hong': 2149, 'kong': 2494, 'choreography': 802, 'audiences': 353, 'detective': 1220, 'godfather': 1927, 'assigned': 325, 'protect': 3443, 'arguably': 289, 'lately': 2524, 'super': 4295, 'poetic': 3313, 'explosions': 1597, 'asian': 314, 'notch': 3043, 'kudos': 2497, 'notorious': 3051, 'grim': 1974, 'henry': 2084, 'receives': 3565, 'ensues': 1493, 'agents': 151, 'terrorists': 4414, 'delivers': 1172, 'funnier': 1850, 'academy': 77, 'berlin': 467, 'tim': 4494, 'shake': 3914, 'christian': 808, 'millions': 2848, 'detail': 1217, 'news': 3005, 'afford': 138, 'christ': 807, 'church': 813, 'earth': 1403, 'junior': 2435, 'intriguing': 2335, 'thoroughly': 4459, 'holy': 2140, 'dolph': 1317, 'potential': 3355, 'investigate': 2342, 'witnesses': 4916, 'widow': 4883, 'negative': 2991, 'victor': 4731, 'accent': 78, 'closely': 855, 'ridiculously': 3694, 'wilson': 4891, 'anthony': 253, 'cult': 1077, 'crush': 1072, 'struggle': 4234, 'motivations': 2915, 'eight': 1436, 'ages': 152, 'associated': 327, 'broad': 590, 'forms': 1801, 'understood': 4647, 'indians': 2275, 'vulnerable': 4768, 'eccentric': 1414, 'possibility': 3349, 'spiritual': 4116, 'loyal': 2679, 'sidekick': 3966, 'convincingly': 986, 'gangster': 1868, 'structure': 4233, 'tough': 4537, 'dress': 1357, 'cup': 1080, 'match': 2762, 'iran': 2350, 'remains': 3611, 'prisoners': 3403, 'mirror': 2861, 'presents': 3377, 'circle': 821, 'outside': 3146, 'soccer': 4048, 'shed': 3924, 'tear': 4379, 'creation': 1040, 'gift': 1906, 'precious': 3366, 'memories': 2803, 'individuals': 2278, 'gabriel': 1859, 'africa': 141, 'omen': 3104, 'commented': 900, 'idiot': 2218, 'endings': 1472, 'depression': 1189, 'consistently': 954, 'cable': 644, 'suitable': 4285, 'younger': 4990, 'print': 3399, 'unfortunate': 4653, 'technology': 4385, '30s': 44, '40s': 49, 'realise': 3548, 'communist': 907, 'revolution': 3680, 'desire': 1205, 'poignant': 3315, 'corruption': 1002, 'kingdom': 2480, 'whilst': 4869, 'dated': 1119, 'threat': 4467, 'divorce': 1301, 'classics': 837, 'friday': 1834, 'presence': 3373, 'feminist': 1695, 'passion': 3205, 'ward': 4793, 'taylor': 4372, 'bathroom': 412, 'speech': 4102, 'performer': 3231, 'fairly': 1631, 'theory': 4437, 'charlotte': 766, 'ease': 1404, 'describes': 1196, 'anger': 235, 'distracting': 1297, 'narration': 2965, 'delivering': 1171, 'glorious': 1921, 'irrelevant': 2358, 'aging': 153, 'professional': 3421, 'classical': 836, 'queen': 3485, 'belongs': 460, 'combine': 884, 'suffered': 4276, 'unconvincing': 4638, 'bridge': 578, 'intentions': 2321, 'allow': 189, 'elaborate': 1439, 'mickey': 2831, 'walken': 4777, 'jumped': 2430, 'tune': 4602, 'cutting': 1092, 'repetitive': 3633, 'fourth': 1813, 'makeup': 2717, 'princess': 3397, 'paint': 3173, 'singers': 3994, 'artists': 309, 'weight': 4840, 'produced': 3414, 'product': 3418, 'commercials': 903, 'helped': 2080, 'improve': 2254, 'lyrics': 2692, 'seconds': 3848, 'thirty': 4456, 'sport': 4129, 'fascinated': 1657, 'surfing': 4311, 'riding': 3695, 'plenty': 3307, 'waves': 4819, 'ridden': 3691, 'method': 2824, 'wave': 4818, 'montage': 2894, 'clips': 852, 'equally': 1510, 'achieve': 92, 'mix': 2876, 'acid': 95, 'clip': 851, 'motion': 2913, 'valley': 4707, 'pants': 3182, 'drag': 1342, 'tremendous': 4579, 'interviews': 2330, 'laid': 2508, 'jeff': 2390, 'clark': 832, '3d': 46, 'shine': 3931, 'basketball': 409, 'meeting': 2794, 'touched': 4534, 'roll': 3728, 'hint': 2112, 'magnificent': 2705, 'rock': 3720, 'newly': 3004, 'hundred': 2195, 'babe': 375, 'wars': 4804, 'century': 736, 'ruins': 3752, 'creative': 1041, 'medium': 2792, 'wonders': 4931, 'political': 3324, 'hollywoods': 2138, '80': 58, 'greed': 1968, 'factory': 1623, 'workers': 4943, 'clothing': 861, 'louis': 2665, 'ideas': 2215, 'le': 2544, 'cinematographer': 819, '2002': 32, 'voiced': 4762, 'screams': 3828, 'ray': 3533, 'raymond': 3534, 'sid': 3964, 'tiger': 4491, 'cave': 727, 'orange': 3125, 'meanwhile': 2785, 'nearby': 2980, 'leader': 2546, 'pack': 3165, 'stealing': 4171, 'alan': 171, 'attacked': 338, 'pit': 3278, 'frank': 1821, 'gags': 1862, 'instance': 2304, 'talks': 4361, 'asks': 319, 'jump': 2429, 'gene': 1879, 'pool': 3327, 'breath': 573, 'dawn': 1127, 'dinosaurs': 1256, 'concerned': 932, 'amateurish': 207, 'solely': 4056, 'insult': 2309, 'visible': 4753, 'blatant': 502, 'bud': 607, 'dragged': 1343, 'relate': 3593, 'react': 3540, 'buddy': 609, 'smiling': 4037, 'christmas': 810, 'harsh': 2040, 'peter': 3247, 'falk': 1636, 'entirely': 1503, 'efforts': 1433, 'poorly': 3329, 'torture': 4529, 'cringe': 1059, 'lord': 2652, 'saving': 3797, 'necessarily': 2983, 'costumes': 1006, 'aired': 165, 'aka': 168, 'catholic': 720, 'views': 4742, 'pages': 3168, 'library': 2589, 'secrets': 3852, 'cd': 728, 'treasure': 4571, 'month': 2896, 'six': 4010, 'covers': 1024, 'regular': 3592, 'nevertheless': 3002, 'cares': 690, 'dies': 1245, 'lees': 2560, 'underrated': 4642, 'protagonists': 3442, 'likes': 2602, 'edward': 1426, 'per': 3223, 'menace': 2806, 'ed': 1415, 'device': 1227, 'record': 3573, 'physically': 3263, 'mothers': 2912, 'surface': 4310, 'calm': 655, 'significant': 3972, 'intentionally': 2320, 'betty': 474, 'saves': 3796, 'fighter': 1708, 'sake': 3775, 'experiment': 1583, 'picking': 3267, 'kick': 2460, 'repeat': 3630, 'iron': 2354, 'text': 4419, 'statement': 4162, 'blank': 501, 'sunday': 4293, 'stargate': 4151, 'broadcast': 591, 'spin': 4112, 'starring': 4154, 'kurt': 2499, 'russell': 3761, 'seasons': 3844, 'originally': 3131, 'starred': 4153, 'dean': 1139, 'daniel': 1111, 'amanda': 205, 'rebel': 3561, 'claimed': 829, 'resident': 3647, 'returned': 3666, 'appearance': 274, 'afterwards': 145, 'carried': 698, 'cameron': 661, 'mitchell': 2875, 'con': 928, 'legendary': 2565, 'hank': 2024, 'alongside': 196, 'valuable': 4708, 'franchise': 1817, 'initial': 2290, 'dropped': 1370, '13': 4, '2007': 37, 'gods': 1928, 'ireland': 2352, 'popularity': 3334, 'countries': 1013, 'atlantis': 332, 'planned': 3290, 'ran': 3513, 'gain': 1863, 'recognition': 3568, 'confidence': 938, 'continue': 969, 'progresses': 3426, 'encounters': 1467, 'international': 2326, 'theatrical': 4430, 'execution': 1566, 'amazingly': 210, 'bride': 577, 'sword': 4340, 'crafted': 1029, 'painting': 3175, 'breathtaking': 574, 'worn': 4948, 'temple': 4398, 'filled': 1715, 'design': 1202, 'highest': 2102, 'sequence': 3887, 'mixture': 2878, 'traditional': 4550, 'shining': 3933, 'leslie': 2574, 'singer': 3993, 'innocence': 2293, 'veteran': 4724, 'crude': 1069, 'gag': 1861, 'vicious': 4728, 'heads': 2059, 'spirits': 4115, 'tongue': 4518, 'victims': 4730, 'kiss': 2483, 'glory': 1922, 'shoots': 3944, 'forest': 1791, 'trees': 4577, 'throwing': 4480, 'split': 4120, 'reveal': 3670, 'mouth': 2920, 'outrageous': 3145, 'adds': 119, 'packed': 3166, 'visuals': 4759, 'pulls': 3464, 'territory': 4411, 'gary': 1873, 'recent': 3566, 'cruise': 1071, 'johnny': 2410, 'garbo': 1871, 'kelly': 2452, 'julie': 2428, 'streep': 4215, 'roberts': 3714, 'popcorn': 3331, 'furthermore': 1854, 'cannibal': 669, 'defend': 1158, 'controversial': 978, 'user': 4696, 'pig': 3274, 'devils': 1229, 'stinker': 4191, 'recommended': 3572, 'status': 4165, 'pile': 3275, 'shocking': 3940, 'disbelief': 1277, 'tortured': 4530, 'enjoys': 1489, 'enormous': 1490, 'existence': 1571, 'nobody': 3022, 'flesh': 1753, 'dick': 1239, 'tracy': 4546, 'beatty': 427, 'madonna': 2699, 'pacino': 3164, 'ruthless': 3764, 'hoffman': 2128, 'catherine': 719, 'involves': 2348, 'expressed': 1601, 'dave': 1123, 'rooms': 3736, 'express': 1600, 'feet': 1688, 'campbell': 663, 'inner': 2292, 'movement': 2923, 'ego': 1435, 'dances': 1106, 'purely': 3472, 'rain': 3506, 'task': 4368, 'ballet': 389, 'reynolds': 3684, 'bank': 394, 'promising': 3433, 'severe': 3906, 'reaching': 3539, 'curious': 1083, 'unable': 4631, 'adapted': 114, 'jon': 2416, 'voight': 4764, 'lane': 2515, 'lincoln': 2608, 'caliber': 649, 'dramas': 1347, 'redemption': 3578, 'iii': 2227, 'atmospheric': 334, 'nervous': 2999, 'akshay': 169, 'abraham': 69, 'liking': 2604, 'cuba': 1075, 'designs': 1204, 'specific': 4099, 'president': 3378, 'enters': 1496, 'staff': 4138, 'claims': 830, 'walk': 4775, 'thumbs': 4485, 'involve': 2345, 'represent': 3637, 'vivid': 4760, 'nightmares': 3015, 'lynch': 2691, 'freddy': 1826, 'francis': 1818, 'allowing': 191, 'smaller': 4034, 'mentally': 2809, 'gentle': 1890, 'notable': 3041, 'barbara': 397, 'ability': 65, 'engage': 1479, 'stilted': 4190, 'embarrassing': 1454, 'simplistic': 3985, 'hidden': 2096, 'planning': 3291, 'described': 1195, 'balance': 387, 'complicated': 925, 'complexity': 924, 'careful': 688, 'genres': 1889, 'em': 1452, 'annoyed': 248, 'shop': 3945, 'pg': 3250, 'ring': 3698, 'jason': 2383, 'myers': 2952, 'jumps': 2432, 'resolution': 3649, 'scarecrow': 3804, 'chases': 771, 'teachers': 4376, 'needless': 2989, 'followed': 1773, 'cusack': 1088, 'graphics': 1959, 'blowing': 515, 'object': 3066, 'european': 1530, 'north': 3036, 'eerie': 1427, 'woody': 4936, 'imaginative': 2237, 'rap': 3520, 'substance': 4258, 'offensive': 3086, 'nostalgia': 3038, 'offered': 3088, 'canada': 666, 'beloved': 461, 'learns': 2553, 'attempting': 342, 'thru': 4483, 'achieved': 93, 'fresh': 1833, 'ugly': 4625, 'enterprise': 1495, '2nd': 41, 'authority': 360, 'heck': 2071, 'tie': 4488, 'intimate': 2331, 'tense': 4403, 'oliver': 3102, 'hardy': 2037, 'impress': 2250, 'producing': 3417, 'wives': 4918, 'restored': 3659, 'duo': 1386, 'erotic': 1515, 'thrilling': 4474, 'slightest': 4028, 'teacher': 4375, 'phone': 3255, 'calls': 654, 'guilt': 1994, 'bold': 528, 'goldberg': 1933, 'excitement': 1562, 'lies': 2591, 'unintentional': 4658, 'aforementioned': 139, 'stronger': 4230, 'damage': 1099, 'exists': 1573, 'primarily': 3393, 'block': 508, 'required': 3641, 'prevent': 3385, 'constructed': 959, 'reporter': 3636, 'loaded': 2632, 'command': 897, 'strength': 4219, 'gun': 1996, 'massive': 2756, 'presumably': 3380, 'manner': 2729, 'screens': 3832, 'flow': 1762, 'drop': 1369, 'sunshine': 4294, 'bear': 420, 'eyre': 1614, 'solo': 4058, 'mentioning': 2812, 'flaw': 1749, 'risk': 3704, 'repeated': 3631, 'viewings': 4741, 'dare': 1113, 'advance': 127, 'flaws': 1752, 'convinced': 984, 'alexander': 180, 'satisfy': 3790, 'von': 4765, 'providing': 3451, 'powell': 3358, 'sinister': 3998, 'minded': 2850, 'movements': 2924, 'expression': 1602, 'switch': 4339, 'creativity': 1042, 'fetched': 1698, 'kenneth': 2455, 'branagh': 564, 'arrives': 302, 'wearing': 4831, '16': 8, 'cases': 708, 'evidence': 1546, 'ignore': 2224, 'believed': 455, 'weeks': 4839, 'bag': 384, 'album': 175, 'blues': 519, 'shark': 3921, 'deceased': 1146, 'growing': 1983, 'attraction': 350, 'advertising': 132, 'ya': 4976, 'wooden': 4934, 'moody': 2899, 'bound': 553, 'passionate': 3206, 'sudden': 4272, 'dialogues': 1235, 'sexually': 3910, 'location': 2635, 'benefit': 465, 'videos': 4734, 'achievement': 94, 'honor': 2150, 'hardcore': 2034, 'tape': 4365, 'gifted': 1907, 'barry': 401, 'strip': 4228, 'australian': 357, '1972': 18, 'sellers': 3872, 'notably': 3042, 'aunt': 355, 'puts': 3481, 'taxi': 4371, 'fare': 1655, 'streets': 4217, 'spike': 4111, 'dennis': 1179, 'price': 3389, 'concert': 935, 'bbc': 417, 'holds': 2131, 'featured': 1679, 'struggling': 4236, 'introduce': 2336, 'ranks': 3519, 'definite': 1161, 'selling': 3873, 'clues': 865, 'swimming': 4338, 'folk': 1770, 'themes': 4434, 'recording': 3575, 'pink': 3277, 'lively': 2627, 'saturday': 3792, 'productions': 3420, 'signed': 3971, 'multi': 2935, 'station': 4164, 'hook': 2152, 'sell': 3871, 'stooges': 4200, 'convincing': 985, 'characterization': 759, 'performing': 3233, 'beneath': 464, 'contrary': 974, 'prior': 3400, 'landing': 2512, 'mask': 2752, 'possessed': 3347, 'haunting': 2051, 'saga': 3773, 'chicago': 785, 'raising': 3509, 'bottle': 550, 'guard': 1988, 'accompanied': 86, 'included': 2262, 'horrifying': 2167, 'eating': 1413, 'fever': 1699, 'bland': 500, 'worthy': 4956, 'bite': 489, 'nurse': 3063, 'graphic': 1958, 'reflection': 3585, 'cheek': 779, 'marks': 2742, 'population': 3335, '1933': 12, 'ruby': 3749, 'warner': 4799, 'musicals': 2948, 'broadway': 592, 'players': 3299, 'cagney': 646, 'deals': 1137, 'numbers': 3061, 'girlfriend': 1910, 'sharp': 3922, 'double': 1331, 'hugh': 2186, 'nick': 3012, 'arrival': 299, 'spoil': 4121, 'psychic': 3456, 'sidney': 3968, 'lumet': 2688, 'stranger': 4213, 'creating': 1039, 'fitting': 1742, 'wholly': 4874, 'obsessed': 3069, 'mann': 2728, 'shelley': 3928, 'winters': 4901, 'questionable': 3488, 'dan': 1102, 'curtis': 1087, 'bodies': 526, 'exaggerated': 1552, 'freak': 1824, 'latin': 2527, 'finger': 1731, 'gonna': 1936, 'porno': 3337, 'comparing': 913, 'turner': 4607, 'capturing': 679, 'sloppy': 4030, 'superman': 4301, 'tracks': 4545, 'replaced': 3634, 'regarding': 3589, 'glenn': 1918, 'east': 1407, 'criticism': 1063, 'likable': 2598, 'persona': 3239, 'neil': 2995, 'model': 2880, 'felix': 1689, 'successfully': 4267, '1973': 19, 'lewis': 2586, 'retired': 3664, 'walter': 4784, 'matthau': 2771, 'letter': 2581, 'secondly': 3847, 'jobs': 2406, 'rarely': 3524, 'door': 1328, 'failure': 1629, 'reminiscent': 3621, 'chest': 784, 'prove': 3445, 'outer': 3143, 'behave': 445, 'properly': 3437, 'gradually': 1952, 'realizing': 3555, 'ass': 323, 'devil': 1228, 'midnight': 2834, 'cowboy': 1025, 'partly': 3197, 'larger': 2519, 'prostitute': 3440, 'darkness': 1117, 'exist': 1569, 'endearing': 1469, 'pops': 3332, 'thrills': 4475, 'motives': 2916, 'flashbacks': 1747, 'grandmother': 1955, 'relevant': 3604, 'suggested': 4281, 'homosexual': 2145, 'sexuality': 3909, 'bucks': 606, 'revolutionary': 3681, 'tiresome': 4502, 'morgan': 2905, 'freeman': 1829, 'merit': 2816, 'cinematic': 818, 'fortune': 1806, 'coffee': 870, 'hang': 2022, 'eve': 1532, 'travels': 4569, 'miracle': 2860, 'props': 3439, 'author': 359, 'hurts': 2203, 'sports': 4130, 'boxing': 556, 'sullivan': 4288, 'staged': 4140, 'mst3k': 2932, 'matched': 2763, 'nominated': 3025, 'decision': 1151, 'focusing': 1769, 'topic': 4526, 'womens': 4924, 'dragon': 1344, 'italy': 2368, 'clean': 838, 'demands': 1175, 'assume': 328, 'manage': 2722, 'staring': 4152, 'aid': 160, 'walls': 4783, 'rubber': 3747, 'wide': 4880, 'explicit': 1591, 'gotten': 1947, 'spy': 4135, 'cleverly': 842, 'morris': 2908, 'disc': 1278, 'banned': 395, 'sin': 3988, 'tall': 4362, 'sixties': 4011, 'unit': 4663, 'trashy': 4566, 'nude': 3058, 'catchy': 717, 'lower': 2677, 'fulci': 1845, 'giallo': 1904, 'illogical': 2231, 'howard': 2182, 'stupidity': 4248, 'wrestling': 4966, 'witches': 4910, 'lone': 2642, 'warrior': 4802, 'witch': 4909, 'forces': 1788, 'theyll': 4444, 'web': 4833, 'prequel': 3372, 'menacing': 2807, 'strictly': 4223, 'honesty': 2148, 'exposed': 1598, 'outfit': 3144, 'snl': 4044, 'screenwriter': 3833, 'engaged': 1480, 'blows': 517, 'lasted': 2522, 'connected': 945, 'theaters': 4428, 'provoking': 3452, 'priest': 3392, 'titled': 4505, 'pathetic': 3210, 'bothered': 549, 'mainstream': 2709, 'embarrassment': 1455, 'confused': 941, 'competent': 917, 'philosophical': 3253, '1960s': 15, 'huh': 2187, 'ah': 158, 'forgot': 1796, 'cube': 1076, 'angry': 238, 'escapes': 1519, 'hunters': 2200, 'sentence': 3881, 'clint': 850, 'baker': 385, 'locations': 2636, 'hoping': 2160, 'andrews': 229, 'patients': 3212, 'mysteries': 2954, 'acceptable': 81, 'kept': 2456, 'pleasantly': 3303, 'disneys': 1290, 'extraordinary': 1607, 'reminds': 3620, 'delightful': 1168, 'imagined': 2239, 'rochester': 3719, 'discussion': 1284, '35': 45, 'dalton': 1098, 'crucial': 1068, 'blown': 516, 'punch': 3466, 'equivalent': 1512, 'forgettable': 1794, 'jungle': 2434, 'bare': 398, 'idiotic': 2219, 'gadget': 1860, 'accept': 80, 'stiller': 4189, 'politically': 3325, 'bedroom': 437, 'members': 2801, 'companion': 909, 'philip': 3252, 'nights': 3016, 'blend': 504, 'slick': 4026, 'stellar': 4174, 'daughters': 1122, 'arms': 294, 'types': 4622, 'frustration': 1843, 'locked': 2637, 'ham': 2011, 'laura': 2536, 'bath': 411, 'island': 2361, 'rat': 3525, 'vietnam': 4735, 'generations': 1884, 'burt': 629, 'spanish': 4092, 'jesus': 2399, 'lying': 2690, 'bottom': 551, 'attached': 336, 'randomly': 3515, 'tedious': 4387, 'bits': 490, 'authentic': 358, 'sucks': 4271, 'fatal': 1664, 'sleazy': 4023, 'kinds': 2478, 'writes': 4970, 'mate': 2765, 'marie': 2737, 'attracted': 349, 'behavior': 446, 'brazil': 568, 'doll': 1313, 'ties': 4490, 'winds': 4895, 'devoted': 1231, 'faced': 1617, 'doctors': 1305, 'flynn': 1765, 'scope': 3821, 'hearted': 2065, 'handed': 2016, 'portion': 3338, 'hal': 2006, 'worry': 4950, 'visually': 4758, 'sympathetic': 4342, 'trademark': 4548, 'fabulous': 1615, 'awfully': 373, 'sean': 3840, 'ford': 1789, 'focused': 1767, 'frequent': 1831, 'bond': 532, 'seed': 3856, 'mexico': 2827, 'businessman': 634, 'techniques': 4384, 'projects': 3428, 'player': 3298, 'appalling': 268, 'service': 3896, 'masterpieces': 2760, 'recorded': 3574, 'nostalgic': 3039, 'superbly': 4297, 'caring': 691, 'bacall': 377, 'appealing': 272, 'lesson': 2577, 'teenager': 4390, 'anne': 246, 'secretary': 3850, 'mistress': 2874, 'domestic': 1318, 'ann': 244, 'executive': 1567, 'overlooked': 3154, '2000': 30, 'drives': 1367, 'remote': 3622, 'steps': 4177, 'garden': 1872, 'nightmare': 3014, 'suspects': 4328, 'shock': 3938, 'spends': 4107, 'molly': 2884, 'werent': 4849, 'scientific': 3817, 'karloff': 2445, 'lugosi': 2686, 'machines': 2694, 'unaware': 4632, 'incoherent': 2265, 'slaughter': 4021, 'symbolism': 4341, 'tad': 4347, 'tons': 4520, 'goofy': 1939, 'bands': 392, 'tour': 4538, 'event': 1535, 'ramones': 3512, 'consists': 955, 'logical': 2639, 'influence': 2286, 'coherent': 871, 'uncomfortable': 4637, 'composed': 926, 'references': 3583, 'thick': 4447, 'directions': 1262, 'forgive': 1795, 'blair': 497, 'serial': 3889, 'established': 1524, 'flashback': 1746, 'conversations': 981, 'wishing': 4907, 'arm': 292, 'wishes': 4906, 'related': 3594, 'urge': 4689, 'environment': 1505, 'lucas': 2680, 'dig': 1250, 'assumed': 329, 'groups': 1981, 'honest': 2146, 'antics': 255, 'priceless': 3390, 'suspend': 4329, 'scripted': 3835, 'amazed': 208, 'performers': 3232, 'blockbuster': 509, 'returns': 3668, 'greek': 1970, 'demented': 1176, 'dealing': 1136, 'vhs': 4725, 'protagonist': 3441, 'leg': 2562, 'claim': 828, 'absence': 70, 'suspicious': 4332, 'potentially': 3356, 'innovative': 2295, 'proper': 3436, 'admittedly': 123, 'witnessed': 4915, 'ned': 2986, 'farm': 1656, 'chief': 788, 'surrounded': 4318, 'reasonable': 3558, 'de': 1131, 'imagination': 2236, 'denzel': 1181, 'fault': 1668, 'guessed': 1990, 'disappoint': 1272, 'preview': 3386, 'combined': 885, 'lawrence': 2539, 'dropping': 1371, 'donald': 1321, 'wind': 4893, 'destroyed': 1214, 'ignored': 2225, 'opinions': 3119, 'pushed': 3478, 'sappy': 3784, 'swear': 4334, 'safety': 3772, 'bet': 470, 'stole': 4194, 'position': 3345, 'knife': 2487, 'condition': 937, 'estate': 1525, 'reed': 3580, 'photo': 3257, 'greedy': 1969, 'showed': 3956, 'nail': 2957, 'imitation': 2241, 'remarkably': 3614, 'wanna': 4786, 'theyd': 4443, 'parallel': 3185, 'corporate': 998, 'dancer': 1104, 'talents': 4356, 'returning': 3667, 'initially': 2291, 'pearl': 3220, 'americas': 215, 'chick': 786, 'holly': 2136, 'appeared': 276, 'lay': 2542, 'reached': 3537, 'category': 718, 'jeremy': 2394, 'mail': 2706, 'fifteen': 1706, 'dealt': 1138, 'advanced': 128, 'developing': 1224, 'greatly': 1967, 'hopefully': 2157, 'wedding': 4836, 'shelf': 3926, 'contain': 962, 'native': 2972, 'aspects': 322, 'dire': 1257, 'rid': 3690, 'grandfather': 1954, 'chosen': 805, 'utter': 4701, 'revealing': 3672, 'spoken': 4126, 'wood': 4933, 'phony': 3256, 'jaw': 2384, 'tonight': 4519, 'courage': 1018, 'amateur': 206, '1984': 23, 'prince': 3396, 'rendition': 3625, 'covered': 1023, 'rank': 3518, 'clown': 862, 'wandering': 4785, 'plague': 3285, 'firstly': 1737, 'contrast': 975, 'splendid': 4119, 'rocket': 3721, 'hints': 2113, 'samurai': 3779, 'instinct': 2308, 'survival': 4320, 'chess': 783, 'melting': 2799, 'terror': 4412, 'boss': 546, 'sympathy': 4343, '14': 6, 'soft': 4051, 'count': 1010, 'ps': 3453, 'bus': 631, 'round': 3742, 'hamlet': 2013, 'shakespeare': 3915, 'melodrama': 2797, 'trapped': 4564, 'lemmon': 2567, 'weakest': 4825, 'heston': 2094, 'stiff': 4187, '1st': 28, 'rose': 3739, 'purchase': 3469, 'kinda': 2477, 'training': 4558, 'boot': 538, 'tomatoes': 4515, 'survivors': 4325, 'downhill': 1336, 'plant': 3293, 'handle': 2018, 'connect': 944, 'ho': 2127, 'formula': 1802, 'ron': 3734, 'stress': 4220, 'park': 3190, 'nancy': 2964, 'walker': 4778, 'methods': 2825, 'seat': 3845, 'gray': 1963, 'birthday': 487, 'arrested': 298, 'stopped': 4202, 'poem': 3312, 'india': 2273, 'chaos': 755, 'del': 1165, 'flies': 1756, 'serving': 3897, 'floating': 1758, 'enjoying': 1487, 'simplicity': 3984, 'mistakes': 2873, 'meaningful': 2781, 'challenge': 743, 'jamie': 2379, 'fish': 1738, 'mad': 2696, 'terrifying': 4410, 'undoubtedly': 4648, 'sucked': 4270, 'proof': 3434, 'lazy': 2543, 'basement': 405, 'sink': 3999, 'sleeping': 4025, 'cash': 709, 'blond': 510, 'matters': 2770, 'alive': 186, 'karen': 2444, 'term': 4405, 'visits': 4756, '75': 57, '13th': 5, 'fest': 1696, 'piano': 3264, 'flop': 1760, 'ball': 388, 'hitchcock': 2123, 'drawing': 1350, 'gerard': 1895, 'pamela': 3179, 'illegal': 2229, 'blacks': 494, 'spoof': 4127, 'succeeds': 4264, 'messed': 2821, 'rex': 3683, 'unsettling': 4679, 'sold': 4052, 'capital': 673, 'punishment': 3467, 'row': 3744, 'aint': 163, 'hanks': 2025, 'argue': 290, 'matches': 2764, 'developed': 1223, 'angels': 234, 'promises': 3432, 'meaningless': 2782, 'exercise': 1568, 'hudson': 2184, 'resist': 3648, 'prepared': 3371, 'blew': 505, 'bird': 484, 'hills': 2109, 'relatives': 3601, 'wed': 4835, 'hype': 2207, 'descent': 1193, 'sadistic': 3768, 'ha': 2002, 'via': 4726, 'truck': 4595, 'carrying': 701, 'drops': 1372, 'levels': 2585, '20th': 38, 'eighties': 1437, 'icon': 2211, 'kim': 2475, 'schools': 3814, 'link': 2613, 'entertain': 1497, 'obsession': 3070, 'consequences': 947, 'blade': 495, 'neo': 2998, 'screening': 3830, 'glover': 1923, 'emma': 1457, 'literature': 2623, 'endure': 1475, 'presentation': 3375, 'moore': 2901, 'nomination': 3026, 'arthur': 305, 'wished': 4905, 'gas': 1874, 'minimum': 2856, 'directly': 1263, 'hyde': 2206, 'bob': 524, 'colour': 880, 'causes': 725, 'elm': 1447, 'awe': 370, 'aliens': 184, 'climactic': 848, 'robbins': 3712, 'reads': 3545, 'confusion': 943, 'boom': 537, 'bettie': 473, 'bumbling': 622, 'documentaries': 1306, '1968': 16, 'pointed': 3317, 'virginia': 4750, 'harris': 2038, 'responsibility': 3655, 'ambitious': 211, 'sons': 4073, 'union': 4661, 'bar': 396, 'load': 2631, 'williams': 4888, 'football': 1783, 'hopper': 2161, 'devoid': 1230, 'toy': 4542, 'stretched': 4222, 'airplane': 166, 'stones': 4198, 'equal': 1509, 'intent': 2318, 'paranoia': 3186, 'usa': 4691, 'nazis': 2978, 'jesse': 2397, 'maria': 2736, 'mindless': 2851, 'limits': 2607, 'showdown': 3955, 'laurel': 2537, 'fu': 1844, 'portray': 3340, 'elvis': 1451, 'helen': 2075, 'mass': 2753, 'teaching': 4377, 'gotta': 1946, 'loads': 2633, 'bore': 540, 'guts': 1999, 'logic': 2638, 'souls': 4080, 'loosely': 2651, 'lie': 2590, 'metal': 2823, 'vacation': 4704, 'happiness': 2031, 'entry': 1504, 'twins': 4616, 'mafia': 2700, 'principal': 3398, 'depressed': 1187, 'cure': 1081, 'report': 3635, 'affect': 136, 'armed': 293, 'destroy': 1213, 'trained': 4557, 'liberal': 2588, 'namely': 2962, 'incomprehensible': 2267, 'card': 681, 'glimpse': 1919, 'wounded': 4961, 'paltrow': 3178, 'rush': 3759, 'interpretation': 2328, 'species': 4098, 'fx': 1858, 'philosophy': 3254, 'wore': 4939, 'awake': 365, 'brutal': 603, 'tommy': 4516, 'likewise': 2603, 'internet': 2327, 'whereas': 4865, 'primary': 3394, 'admire': 121, 'presented': 3376, 'generated': 1882, 'nazi': 2977, 'bitter': 491, 'couldve': 1009, 'exposure': 1599, 'sitcom': 4004, 'fix': 1744, 'amy': 222, 'identify': 2216, 'ralph': 3510, 'richardson': 3688, 'costume': 1005, 'heights': 2073, 'portrays': 3344, 'mill': 2845, 'judging': 2425, 'blow': 514, 'farce': 1654, 'attitude': 346, 'dating': 1120, 'abc': 63, 'atrocious': 335, 'relationships': 3598, 'suffer': 4275, 'uninteresting': 4660, 'inane': 2258, 'stinks': 4192, 'curse': 1086, 'classes': 834, 'homeless': 2143, 'chooses': 800, 'fairy': 1632, 'shocked': 3939, 'shape': 3919, '90s': 61, 'niro': 3019, 'beliefs': 452, 'washington': 4806, 'females': 1694, 'slave': 4022, 'evening': 1534, 'susan': 4326, 'claire': 831, 'danes': 1108, 'patrick': 3213, 'lessons': 2578, 'maintain': 2710, 'understandable': 4644, 'directs': 1267, 'property': 3438, 'delivery': 1173, 'letting': 2583, 'flawless': 1751, 'survivor': 4324, 'crash': 1033, 'wwii': 4975, 'desperately': 1209, 'dozen': 1338, 'bigger': 479, 'neighbor': 2992, 'pitch': 3279, 'wicked': 4879, 'fame': 1642, 'raped': 3522, 'resources': 3651, 'centers': 734, 'bible': 477, 'hired': 2117, 'determined': 1221, 'familys': 1646, 'excessive': 1560, 'depicts': 1186, 'kissing': 2484, 'reactions': 3542, 'germans': 1897, 'hitler': 2124, 'scheme': 3812, 'elegant': 1441, 'inspector': 2299, '1983': 22, 'consistent': 953, 'enthusiasm': 1501, 'arrogant': 303, 'complain': 919, 'basis': 408, 'wacky': 4769, 'crowd': 1067, 'lou': 2663, 'broke': 593, 'widmark': 4882, 'lion': 2614, 'ryan': 3765, 'fisher': 1739, 'embarrassed': 1453, 'germany': 1898, 'bo': 521, 'carradine': 695, 'roger': 3724, 'thousand': 4465, 'discuss': 1283, 'transfer': 4559, 'worthwhile': 4955, 'anna': 245, 'cheated': 775, 'justify': 2439, 'propaganda': 3435, 'fox': 1814, 'pat': 3208, 'neighbors': 2994, 'shirley': 3936, 'develops': 1226, 'horse': 2170, 'opportunities': 3120, 'troubles': 4594, 'photographed': 3258, 'rangers': 3517, 'idiots': 2220, 'drew': 1360, 'charismatic': 763, 'pseudo': 3454, 'eva': 1531, 'unbearable': 4633, 'ought': 3138, 'beings': 449, 'restaurant': 3658, 'heat': 2067, 'roman': 3731, 'unreal': 4676, 'advise': 134, 'sorts': 4078, 'vaguely': 4706, 'pan': 3180, 'kung': 2498, 'exotic': 1574, 'importantly': 2248, 'stanwyck': 4149, 'trail': 4553, 'craft': 1028, 'savage': 3793, 'shadows': 3913, 'hooked': 2153, 'suspenseful': 4331, 'lucy': 2684, 'unoriginal': 4673, 'bourne': 554, 'spell': 4104, 'technique': 4383, 'mob': 2879, 'ian': 2209, 'tribute': 4581, 'translation': 4562, 'marketing': 2741, 'mature': 2773, 'competition': 918, 'demon': 1177, 'spirited': 4114, 'civil': 826, 'spain': 4091, 'brutally': 604, 'aimed': 162, 'louise': 2666, 'pal': 3177, 'unseen': 4678, 'stops': 4203, 'mechanical': 2788, 'sutherland': 4333, 'bat': 410, 'paulie': 3215, 'beach': 419, 'bobby': 525, 'emily': 1456, 'cynical': 1093, 'misery': 2865, 'heroic': 2090, 'virtually': 4751, 'plight': 3308, 'testament': 4417, 'destruction': 1216, 'measure': 2786, 'irish': 2353, 'robin': 3715, 'homer': 2144, 'angela': 232, 'worker': 4942, 'models': 2881, 'jay': 2386, 'fed': 1682, 'happily': 2030, 'intensity': 2317, 'moronic': 2907, 'retarded': 3663, 'carrie': 697, 'fury': 1855, 'suggests': 4282, '70': 55, 'inevitable': 2282, 'alright': 198, 'dust': 1388, 'displayed': 1292, 'sinatra': 3989, 'taught': 4370, 'path': 3209, 'wealth': 4826, 'stayed': 4167, 'bears': 421, 'wannabe': 4787, 'reveals': 3673, 'wrapped': 4964, 'desperation': 1210, 'seeks': 3860, 'alfred': 181, 'ripped': 3701, 'dutch': 1389, 'nonsensical': 3031, 'settle': 3902, 'bollywood': 530, 'masses': 2755, 'kicked': 2461, 'vampires': 4712, 'san': 3780, 'ashley': 313, 'twin': 4615, 'overrated': 3156, 'square': 4136, 'spending': 4106, 'jake': 2377, 'peace': 3219, 'soviet': 4089, 'christians': 809, 'backdrop': 379, 'royal': 3746, 'useful': 4694, 'influenced': 2287, 'respected': 3653, 'versus': 4722, 'godzilla': 1929, 'poetry': 3314, 'introduces': 2338, 'tends': 4402, 'worthless': 4954, 'cell': 730, 'accomplished': 87, 'underlying': 4641, 'earl': 1398, 'dorothy': 1330, 'wing': 4896, 'doc': 1303, 'cg': 739, 'diamond': 1236, 'corrupt': 1001, 'push': 3477, 'drivel': 1364, 'fields': 1705, 'montana': 2895, 'creep': 1051, 'timeless': 4496, 'hoped': 2156, 'silver': 3977, 'couples': 1017, 'senseless': 3878, 'mario': 2738, 'deaf': 1134, 'dolls': 1316, 'cats': 721, 'immensely': 2243, 'museum': 2945, 'gothic': 1945, 'stood': 4199, 'championship': 745, 'busy': 635, 'portrait': 3339, 'peters': 3248, 'forty': 1807, 'toys': 4543, 'worried': 4949, 'convey': 982, 'ruth': 3763, 'columbo': 881, 'joseph': 2419, 'foster': 1809, 'angel': 231, 'laughably': 2531, 'household': 2179, 'financial': 1725, 'empathy': 1462, 'robinson': 3716, 'fond': 1776, 'strangers': 4214, 'khan': 2459, 'segments': 3868, 'increasingly': 2268, 'lengthy': 2570, 'guarantee': 1987, 'satire': 3788, 'florida': 1761, 'waited': 4771, 'wondered': 4927, 'tooth': 4524, 'panic': 3181, 'macy': 2695, 'suffice': 4279, 'steven': 4182, 'satan': 3787, '1999': 27, 'oz': 3160, 'michelle': 2830, 'displays': 1293, 'tap': 4364, 'incompetent': 2266, 'pretend': 3381, 'blunt': 520, 'performs': 3234, 'storytelling': 4209, 'press': 3379, 'nyc': 3065, 'hundreds': 2196, 'waitress': 4773, 'ideal': 2214, 'operation': 3117, 'chased': 770, 'holiday': 2134, 'yelling': 4980, 'sarah': 3785, 'monkey': 2890, 'streisand': 4218, 'reaches': 3538, 'commit': 904, 'wizard': 4919, 'smooth': 4041, 'plastic': 3294, 'beating': 425, 'scooby': 3820, 'doo': 1325, 'kapoor': 2443, 'illness': 2230, 'doors': 1329, 'sandra': 3782, 'navy': 2976, 'waters': 4817, 'luke': 2687, 'website': 4834, 'access': 83, 'league': 2549, 'resort': 3650, 'lol': 2640, 'masterful': 2758, 'francisco': 1819, 'burton': 630, 'grab': 1949, 'education': 1424, 'superhero': 4299, 'et': 1526, 'pulp': 3465, 'chapter': 757, 'petty': 3249, 'abusive': 75, 'nation': 2969, 'picks': 3268, 'lit': 2621, 'intrigue': 2333, 'polanski': 3321, 'jenny': 2393, 'bull': 619, 'tarzan': 4367, 'ape': 266, 'ears': 1402, 'elephant': 1444, 'todd': 4510, 'rocky': 3723, 'horrendous': 2162, 'audio': 354, 'steel': 4173, 'travesty': 4570, 'jazz': 2387, 'lacked': 2503, 'battles': 415, 'dub': 1378, 'hilariously': 2107, 'inducing': 2279, 'dancers': 1105, 'bela': 450, 'defined': 1160, 'rushed': 3760, 'demons': 1178, 'johnson': 2411, 'unhappy': 4656, 'insulting': 2310, 'kubrick': 2496, 'wendy': 4846, 'unfolds': 4651, 'profound': 3423, 'buff': 611, 'che': 773, 'gandhi': 1866, 'simpson': 3987, 'transformation': 4560, 'robbery': 3711, 'gundam': 1997, 'sounding': 4083, 'oscars': 3134, 'appreciation': 281, 'frustrated': 1842, 'shortly': 3947, 'thrillers': 4473, 'kennedy': 2454, 'raise': 3507, 'desired': 1206, 'carrey': 696, 'landscapes': 2514, 'draws': 1352, 'doubts': 1333, 'norman': 3035, 'scares': 3806, 'harder': 2035, 'exploration': 1593, 'proceedings': 3410, 'robots': 3718, 'ken': 2453, 'derek': 1192, 'challenging': 744, 'journalist': 2420, 'domino': 1319, 'officers': 3093, 'mighty': 2836, 'mentions': 2813, 'kitchen': 2485, 'promised': 3431, 'rats': 3531, 'daddy': 1096, 'someones': 4065, 'victoria': 4732, 'spoke': 4125, 'secretly': 3851, 'invasion': 2340, 'formulaic': 1803, 'appearing': 277, 'australia': 356, 'jessica': 2398, 'riveting': 3708, 'alert': 178, 'sacrifice': 3766, 'installment': 2303, 'distinct': 1296, 'elderly': 1440, 'mexican': 2826, 'destroying': 1215, 'conceived': 929, 'odds': 3082, 'university': 4667, 'racial': 3501, 'decisions': 1152, 'seagal': 3839, 'bakshi': 386, 'definition': 1163, 'belong': 459, 'mayor': 2777, 'spider': 4109, 'disappear': 1270, 'miserable': 2863, 'miike': 2837, 'storm': 4206, 'similarly': 3980, 'rambo': 3511, 'cried': 1054, 'manhattan': 2726, 'succeeded': 4263, 'subplots': 4256, 'twilight': 4614, 'modesty': 2883, 'beaten': 424, 'thief': 4448, 'whale': 4857, 'butler': 637, 'mansion': 2731, 'weapons': 4829, 'chorus': 803, 'kirk': 2482, 'chicks': 787, 'jumping': 2431, 'lena': 2568, 'jewish': 2401, 'global': 1920, 'letters': 2582, 'facing': 1620, 'rotten': 3740, 'celebrity': 729, 'wisdom': 4902, 'duty': 1390, 'pokemon': 3320, 'terry': 4415, 'unpredictable': 4675, 'sincere': 3991, 'explored': 1595, 'earned': 1401, 'scrooge': 3837, 'wells': 4845, 'da': 1094, 'offended': 3085, 'fonda': 1777, 'craig': 1030, 'hart': 2041, 'edie': 1419, 'mildred': 2841, 'troops': 4591, 'attend': 344, 'dressing': 1359, 'inferior': 2285, 'scottish': 3825, 'counter': 1011, 'grinch': 1975, 'amitabh': 216, 'blob': 507, 'doom': 1326, 'warmth': 4796, 'brady': 561, 'holmes': 2139, 'destiny': 1212, 'apes': 267}\n"
     ]
    }
   ],
   "source": [
    "print(str(vocabulary))"
   ]
  },
  {
   "cell_type": "markdown",
   "metadata": {},
   "source": [
    "Once you have added the endpoint name to the Lambda function, click on **Save**. Your Lambda function is now up and running. Next we need to create a way for our web app to execute the Lambda function."
   ]
  },
  {
   "cell_type": "markdown",
   "metadata": {},
   "source": [
    "### Setting up API Gateway\n",
    "\n",
    "Now that our Lambda function is set up, it is time to create a new API using API Gateway that will trigger the Lambda function we have just created.\n",
    "\n",
    "Using AWS Console, navigate to **Amazon API Gateway** and then click on **Get started**.\n",
    "\n",
    "On the next page, make sure that **New API** is selected and give the new api a name, for example, `sentiment_analysis_web_app`. Then, click on **Create API**.\n",
    "\n",
    "Now we have created an API, however it doesn't currently do anything. What we want it to do is to trigger the Lambda function that we created earlier.\n",
    "\n",
    "Select the **Actions** dropdown menu and click **Create Method**. A new blank method will be created, select its dropdown menu and select **POST**, then click on the check mark beside it.\n",
    "\n",
    "For the integration point, make sure that **Lambda Function** is selected and click on the **Use Lambda Proxy integration**. This option makes sure that the data that is sent to the API is then sent directly to the Lambda function with no processing. It also means that the return value must be a proper response object as it will also not be processed by API Gateway.\n",
    "\n",
    "Type the name of the Lambda function you created earlier into the **Lambda Function** text entry box and then click on **Save**. Click on **OK** in the pop-up box that then appears, giving permission to API Gateway to invoke the Lambda function you created.\n",
    "\n",
    "The last step in creating the API Gateway is to select the **Actions** dropdown and click on **Deploy API**. You will need to create a new Deployment stage and name it anything you like, for example `prod`.\n",
    "\n",
    "You have now successfully set up a public API to access your SageMaker model. Make sure to copy or write down the URL provided to invoke your newly created public API as this will be needed in the next step. This URL can be found at the top of the page, highlighted in blue next to the text **Invoke URL**."
   ]
  },
  {
   "cell_type": "markdown",
   "metadata": {},
   "source": [
    "## Step 7: Deploying our web app\n",
    "\n",
    "Now that we have a publicly available API, we can start using it in a web app. For our purposes, we have provided a simple static html file which can make use of the public api you created earlier.\n",
    "\n",
    "In the `website` folder there should be a file called `index.html`. Download the file to your computer and open that file up in a text editor of your choice. There should be a line which contains **\\*\\*REPLACE WITH PUBLIC API URL\\*\\***. Replace this string with the url that you wrote down in the last step and then save the file.\n",
    "\n",
    "Now, if you open `index.html` on your local computer, your browser will behave as a local web server and you can use the provided site to interact with your SageMaker model.\n",
    "\n",
    "If you'd like to go further, you can host this html file anywhere you'd like, for example using github or hosting a static site on Amazon's S3. Once you have done this you can share the link with anyone you'd like and have them play with it too!\n",
    "\n",
    "> **Important Note** In order for the web app to communicate with the SageMaker endpoint, the endpoint has to actually be deployed and running. This means that you are paying for it. Make sure that the endpoint is running when you want to use the web app but that you shut it down when you don't need it, otherwise you will end up with a surprisingly large AWS bill."
   ]
  },
  {
   "cell_type": "markdown",
   "metadata": {},
   "source": [
    "### Delete the endpoint\n",
    "\n",
    "Remember to always shut down your endpoint if you are no longer using it. You are charged for the length of time that the endpoint is running so if you forget and leave it on you could end up with an unexpectedly large bill."
   ]
  },
  {
   "cell_type": "code",
   "execution_count": 50,
   "metadata": {},
   "outputs": [],
   "source": [
    "xgb_predictor.delete_endpoint()"
   ]
  },
  {
   "cell_type": "markdown",
   "metadata": {},
   "source": [
    "## Optional: Clean up\n",
    "\n",
    "The default notebook instance on SageMaker doesn't have a lot of excess disk space available. As you continue to complete and execute notebooks you will eventually fill up this disk space, leading to errors which can be difficult to diagnose. Once you are completely finished using a notebook it is a good idea to remove the files that you created along the way. Of course, you can do this from the terminal or from the notebook hub if you would like. The cell below contains some commands to clean up the created files from within the notebook."
   ]
  },
  {
   "cell_type": "code",
   "execution_count": null,
   "metadata": {},
   "outputs": [],
   "source": [
    "# First we will remove all of the files contained in the data_dir directory\n",
    "!rm $data_dir/*\n",
    "\n",
    "# And then we delete the directory itself\n",
    "!rmdir $data_dir\n",
    "\n",
    "# Similarly we remove the files in the cache_dir directory and the directory itself\n",
    "!rm $cache_dir/*\n",
    "!rmdir $cache_dir"
   ]
  },
  {
   "cell_type": "code",
   "execution_count": null,
   "metadata": {},
   "outputs": [],
   "source": []
  }
 ],
 "metadata": {
  "kernelspec": {
   "display_name": "conda_python3",
   "language": "python",
   "name": "conda_python3"
  },
  "language_info": {
   "codemirror_mode": {
    "name": "ipython",
    "version": 3
   },
   "file_extension": ".py",
   "mimetype": "text/x-python",
   "name": "python",
   "nbconvert_exporter": "python",
   "pygments_lexer": "ipython3",
   "version": "3.6.10"
  }
 },
 "nbformat": 4,
 "nbformat_minor": 2
}
